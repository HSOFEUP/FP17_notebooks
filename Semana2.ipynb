{
 "cells": [
  {
   "cell_type": "markdown",
   "metadata": {
    "slideshow": {
     "slide_type": "slide"
    }
   },
   "source": [
    "# <center>Programming Foundations <br/> @ LEIC/LETI</center>\n",
    "\n",
    "<br>\n",
    "<br>\n",
    "\n",
    "## <center>Week 2</center>"
   ]
  },
  {
   "cell_type": "markdown",
   "metadata": {
    "slideshow": {
     "slide_type": "slide"
    }
   },
   "source": [
    "# <center>Previously on FP</center>\n",
    "\n",
    "- Computers and programming languages\n",
    "- Algorithms\n",
    "- Programs \n",
    "- Lexicon, Syntax and Semantics. Errors. \n",
    "- BNF"
   ]
  },
  {
   "cell_type": "markdown",
   "metadata": {
    "slideshow": {
     "slide_type": "slide"
    }
   },
   "source": [
    "**Sidenote:** For simplicity of demonstration, in the lectures, I will be using [Jupyter Notebooks](http://jupyter.org/). All the examples work using either the Python Shell or any IDE (such as, PyCharm or Wing101). \n",
    "\n",
    "<br>\n",
    "\n",
    "<center>![shell](imgs/shell.png)</center>\n"
   ]
  },
  {
   "cell_type": "markdown",
   "metadata": {
    "slideshow": {
     "slide_type": "slide"
    }
   },
   "source": [
    "# <center>Basic Programming Elements</center>\n",
    "\n",
    "<br>\n",
    "\n",
    "# <center>¿¿¿ Why Python ???</center>\n",
    "\n",
    "<br>\n",
    "<br>\n",
    "\n",
    "<center>![pythonvsjava](imgs/pythonVsJava.jpg)</center>\n"
   ]
  },
  {
   "cell_type": "markdown",
   "metadata": {
    "slideshow": {
     "slide_type": "slide"
    }
   },
   "source": [
    "#### Reasons: \n",
    "- Easy to learn\n",
    "- Efficient and Fast\n",
    "- Strongly and dynamically typed\n",
    "- Offers multiple paradigms (functional, object-oriented, imperative, ...)\n",
    "- Widely used\n",
    "- Portable\n",
    "\n",
    "\n",
    "\n",
    "- C is much faster, but much more difficult to master\n",
    "- Java is about as fast, but harder to use, and verbose. "
   ]
  },
  {
   "cell_type": "markdown",
   "metadata": {
    "slideshow": {
     "slide_type": "slide"
    }
   },
   "source": [
    "## <center>Expressions</center>\n",
    "\n",
    "<br/>\n",
    "<br/>\n",
    "\n",
    "<center>```<expression> ::= <constant> | <composed expression> | <name> | <function>```</center>\n",
    "\n",
    "\n",
    "<br/>\n",
    "<br/>\n",
    "<br/>\n",
    "PS - BNFs of the different non-terminal symbols can be found in the book. "
   ]
  },
  {
   "cell_type": "markdown",
   "metadata": {
    "slideshow": {
     "slide_type": "slide"
    }
   },
   "source": [
    "## Expressions: constants\n",
    "\n",
    "- Numbers\n",
    "    - 2016\n",
    "    - 2\n",
    "    - 2.0\n",
    "    - -2.0\n",
    "    - +2.0\n",
    "    - 10e-12\n",
    "    - 655484877641416186376754588877162243232221200091999228887333\n",
    "    - 0.00000000000000000000000000000000000001"
   ]
  },
  {
   "cell_type": "code",
   "execution_count": 1,
   "metadata": {
    "slideshow": {
     "slide_type": "slide"
    }
   },
   "outputs": [
    {
     "data": {
      "text/plain": [
       "1e-38"
      ]
     },
     "execution_count": 1,
     "metadata": {},
     "output_type": "execute_result"
    }
   ],
   "source": [
    "0.00000000000000000000000000000000000001"
   ]
  },
  {
   "cell_type": "markdown",
   "metadata": {
    "slideshow": {
     "slide_type": "slide"
    }
   },
   "source": [
    "- Logic values\n",
    "    - True\n",
    "    - False\n",
    "    - What about: 'true' and 'false' ?"
   ]
  },
  {
   "cell_type": "code",
   "execution_count": 2,
   "metadata": {
    "slideshow": {
     "slide_type": "slide"
    }
   },
   "outputs": [
    {
     "data": {
      "text/plain": [
       "True"
      ]
     },
     "execution_count": 2,
     "metadata": {},
     "output_type": "execute_result"
    }
   ],
   "source": [
    "True"
   ]
  },
  {
   "cell_type": "code",
   "execution_count": 3,
   "metadata": {
    "slideshow": {
     "slide_type": "subslide"
    }
   },
   "outputs": [
    {
     "ename": "NameError",
     "evalue": "name 'true' is not defined",
     "output_type": "error",
     "traceback": [
      "\u001b[0;31m---------------------------------------------------------------------------\u001b[0m",
      "\u001b[0;31mNameError\u001b[0m                                 Traceback (most recent call last)",
      "\u001b[0;32m<ipython-input-3-74d9a83219ca>\u001b[0m in \u001b[0;36m<module>\u001b[0;34m()\u001b[0m\n\u001b[0;32m----> 1\u001b[0;31m \u001b[0mtrue\u001b[0m\u001b[0;34m\u001b[0m\u001b[0m\n\u001b[0m",
      "\u001b[0;31mNameError\u001b[0m: name 'true' is not defined"
     ]
    }
   ],
   "source": [
    "true"
   ]
  },
  {
   "cell_type": "markdown",
   "metadata": {
    "slideshow": {
     "slide_type": "slide"
    }
   },
   "source": [
    "- Strings\n",
    "    - 'Hello'\n",
    "    - \"Hello\""
   ]
  },
  {
   "cell_type": "code",
   "execution_count": 4,
   "metadata": {
    "slideshow": {
     "slide_type": "slide"
    }
   },
   "outputs": [
    {
     "data": {
      "text/plain": [
       "'Hello'"
      ]
     },
     "execution_count": 4,
     "metadata": {},
     "output_type": "execute_result"
    }
   ],
   "source": [
    "\"Hello\""
   ]
  },
  {
   "cell_type": "code",
   "execution_count": 5,
   "metadata": {
    "slideshow": {
     "slide_type": "subslide"
    }
   },
   "outputs": [
    {
     "data": {
      "text/plain": [
       "'Hello'"
      ]
     },
     "execution_count": 5,
     "metadata": {},
     "output_type": "execute_result"
    }
   ],
   "source": [
    "'Hello'"
   ]
  },
  {
   "cell_type": "markdown",
   "metadata": {
    "slideshow": {
     "slide_type": "slide"
    }
   },
   "source": [
    "## Expressions: composed\n",
    "\n",
    "<br/>\n",
    "\n",
    "\n",
    "```<expressão composta> ::=\n",
    "    <operador> <expressão> |\n",
    "    <operador> (<expressão>) |\n",
    "    <expressão> <operador> <expressão> |\n",
    "    (<expressão> <operador> <expressão>)```\n",
    "    \n",
    "<br/>\n",
    "\n",
    "- 2012 - 1958\n",
    "- 3 * (24 + 12)\n",
    "- 3.0 * (24 + 12)\n",
    "- 7 > 12\n",
    "- 23 / 7 * 5 + 12.5"
   ]
  },
  {
   "cell_type": "code",
   "execution_count": 6,
   "metadata": {
    "slideshow": {
     "slide_type": "slide"
    }
   },
   "outputs": [
    {
     "data": {
      "text/plain": [
       "3.2857142857142856"
      ]
     },
     "execution_count": 6,
     "metadata": {},
     "output_type": "execute_result"
    }
   ],
   "source": [
    "23 /7"
   ]
  },
  {
   "cell_type": "markdown",
   "metadata": {
    "slideshow": {
     "slide_type": "slide"
    }
   },
   "source": [
    "## Operands priority\n",
    "\n",
    "\n",
    "### Rule #1\n",
    "- **Max priority**: \n",
    "    - functions, not, - (symetric), *, /, //, %, +, - (subtraction), <, <=, ==, >, >=, !=, and\n",
    "- **Min priority**: \n",
    "    - or\n",
    "\n",
    "### Rule #2\n",
    "- if the operands have the same priority: left to right. \n",
    "\n",
    "Offical info: https://docs.python.org/3/reference/expressions.html#operator-precedence"
   ]
  },
  {
   "cell_type": "markdown",
   "metadata": {
    "slideshow": {
     "slide_type": "slide"
    }
   },
   "source": [
    "## Types\n",
    "\n",
    "Use `type(value)` to check the type of an expression.\n",
    "\n",
    "#### Integer\n",
    "- -12\n",
    "- 7 // 2\n",
    "- 7 % 2 \n",
    "- 5 * (7 // 2)\n",
    "- abs(-3)"
   ]
  },
  {
   "cell_type": "code",
   "execution_count": 7,
   "metadata": {
    "slideshow": {
     "slide_type": "slide"
    }
   },
   "outputs": [
    {
     "data": {
      "text/plain": [
       "7"
      ]
     },
     "execution_count": 7,
     "metadata": {},
     "output_type": "execute_result"
    }
   ],
   "source": [
    "int(5) + 2"
   ]
  },
  {
   "cell_type": "markdown",
   "metadata": {
    "collapsed": true,
    "slideshow": {
     "slide_type": "slide"
    }
   },
   "source": [
    "#### real\n",
    "- 7.7\n",
    "- 7.0 and 7.\n",
    "- .4\n",
    "- 200000000000000000000000000000000000.\n",
    "- .00000000000000000000000000000000000000000000000000001\n",
    "- 2.7 + 3.9 and 3.4 / 5.9\n",
    "- round(3.4)\n",
    "- int(3.4)\n",
    "- float(2)"
   ]
  },
  {
   "cell_type": "code",
   "execution_count": 8,
   "metadata": {
    "slideshow": {
     "slide_type": "slide"
    }
   },
   "outputs": [
    {
     "data": {
      "text/plain": [
       "7"
      ]
     },
     "execution_count": 8,
     "metadata": {},
     "output_type": "execute_result"
    }
   ],
   "source": [
    "int(round(2.7 + 3.9))"
   ]
  },
  {
   "cell_type": "markdown",
   "metadata": {
    "slideshow": {
     "slide_type": "slide"
    }
   },
   "source": [
    "#### logic\n",
    "- True\n",
    "- False\n",
    "- not True\n",
    "- not False\n",
    "- not 5"
   ]
  },
  {
   "cell_type": "code",
   "execution_count": 9,
   "metadata": {
    "slideshow": {
     "slide_type": "slide"
    }
   },
   "outputs": [
    {
     "data": {
      "text/plain": [
       "True"
      ]
     },
     "execution_count": 9,
     "metadata": {},
     "output_type": "execute_result"
    }
   ],
   "source": [
    "not '' #equivallent: not 0"
   ]
  },
  {
   "cell_type": "markdown",
   "metadata": {
    "slideshow": {
     "slide_type": "slide"
    }
   },
   "source": [
    "#### strings\n",
    "- 'abc'\n",
    "- \"abc\""
   ]
  },
  {
   "cell_type": "code",
   "execution_count": 10,
   "metadata": {
    "slideshow": {
     "slide_type": "slide"
    }
   },
   "outputs": [
    {
     "data": {
      "text/plain": [
       "str"
      ]
     },
     "execution_count": 10,
     "metadata": {},
     "output_type": "execute_result"
    }
   ],
   "source": [
    "type('abc')"
   ]
  },
  {
   "cell_type": "markdown",
   "metadata": {
    "slideshow": {
     "slide_type": "slide"
    }
   },
   "source": [
    "## <center>Names</center>\n",
    "\n",
    "<br/>\n",
    "<br/>\n",
    "\n",
    "\n",
    "<center>```<nome> ::= <nome simples> | <nome indexado> | <nome composto>```</center>\n",
    "\n"
   ]
  },
  {
   "cell_type": "markdown",
   "metadata": {
    "slideshow": {
     "slide_type": "slide"
    }
   },
   "source": [
    "## Simple Names\n",
    "\n",
    "<br/>\n",
    "<br/>\n",
    "\n",
    "\n",
    "```<nome simples> ::= <inicial> <subsequente>*```\n",
    "\n",
    "```<inicial> ::=\n",
    "    _ | A | B | C | D | E | F | G | H | I | J | K | L | M |\n",
    "    N | O | P | Q | R | S | T | U | V | W | X | Y | Z |\n",
    "    a | b | c | d | e | f | g | h | i | j | k | l | m |\n",
    "    n | o | p | q | r | s | t | u | v | w | x | y | z```\n",
    "\n",
    "```<subsequente> ::= <inicial> | 0 | 1 | 2 | 3 | 4 | 5 | 6 | 7 | 8 | 9```"
   ]
  },
  {
   "cell_type": "markdown",
   "metadata": {
    "slideshow": {
     "slide_type": "slide"
    }
   },
   "source": [
    "### Keywords\n",
    "\n",
    "<br/>\n",
    "\n",
    "Cannot be associated with names.\n",
    "\n",
    "```False      class      finally    is         return\n",
    "None       continue   for        lambda     try\n",
    "True       def        from       nonlocal   while\n",
    "and        del        global     not        with\n",
    "as         elif       if         or         yield\n",
    "assert     else       import     pass\n",
    "break      except     in         raise```"
   ]
  },
  {
   "cell_type": "markdown",
   "metadata": {
    "slideshow": {
     "slide_type": "slide"
    }
   },
   "source": [
    "## <center>Attributions</center>\n",
    "\n",
    "<br/>\n",
    "<br/>\n",
    "\n",
    "<center>```<instrução de atribuição> ::= <nome> = <expressão> | <nome> , <instrução de atribuição>, <expressão>```</center>"
   ]
  },
  {
   "cell_type": "markdown",
   "metadata": {
    "slideshow": {
     "slide_type": "slide"
    }
   },
   "source": [
    "### Examples\n",
    "\n",
    "- not = 9\n",
    "- x = 8\n",
    "- y\n",
    "- x\n",
    "- y = x * 2\n",
    "- x = 7\n",
    "\n",
    "\n",
    "- x, z = 10, 3\n",
    "- x + z\n",
    "- x, z = z, x\n",
    "- x\n",
    "- z\n",
    "- z , a = a + 3, 1"
   ]
  },
  {
   "cell_type": "code",
   "execution_count": 11,
   "metadata": {
    "slideshow": {
     "slide_type": "slide"
    }
   },
   "outputs": [
    {
     "name": "stdout",
     "output_type": "stream",
     "text": [
      "5 1\n"
     ]
    }
   ],
   "source": [
    "a = 2\n",
    "z, a = a + 3, 1\n",
    "print(z, a)"
   ]
  },
  {
   "cell_type": "markdown",
   "metadata": {
    "slideshow": {
     "slide_type": "slide"
    }
   },
   "source": [
    "## Predicates and conditions\n",
    "\n",
    "A _predicate_ is an expression that either evaluates to _true_ or _false_:\n",
    "\n",
    "- x = 8 (is this a predicate?)\n",
    "- x < 7\n",
    "- x < 7*3\n",
    "- x < 7*3 and x > 10\n",
    "- x < 7*3 < 25\n",
    "- x < 7*3 < 25 > 10\n",
    "- x < 7*3 < 25 > 100\n",
    "\n",
    "These list includes _syntactic sugar_ examples."
   ]
  },
  {
   "cell_type": "code",
   "execution_count": 12,
   "metadata": {
    "slideshow": {
     "slide_type": "slide"
    }
   },
   "outputs": [
    {
     "data": {
      "text/plain": [
       "False"
      ]
     },
     "execution_count": 12,
     "metadata": {},
     "output_type": "execute_result"
    }
   ],
   "source": [
    "x = 8\n",
    "x < 7*3 < 25 > 100\n",
    "\n",
    "# x < 7*3 ? True\n",
    "# 7*3 < 25 ? True\n",
    "# 25 > 100 ? False"
   ]
  },
  {
   "cell_type": "markdown",
   "metadata": {
    "slideshow": {
     "slide_type": "slide"
    }
   },
   "source": [
    "## <center>I/O</center>\n",
    "\n",
    "<br/>\n",
    "\n",
    "### <center>Input</center>\n",
    "\n",
    "<br/>\n",
    "\n",
    "<center>```<leitura de dados> ::= input() | input(<informação>)\n",
    "<informação> ::= <cadeia de caracteres>```</center>"
   ]
  },
  {
   "cell_type": "markdown",
   "metadata": {
    "slideshow": {
     "slide_type": "slide"
    }
   },
   "source": [
    "### Example:\n",
    "\n",
    "- input(\"Introduza uma expressão:\\n\\t\")\n",
    "- we can force the evaluation of a string\n",
    "    - eval('10+1')"
   ]
  },
  {
   "cell_type": "code",
   "execution_count": 17,
   "metadata": {
    "slideshow": {
     "slide_type": "slide"
    }
   },
   "outputs": [
    {
     "name": "stdout",
     "output_type": "stream",
     "text": [
      "Da-me uma expressão? 10 + 1\n"
     ]
    },
    {
     "data": {
      "text/plain": [
       "11"
      ]
     },
     "execution_count": 17,
     "metadata": {},
     "output_type": "execute_result"
    }
   ],
   "source": [
    "'10 + 1'\n",
    "\n",
    "a = input(\"Da-me uma expressão? \")\n",
    "eval(a)"
   ]
  },
  {
   "cell_type": "markdown",
   "metadata": {
    "slideshow": {
     "slide_type": "slide"
    }
   },
   "source": [
    "### <center>Output</center>\n",
    "\n",
    "<br/>\n",
    "<br/>\n",
    "\n",
    "<center>```<escrita de dados> ::= print() | print(<expressões>)\n",
    "<expressões> ::= <expressão> | <expressão>, <expressões>```</center>"
   ]
  },
  {
   "cell_type": "markdown",
   "metadata": {
    "slideshow": {
     "slide_type": "slide"
    }
   },
   "source": [
    "### Example (first Python program):\n",
    "\n",
    "```python\n",
    "x = eval(raw_input(\"Introduza uma expressão:\\n\\t\"))\n",
    "\t4\n",
    "\n",
    "y = raw_input(\"Introduza uma string:\\n\\t\")\n",
    "    olá mundo\n",
    "\n",
    "print(x, \"e\", y)\n",
    "print(str(x) + \" e \" + y)\n",
    "print(\"{0:03d} e {}\".format(x, y))```\n",
    "\n",
    "What happens to `print(x + \" e \" + y)`?"
   ]
  },
  {
   "cell_type": "code",
   "execution_count": 18,
   "metadata": {
    "slideshow": {
     "slide_type": "slide"
    }
   },
   "outputs": [
    {
     "name": "stdout",
     "output_type": "stream",
     "text": [
      "Introduza uma expressão:\n",
      "\t20 + 3\n",
      "Introduza uma string:\n",
      "\tola\n",
      "23 e ola\n",
      "23 e ola\n",
      "23 e ola\n"
     ]
    }
   ],
   "source": [
    "#raw_input, if in Python2\n",
    "\n",
    "x = eval(input(\"Introduza uma expressão:\\n\\t\"))\n",
    "y = input(\"Introduza uma string:\\n\\t\")\n",
    "print(x, \"e\", y)\n",
    "print(str(x) + \" e \" + y)\n",
    "print(\"{} e {}\".format(x, y))"
   ]
  },
  {
   "cell_type": "code",
   "execution_count": 19,
   "metadata": {
    "slideshow": {
     "slide_type": "slide"
    }
   },
   "outputs": [
    {
     "name": "stdout",
     "output_type": "stream",
     "text": [
      "4.1 e ola\n",
      "4.1 e ola\n"
     ]
    }
   ],
   "source": [
    "##decimal part can be controlled within the {}\n",
    "\n",
    "print(\"{:0>2} e {}\".format(4.10, y)) # Works for both numbers and strings. \n",
    "print(\"{:02} e {}\".format(4.10, y)) # Only works for numbers."
   ]
  },
  {
   "cell_type": "code",
   "execution_count": null,
   "metadata": {
    "collapsed": true
   },
   "outputs": [],
   "source": []
  }
 ],
 "metadata": {
  "celltoolbar": "Slideshow",
  "kernelspec": {
   "display_name": "Python 3",
   "language": "python",
   "name": "python3"
  },
  "language_info": {
   "codemirror_mode": {
    "name": "ipython",
    "version": 3
   },
   "file_extension": ".py",
   "mimetype": "text/x-python",
   "name": "python",
   "nbconvert_exporter": "python",
   "pygments_lexer": "ipython3",
   "version": "3.6.1"
  }
 },
 "nbformat": 4,
 "nbformat_minor": 2
}
