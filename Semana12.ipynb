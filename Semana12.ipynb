{
 "cells": [
  {
   "cell_type": "markdown",
   "metadata": {
    "slideshow": {
     "slide_type": "slide"
    }
   },
   "source": [
    "# <center>Programming Foundations <br/> @ LEIC/LETI</center>\n",
    "\n",
    "<br>\n",
    "<br>\n",
    "\n",
    "## <center>Week 12</center>"
   ]
  },
  {
   "cell_type": "markdown",
   "metadata": {
    "collapsed": true,
    "slideshow": {
     "slide_type": "slide"
    }
   },
   "source": [
    "# Linear structures: what are they?\n",
    "\n",
    "Most commonly used data structures are the linear (list) data structures. They are an abstraction of all kinds of rows, sequences, series and others from the real world.\n",
    "\n",
    "PS - Another common data structure is the tree structure (see the book for more details -- out of scope of FP)"
   ]
  },
  {
   "cell_type": "markdown",
   "metadata": {
    "slideshow": {
     "slide_type": "slide"
    }
   },
   "source": [
    "# Stacks & Queues\n",
    "\n",
    "Stacks and Queues have a lot of things in common, they are both linear data-structures, in that you one element, and then another element and then another element. They are both flexible with their sizes, so you do not have to allocate initially to have a specific size e.g. 50. You can just add elements as you go, and also shrink it down."
   ]
  },
  {
   "cell_type": "markdown",
   "metadata": {
    "slideshow": {
     "slide_type": "slide"
    }
   },
   "source": [
    "# What is the Difference between a Stack and a Queue?\n",
    "\n",
    "\n",
    "The main difference comes in how elements are removed from the stack or from the queue. A stack is what would be called a LIFO data-structure, “Last In First Out”.\n",
    "\n",
    "A Queue though, is FIFO data-structure, “First In First Out”. So think about a queue or a line of people waiting to get into a Music Theatre. When the music theatre doors open, the serve the person that was first in the line, and therefore they are the very first person removed from the line."
   ]
  },
  {
   "cell_type": "markdown",
   "metadata": {
    "slideshow": {
     "slide_type": "slide"
    }
   },
   "source": [
    "# Stack\n",
    "![stack](imgs/stack.png)\n"
   ]
  },
  {
   "cell_type": "markdown",
   "metadata": {},
   "source": [
    "# Queue\n",
    "![queue](imgs/queue.png)"
   ]
  },
  {
   "cell_type": "markdown",
   "metadata": {
    "slideshow": {
     "slide_type": "slide"
    }
   },
   "source": [
    "# TAD Stack"
   ]
  },
  {
   "cell_type": "markdown",
   "metadata": {
    "slideshow": {
     "slide_type": "slide"
    }
   },
   "source": [
    "Vejamos então como definir o TAD pilha e as suas operações básicas.\n",
    "\n",
    "- Construtores:\n",
    "    - pilha_nova: {} --> pilha, permite criar uma pilha vazia, i.e., sem elementos, um tipo de construtor típico em estruturas dinâmicas e que já utilizámos algumas vezes (e.g., listas em Python);\n",
    "- Reconhecedores:\n",
    "    - e_pilha: universal --> booleano, dada um qualquer valor passado por argumento decide se este é ou não uma pilha;\n",
    "    - pilha_vazia: pilha --> booleano, dada uma pilha decide se a mesma está ou não vazia.\n",
    "- Selectores:\n",
    "    - pilha_topo: pilha --> elemento, dada uma pilha retorna o elemento que está no topo, se a pilha estiver vazia o comportamento é indefinido (aka top).\n",
    "- Modificadores (caso em que a pilha é um tipo mutável):\n",
    "    - pilha_retira: pilha --> pilha, dada uma pilha retira o elemento que está no topo e retorna a pilha, se a pilha estiver vazia o comportamento é indefinido (aka pop);\n",
    "    - pilha_empurra: pilha x elemento --> pilha, dada uma pilha e um elemento coloca esse elemento, empurra para, o topo da pilha, e retorna a pilha (aka push);\n",
    "- Testes:\n",
    "    - pilha_igual: pilha x pilha --> booleano, dadas duas pilhas toma decide se as mesmas são ou não iguais."
   ]
  },
  {
   "cell_type": "markdown",
   "metadata": {
    "slideshow": {
     "slide_type": "slide"
    }
   },
   "source": [
    "# Axiomatização\n",
    "\n",
    "- e_pilha(pilha_nova())\n",
    "- e_pilha(pilha_empurra(p,e))              # para quaisquer pilha p e elemento e\n",
    "- e_pilha(pilha_retira(p))                 # para qualquer pilha p não vazia\n",
    "- pilha_vazia(pilha_nova())\n",
    "- not(pilha_vazia(pilha_empurra(p,e)))     # para quaisquer pilha p e elemento e\n",
    "- pilha_topo(pilha_empurra(p,e)) == e      # para quaisquer pilha p e elemento e\n",
    "- pilha_retira(pilha_empurra(p,e)) == p    # para quaisquer pilha p e elemento e\n",
    "- pilha_igual(pilha_nova(),pilha_nova())\n",
    "- pilha_igual(p, q) \n",
    "\n",
    "    if not(pilha_vazia(p)) and not(pilha_vazia(q))\n",
    "        and pilha_topo(p) == pilha_topo(q)\n",
    "        and pilha_igual(pilha_retira(p), pilha_retira(q)) # para quaisquer pilhas p e q"
   ]
  },
  {
   "cell_type": "code",
   "execution_count": 14,
   "metadata": {
    "slideshow": {
     "slide_type": "slide"
    }
   },
   "outputs": [],
   "source": [
    "#Let's do it -- only the representation\n",
    "\n"
   ]
  },
  {
   "cell_type": "markdown",
   "metadata": {
    "slideshow": {
     "slide_type": "slide"
    }
   },
   "source": [
    "# TAD Queue"
   ]
  },
  {
   "cell_type": "markdown",
   "metadata": {
    "slideshow": {
     "slide_type": "slide"
    }
   },
   "source": [
    "- Construtores:\n",
    "    - fila_nova: {} --> fila, permite criar uma fila vazia, i.e., sem elementos;\n",
    "- Reconhecedores:\n",
    "    - e_fila: universal --> booleano, dada um qualquer valor passado por argumento decide se este é ou não uma fila;\n",
    "    - fila_vazia: fila --> booleano, dada uma fila decide se a mesma está ou não vazia.\n",
    "- Selectores:\n",
    "    - fila_inicio: fila --> elemento, dada uma fila retorna o elemento que está no início, se a fila estiver vazia o comportamento é indefinido (aka first);\n",
    "    - fila_comprimento: fila --> int, dada uma fila retorna o número de elementos na mesma.\n",
    "- Modificadores (caso em que a fila é um tipo mutável):\n",
    "    - fila_retira: fila --> fila, dada uma fila retira o elemento que está no início e retorna a fila, se a fila estiver vazia o comportamento é indefinido (aka dequeue);\n",
    "    - fila_coloca: fila x elemento --> fila, dada uma fila e um elemento coloca esse elemento no fim da fila, e retorna a fila (aka queue);\n",
    "- Testes:\n",
    "    - fila_igual: fila x fila --> booleano, dadas duas filas toma decide se as mesmas são ou não iguais.\n",
    "- Transformadores:\n",
    "    - fila_para_lista: fila --> lista, dada uma fila retorna uma lista com os elementos na fila, pela mesma ordem."
   ]
  },
  {
   "cell_type": "markdown",
   "metadata": {
    "slideshow": {
     "slide_type": "slide"
    }
   },
   "source": [
    "# Axiomatização\n",
    "\n",
    "- e_fila(fila_nova())\n",
    "- e_fila(fila_coloca(f,e))              # para quaisquer fila f e elemento e\n",
    "- e_fila(fila_retira(f))                # para qualquer fila f não vazia\n",
    "- fila_vazia(fila_nova())\n",
    "- not(fila_vazia(fila_coloca(f,e)))     # para quaisquer fila f e elemento e\n",
    "- fila_inicio(fila_coloca(f,e)) == e    # para quaisquer fila f vazia e elemento e\n",
    "- fila_inicio(fila_coloca(f,e)) == fila_inicio(f) # para quaisquer fila f nao vazia e elemento e\n",
    "- fila_retira(fila_coloca(f,e)) == fila_nova() # para quaisquer fila f vazia e elemento e\n",
    "- fila_retira(fila_coloca(f,e)) == fila_coloca(fila_retira(f), e) # para quaisquer fila f nao vazia e elemento e\n",
    "- fila_comprimento(fila_nova()) == 0\n",
    "- fila_comprimento(fila_coloca(f,e)) == 1 + fila_comprimento(f) # para quaisquer fila f e elemento e\n",
    "- fila_igual(fila_nova(),fila_nova())\n",
    "- fila_igual(f, g)\n",
    "\n",
    "    if not(fila_vazia(f)) and not(fila_vazia(g))\\\n",
    "        and fila_topo(f) == fila_inicio(g)\\\n",
    "        and fila_igual(fila_retira(f), fila_retira(g)) # para quaisquer filas f e g"
   ]
  },
  {
   "cell_type": "code",
   "execution_count": 15,
   "metadata": {
    "slideshow": {
     "slide_type": "slide"
    }
   },
   "outputs": [],
   "source": [
    "# Let's do it! "
   ]
  },
  {
   "cell_type": "markdown",
   "metadata": {
    "slideshow": {
     "slide_type": "slide"
    }
   },
   "source": [
    "# Guess what? Python has already this implemented for us\n"
   ]
  },
  {
   "cell_type": "code",
   "execution_count": 16,
   "metadata": {
    "slideshow": {
     "slide_type": "slide"
    }
   },
   "outputs": [
    {
     "name": "stdout",
     "output_type": "stream",
     "text": [
      "False\n"
     ]
    }
   ],
   "source": [
    "from queue import *\n",
    "q = Queue(maxsize=0)\n",
    "q.put(10)\n",
    "print(q.empty())"
   ]
  },
  {
   "cell_type": "code",
   "execution_count": 17,
   "metadata": {
    "slideshow": {
     "slide_type": "slide"
    }
   },
   "outputs": [
    {
     "name": "stdout",
     "output_type": "stream",
     "text": [
      "deque([10])\n"
     ]
    }
   ],
   "source": [
    "from collections import deque\n",
    "stack = deque()\n",
    "stack.append(10)\n",
    "print(stack)"
   ]
  },
  {
   "cell_type": "markdown",
   "metadata": {
    "slideshow": {
     "slide_type": "slide"
    }
   },
   "source": [
    "# Improving your skills\n",
    "\n",
    "- Test your Python code. \n",
    "    - use doctest: https://docs.python.org/2/library/doctest.html\n",
    "    \n",
    "    \n",
    "- Check related questions @ http://web.ist.utl.pt/aplf/fp/Lesson24.html\n",
    "    - Think and ask me whatever questions you might have! "
   ]
  },
  {
   "cell_type": "markdown",
   "metadata": {
    "slideshow": {
     "slide_type": "slide"
    }
   },
   "source": [
    "# Graphical representation\n",
    "\n",
    "There are several available libraries to develop GUIs. Amongst the most common ones are\n",
    "- pygame (http://pygame.org/)\n",
    "    - A tutorial in Portuguese: https://old.gustavobarbieri.com.br/jogos/jogo/doc/\n",
    "- John Zelle's graphics module (http://mcsp.wartburg.edu/zelle/python/graphics.py and http://mcsp.wartburg.edu/zelle/python/graphics/graphics/index.html)\n",
    "\n",
    "FP's official book shows a simulation of a supermarket queue using a GUI developed in graphics. Check it out. \n",
    "\n",
    "### Challenge: develop a GUI for the project? \n",
    "\n",
    "- Can you do that?\n",
    "- Do you want to present your work in the next lecture?"
   ]
  },
  {
   "cell_type": "code",
   "execution_count": null,
   "metadata": {},
   "outputs": [],
   "source": []
  }
 ],
 "metadata": {
  "celltoolbar": "Slideshow",
  "kernelspec": {
   "display_name": "Python 3",
   "language": "python",
   "name": "python3"
  },
  "language_info": {
   "codemirror_mode": {
    "name": "ipython",
    "version": 3
   },
   "file_extension": ".py",
   "mimetype": "text/x-python",
   "name": "python",
   "nbconvert_exporter": "python",
   "pygments_lexer": "ipython3",
   "version": "3.6.1"
  }
 },
 "nbformat": 4,
 "nbformat_minor": 2
}
