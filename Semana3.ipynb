{
 "cells": [
  {
   "cell_type": "markdown",
   "metadata": {
    "slideshow": {
     "slide_type": "slide"
    }
   },
   "source": [
    "# <center>Programming Foundations <br/> @ LEIC/LETI</center>\n",
    "\n",
    "<br>\n",
    "<br>\n",
    "\n",
    "## <center>Week 3</center>"
   ]
  },
  {
   "cell_type": "code",
   "execution_count": 94,
   "metadata": {
    "slideshow": {
     "slide_type": "slide"
    }
   },
   "outputs": [
    {
     "name": "stdout",
     "output_type": "stream",
     "text": [
      "0.1 AND 0.1001001\n"
     ]
    }
   ],
   "source": [
    "# Follow-up from previous lecture: limiting the number of decimals when printing a float\n",
    "\n",
    "print(\"{:.1f} AND {}\".format(0.1001001, 0.1001001))\n",
    "\n",
    "#more info: https://docs.python.org/3/library/string.html#format-specification-mini-language"
   ]
  },
  {
   "cell_type": "markdown",
   "metadata": {
    "slideshow": {
     "slide_type": "slide"
    }
   },
   "source": [
    "# <center> Defining Functions </center>\n",
    "\n",
    "```\n",
    "<function definition> ::=\n",
    "    def <name> (<formal parameters>): NEWLINE\n",
    "    INDENT <body> DEDENT\n",
    "\n",
    "<formal parameters> ::= <nothing> | <names>\n",
    "\n",
    "<names> ::= <name> | <name>, <names>\n",
    "\n",
    "<nothing> ::= \n",
    "\n",
    "<body> ::= <function definition>* <function instructions>\n",
    "\n",
    "<function instructions> ::=\n",
    "    <function instruction> NEWLINE |\n",
    "    <function instruction> NEWLINE <function instructions>\n",
    "\n",
    "<function instruction> :: <instruction> | <expression> | <return expression>\n",
    "\n",
    "<return expression> ::= return | return <expression>\n",
    "```"
   ]
  },
  {
   "cell_type": "markdown",
   "metadata": {
    "slideshow": {
     "slide_type": "slide"
    }
   },
   "source": [
    "# <center> Example </center>\n",
    "\n",
    "```\n",
    "def soma(n):\n",
    "    iter = 1\n",
    "    soma = 0\n",
    "    while iter <= n:\n",
    "        soma = soma + iter\n",
    "        iter = iter + 1\n",
    "    return soma\n",
    "```"
   ]
  },
  {
   "cell_type": "code",
   "execution_count": 118,
   "metadata": {
    "slideshow": {
     "slide_type": "slide"
    }
   },
   "outputs": [
    {
     "name": "stdout",
     "output_type": "stream",
     "text": [
      "101\n",
      "5050\n",
      "10\n"
     ]
    }
   ],
   "source": [
    "def soma(n):\n",
    "    iter1 = 1\n",
    "    soma = 0\n",
    "    while iter1 <= n:\n",
    "        soma = soma + iter1\n",
    "        iter1 = iter1 + 1\n",
    "    print(iter1)\n",
    "    return soma\n",
    "\n",
    "m = 100\n",
    "print(soma(m))\n",
    "iter1 = 10\n",
    "print(iter1)"
   ]
  },
  {
   "cell_type": "markdown",
   "metadata": {
    "slideshow": {
     "slide_type": "slide"
    }
   },
   "source": [
    "# <center> Using Functions </center>\n",
    "\n",
    "```\n",
    "<function application> ::= <name>(<concrete parameters>)\n",
    "\n",
    "<concrete parameters> ::= <nothing> | <expressions>\n",
    "\n",
    "<expressions> ::=\n",
    "    <expression> |\n",
    "    <expression>, <expressions>\n",
    "```"
   ]
  },
  {
   "cell_type": "markdown",
   "metadata": {
    "slideshow": {
     "slide_type": "slide"
    }
   },
   "source": [
    "# Examples\n",
    "\n",
    "```\n",
    ">>> soma(100)\n",
    "\n",
    ">>> soma(50,75)\n",
    "\n",
    ">>> soma()\n",
    "\n",
    "```"
   ]
  },
  {
   "cell_type": "code",
   "execution_count": 110,
   "metadata": {},
   "outputs": [
    {
     "ename": "TypeError",
     "evalue": "soma() missing 1 required positional argument: 'n'",
     "output_type": "error",
     "traceback": [
      "\u001b[0;31m---------------------------------------------------------------------------\u001b[0m",
      "\u001b[0;31mTypeError\u001b[0m                                 Traceback (most recent call last)",
      "\u001b[0;32m<ipython-input-110-ced6fb69dc56>\u001b[0m in \u001b[0;36m<module>\u001b[0;34m()\u001b[0m\n\u001b[0;32m----> 1\u001b[0;31m \u001b[0msoma\u001b[0m\u001b[0;34m(\u001b[0m\u001b[0;34m)\u001b[0m\u001b[0;34m\u001b[0m\u001b[0m\n\u001b[0m",
      "\u001b[0;31mTypeError\u001b[0m: soma() missing 1 required positional argument: 'n'"
     ]
    }
   ],
   "source": [
    "soma()"
   ]
  },
  {
   "cell_type": "markdown",
   "metadata": {
    "slideshow": {
     "slide_type": "slide"
    }
   },
   "source": [
    "# <center> Environments </center>\n",
    "\n",
    "- Environments: Global vs. Local\n",
    "\n",
    "\n",
    "When a function is evoked, the following is the set of steps performed by Python:\n",
    "\n",
    "- All concrete parameters are evaluated (in an arbitary order)\n",
    "\n",
    "- The formal parameters of the function are associated to the concrete values of the parameters in the local enviroment, in the same order\n",
    "\n",
    "- The instruction in the body of the function are executed in the local environment, environemtn that only exists until the function terminates. "
   ]
  },
  {
   "cell_type": "markdown",
   "metadata": {
    "slideshow": {
     "slide_type": "slide"
    }
   },
   "source": [
    "# <center> Procedural Abstractions </center>\n",
    "\n",
    "Functions let programmers think about **what** (the function does) and not **how** (the function is implemented).\n",
    "\n",
    "```\n",
    "def soma(n):\n",
    "    iter = 1\n",
    "    soma = 0\n",
    "    while iter <= n:\n",
    "        soma = soma + iter\n",
    "        iter = iter + 1\n",
    "    return soma\n",
    "```    \n",
    "   \n",
    "```\n",
    "def soma(n):\n",
    "    if n < 1:\n",
    "        return 0\n",
    "    return n*(n+1)//2\n",
    "```"
   ]
  },
  {
   "cell_type": "markdown",
   "metadata": {
    "slideshow": {
     "slide_type": "slide"
    }
   },
   "source": [
    "# <center> Visualizing Execution of Programs </center>\n",
    "\n",
    "(this is the order I think you should try things out)\n",
    "\n",
    "- [http://pythontutor.com/visualize.html#mode=edit](http://pythontutor.com/visualize.html#mode=edit)\n",
    "- IDEs such as PyCharm and Wing\n",
    "- [pdb](https://docs.python.org/2/library/pdb.html)\n"
   ]
  },
  {
   "cell_type": "markdown",
   "metadata": {
    "slideshow": {
     "slide_type": "slide"
    }
   },
   "source": [
    "# <center>Errors</center>\n",
    "\n",
    "When defining a function, one wants to throw an error if the arguments are not of invalid type and/or domain. Throwing an error is a good practice, rather than a print, because we want to stop the execution of the function. \n",
    "\n",
    "```\n",
    "<raise instruction> ::= raise <name>(<message>)\n",
    "\n",
    "<message> ::= <string>\n",
    "```\n",
    "\n",
    "The name above needs to one of the error types known by Python (or any know name the programmer created). See the [documentation](https://docs.python.org/3/library/exceptions.html). Examples of error types (or exceptions): [AttributeError](https://docs.python.org/3/library/exceptions.html#AttributeError), [IndexError](https://docs.python.org/3/library/exceptions.html#IndexError), [KeyError](https://docs.python.org/3/library/exceptions.html#KeyError), [NameError](https://docs.python.org/3/library/exceptions.html#NameError), [SyntaxError](https://docs.python.org/3/library/exceptions.html#SyntaxError), [ValueError](https://docs.python.org/3/library/exceptions.html#ValueError) e [ZeroDivisionError](https://docs.python.org/3/library/exceptions.html#ZeroDivisionError).\n",
    "\n",
    "To catch an exception, we use [try](https://docs.python.org/3/reference/compound_stmts.html#try)."
   ]
  },
  {
   "cell_type": "code",
   "execution_count": 125,
   "metadata": {
    "slideshow": {
     "slide_type": "slide"
    }
   },
   "outputs": [
    {
     "name": "stdout",
     "output_type": "stream",
     "text": [
      "Da-me valor x:-1\n",
      "Da-me valor y:10\n",
      "10\n"
     ]
    }
   ],
   "source": [
    "# Greatest Common Divisor (gcd)\n",
    "# Euclidian algorithm \n",
    "\n",
    "def euclides(n, m):\n",
    "    \n",
    "    if n < 0 or m < 0:\n",
    "        raise ValueError('euclides: argumentos negativos!')\n",
    "    \n",
    "    while m > 0:\n",
    "        n, m = m, n%m\n",
    "    \n",
    "    return n\n",
    "\n",
    "def mdc(n, m):\n",
    "    return euclides(m, n)   \n",
    "\n",
    "try:\n",
    "    \n",
    "    x = eval(input(\"Da-me valor x:\"))\n",
    "    y = eval(input(\"Da-me valor y:\"))\n",
    "    print(mdc(x, y))\n",
    "    \n",
    "except ValueError:\n",
    "    print(\"Não aceito negativos\")\n",
    "    x = eval(input(\"Da-me valor x:\"))\n",
    "    y = eval(input(\"Da-me valor y:\"))\n",
    "    print(mdc(x, y))\n"
   ]
  },
  {
   "cell_type": "markdown",
   "metadata": {
    "slideshow": {
     "slide_type": "slide"
    }
   },
   "source": [
    "# <center> Let's Practice</center>\n"
   ]
  },
  {
   "cell_type": "code",
   "execution_count": 141,
   "metadata": {
    "slideshow": {
     "slide_type": "slide"
    }
   },
   "outputs": [
    {
     "name": "stdout",
     "output_type": "stream",
     "text": [
      "Ups, call me again\n"
     ]
    }
   ],
   "source": [
    "# Power of two numbers inteiros\n",
    "def power(x, k):\n",
    "    if k < 0:\n",
    "        raise ValueError('potencia: expoente k negativo')\n",
    "    elif type(k) != int:\n",
    "        raise ValueError('potencia: expoente k nao inteiro')\n",
    "    elif type(x) != int:\n",
    "        raise ValueError('potencia: expoente x nao é um inteiro')\n",
    "\n",
    "    soma = 1\n",
    "    \n",
    "    while k > 0:\n",
    "        soma = soma*x\n",
    "        k = k - 1\n",
    "        \n",
    "    return soma\n",
    "   \n",
    "try:    \n",
    "    print(power(1, -2))\n",
    "except ValueError:\n",
    "    print(\"Ups, call me again\")\n",
    "\n"
   ]
  },
  {
   "cell_type": "code",
   "execution_count": 75,
   "metadata": {
    "slideshow": {
     "slide_type": "slide"
    }
   },
   "outputs": [
    {
     "name": "stdout",
     "output_type": "stream",
     "text": [
      "Inteiro: -3\n",
      "Abs'ing number\n",
      "6\n"
     ]
    }
   ],
   "source": [
    "# factorial\n",
    "def factorial(n):\n",
    "    if n < 0:\n",
    "        raise ValueError(\"Negativo!\")\n",
    "    \n",
    "    if n == 0:\n",
    "        return 1\n",
    "    \n",
    "    #f = 1\n",
    "    #while n > 1:\n",
    "    #    f = f * n\n",
    "    #    n = n - 1\n",
    "    #return f\n",
    "    \n",
    "    return n * factorial(n - 1)\n",
    "\n",
    "x = eval(input(\"Inteiro: \"))\n",
    "try:\n",
    "    f = factorial(x)\n",
    "except ValueError:\n",
    "    print(\"Abs'ing number\")\n",
    "    f = factorial(abs(x))\n",
    "\n",
    "print(f)\n",
    "    "
   ]
  },
  {
   "cell_type": "markdown",
   "metadata": {
    "slideshow": {
     "slide_type": "slide"
    }
   },
   "source": [
    "# <center>Modules</center>\n",
    "\n",
    "There is no need to reinvent the wheel when programming in Python... it offers several _libs_ (also known as modules). \n",
    "\n",
    "```\n",
    "<importing instruction> ::=\n",
    "    import <module> NEWLINE |\n",
    "    from <module> import <names to import> NEWLINE\n",
    "\n",
    "<module> ::= <name>\n",
    "\n",
    "<names to import> ::= * | <names>\n",
    "\n",
    "<names> ::= <name> | <name>, <names>\n",
    "```"
   ]
  },
  {
   "cell_type": "markdown",
   "metadata": {
    "slideshow": {
     "slide_type": "slide"
    }
   },
   "source": [
    "# <center>Accessing functions in modules<center>\n",
    "\n",
    "Needed when using _import_ only.\n",
    "\n",
    "```\n",
    "<composed name> ::= <simple name>.<simple name>\n",
    "```\n",
    "\n",
    "Example:\n",
    "```\n",
    ">>> import math\n",
    ">>> math.e\n",
    "2.718281828459045\n",
    ">>> math.pi\n",
    "3.141592653589793\n",
    ">>> math.sin(math.pi/2)\n",
    "1.0\n",
    ">>>\n",
    "```\n",
    "\n",
    "If using _from_:\n",
    "```\n",
    ">>> from math import e, pi, sin\n",
    ">>> e\n",
    "2.718281828459045\n",
    ">>> pi\n",
    "3.141592653589793\n",
    ">>> sin(pi/2)\n",
    "1.0\n",
    ">>>\n",
    "```"
   ]
  },
  {
   "cell_type": "markdown",
   "metadata": {
    "slideshow": {
     "slide_type": "slide"
    }
   },
   "source": [
    "# <center> How to build our own module<center>\n",
    "\n",
    "Just put the function in a .py file. Import that file, and that's it. \n",
    "\n",
    "```\n",
    ">>> import soma\n",
    ">>> soma.soma(100)\n",
    "5050\n",
    "```"
   ]
  },
  {
   "cell_type": "code",
   "execution_count": 84,
   "metadata": {
    "slideshow": {
     "slide_type": "slide"
    }
   },
   "outputs": [
    {
     "data": {
      "text/plain": [
       "100.0"
      ]
     },
     "execution_count": 84,
     "metadata": {},
     "output_type": "execute_result"
    }
   ],
   "source": [
    "import math \n",
    "\n",
    "math.pow(10, 2)"
   ]
  }
 ],
 "metadata": {
  "celltoolbar": "Slideshow",
  "kernelspec": {
   "display_name": "Python 3",
   "language": "python",
   "name": "python3"
  },
  "language_info": {
   "codemirror_mode": {
    "name": "ipython",
    "version": 3
   },
   "file_extension": ".py",
   "mimetype": "text/x-python",
   "name": "python",
   "nbconvert_exporter": "python",
   "pygments_lexer": "ipython3",
   "version": "3.6.1"
  }
 },
 "nbformat": 4,
 "nbformat_minor": 2
}
