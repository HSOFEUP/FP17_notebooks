{
 "cells": [
  {
   "cell_type": "markdown",
   "metadata": {
    "slideshow": {
     "slide_type": "slide"
    }
   },
   "source": [
    "# <center>Programming Foundations <br/> @ LEIC/LETI</center>\n",
    "\n",
    "<br>\n",
    "<br>\n",
    "\n",
    "## <center>Week 6</center>"
   ]
  },
  {
   "cell_type": "markdown",
   "metadata": {
    "slideshow": {
     "slide_type": "slide"
    }
   },
   "source": [
    "# <center> Functions Revisited: Structure of a function </center>\n",
    "\n",
    "In Python, one can define functions **inside** other functions:\n",
    "\n",
    "```\n",
    "<function definition> ::=\n",
    "    def <name> (<formal parameters>): NEWLINE\n",
    "    INDENT <body> DEDENT\n",
    "\n",
    "<body> ::= <function definition>* <instructions>\n",
    "```\n",
    "\n",
    "## ** Why does Python let us do this ** ?\n",
    "\n",
    "Python is a _block-structured_ language, and blocks are allowed within blocks within blocks. Whatever is visible (scope) within a block is also visible within the inner blocks, but not in the outter blocks. "
   ]
  },
  {
   "cell_type": "code",
   "execution_count": 20,
   "metadata": {
    "slideshow": {
     "slide_type": "slide"
    }
   },
   "outputs": [
    {
     "data": {
      "text/plain": [
       "<function __main__.exponencial_aproximada>"
      ]
     },
     "execution_count": 20,
     "metadata": {},
     "output_type": "execute_result"
    }
   ],
   "source": [
    "# Euler number: e^x\n",
    "#\n",
    "# https://en.wikipedia.org/wiki/Taylor_series\n",
    "\n",
    "def exponencial_aproximada(x, delta):\n",
    "\n",
    "    def proximo_termo(n, termo_anterior):\n",
    "        return termo_anterior * x / (n - 1)\n",
    "\n",
    "    termo = 1\n",
    "    resultado = 1\n",
    "    n = 1\n",
    "\n",
    "    while termo > delta:\n",
    "        n = n + 1\n",
    "        termo = proximo_termo(x, termo)\n",
    "        resultado = resultado + termo\n",
    "\n",
    "    return resultado\n",
    "\n",
    "exponencial_aproximada\n",
    "#proximo_termo"
   ]
  },
  {
   "cell_type": "markdown",
   "metadata": {
    "slideshow": {
     "slide_type": "slide"
    }
   },
   "source": [
    "# <center>Yet another example</center>\n",
    "\n",
    "```\n",
    "def potencia(x, k):\n",
    "    if k < 0:\n",
    "        raise ValueError('potencia: expoente k negativo')\n",
    "    elif type(k) != int:\n",
    "        raise ValueError('potencia: expoente k nao inteiro')\n",
    "    elif type(x) != int and type(x) != float:\n",
    "        raise ValueError('potencia: base x nao e\\' um numero')\n",
    "\n",
    "    resultado = 1\n",
    "    while k > 0:\n",
    "        resultado = resultado * x\n",
    "        k = k - 1\n",
    "\n",
    "    return resultado\n",
    "```\n",
    "\n",
    "### Change the code such that we can compute negative powers. Ideas?"
   ]
  },
  {
   "cell_type": "code",
   "execution_count": 2,
   "metadata": {
    "slideshow": {
     "slide_type": "slide"
    }
   },
   "outputs": [
    {
     "name": "stdout",
     "output_type": "stream",
     "text": [
      "0.125\n"
     ]
    }
   ],
   "source": [
    "def potencia(x, k):\n",
    "    def potencia_aux(n, y):\n",
    "        \n",
    "        resultado = 1\n",
    "        while y > 0:\n",
    "            resultado = resultado * n\n",
    "            y = y - 1\n",
    "\n",
    "        return resultado  \n",
    "\n",
    "    if type(k) != int:\n",
    "        raise ValueError('potencia: expoente k nao inteiro')\n",
    "    elif type(x) != int and type(x) != float:\n",
    "        raise ValueError('potencia: base x nao e\\' um numero')\n",
    "        \n",
    "    if k >= 0:\n",
    "        return potencia_aux(x, k)\n",
    "    else:\n",
    "        return 1 / potencia_aux(x, -k)\n",
    "            \n",
    "\n",
    "print(potencia(2, -3))"
   ]
  },
  {
   "cell_type": "code",
   "execution_count": 3,
   "metadata": {
    "slideshow": {
     "slide_type": "slide"
    }
   },
   "outputs": [
    {
     "name": "stdout",
     "output_type": "stream",
     "text": [
      "0.1111111111111111\n"
     ]
    }
   ],
   "source": [
    "def potencia_geral(x, k):\n",
    "    if k >= 0:\n",
    "        return potencia(x, k)\n",
    "    else:\n",
    "        return 1 / potencia(x, -k)\n",
    "\n",
    "    \n",
    "print(potencia_geral(3, -2))\n",
    "\n",
    "## What's the problem with this solution ?"
   ]
  },
  {
   "cell_type": "code",
   "execution_count": 4,
   "metadata": {
    "slideshow": {
     "slide_type": "slide"
    }
   },
   "outputs": [],
   "source": [
    "## Solution: use inner function! \n",
    "def potencia(x, k):\n",
    "    \n",
    "    def potencia_aux(k):\n",
    "        resultado = 1\n",
    "        while k > 0:\n",
    "            resultado = resultado * x\n",
    "            k = k - 1\n",
    "        return resultado\n",
    "    \n",
    "    if type(k) != int:\n",
    "        raise ValueError('potencia: expoente k nao inteiro')\n",
    "    elif type(x) != int and type(x) != float:\n",
    "        raise ValueError('potencia: expoente x nao e\\' um numero')\n",
    "    \n",
    "    resultado = potencia_aux(abs(k))\n",
    "    \n",
    "    if k < 0:\n",
    "         resultado = 1/resultado\n",
    "    \n",
    "    return resultado "
   ]
  },
  {
   "cell_type": "markdown",
   "metadata": {
    "slideshow": {
     "slide_type": "slide"
    }
   },
   "source": [
    "# Functional Programming\n",
    "\n",
    "In computer science, functional programming is a programming paradigm — a style of building the structure and elements of computer programs — that treats computation as the evaluation of mathematical functions and avoids changing-state and mutable data.\n",
    "\n",
    "Functional programming has its origins in [lambda calculus](https://en.wikipedia.org/wiki/Lambda_calculus), a formal system developed in the 1930s to investigate computability, the Entscheidungsproblem, function definition, function application, and recursion. Many functional programming languages can be viewed as elaborations on the lambda calculus. "
   ]
  },
  {
   "cell_type": "code",
   "execution_count": 5,
   "metadata": {
    "slideshow": {
     "slide_type": "slide"
    }
   },
   "outputs": [],
   "source": [
    "def potencia(x, k):\n",
    "    if k < 0:\n",
    "        raise ValueError('potencia: expoente k negativo')\n",
    "    elif type(k) != int:\n",
    "        raise ValueError('potencia: expoente k nao inteiro')\n",
    "    elif type(x) != int and type(x) != float:\n",
    "        raise ValueError('potencia: base x nao e\\' um numero')\n",
    "\n",
    "    if k == 0:\n",
    "         return 1\n",
    "    else:\n",
    "        return x * potencia(x, k-1)"
   ]
  },
  {
   "cell_type": "markdown",
   "metadata": {
    "slideshow": {
     "slide_type": "slide"
    }
   },
   "source": [
    "# Question\n",
    "\n",
    "Sum all digits in a string. Your solution should follow a functional programming paradigm."
   ]
  },
  {
   "cell_type": "code",
   "execution_count": 6,
   "metadata": {
    "slideshow": {
     "slide_type": "slide"
    }
   },
   "outputs": [
    {
     "name": "stdout",
     "output_type": "stream",
     "text": [
      "6\n"
     ]
    }
   ],
   "source": [
    "def soma_digitos(n):\n",
    "    #n = '123'\n",
    "    #n = '' ==> 0\n",
    "    \n",
    "    if n == '':\n",
    "        return 0\n",
    "    else:\n",
    "        return int(n[0]) + soma_digitos(n[1:])\n",
    "\n",
    "print(soma_digitos('123'))"
   ]
  },
  {
   "cell_type": "code",
   "execution_count": 7,
   "metadata": {
    "slideshow": {
     "slide_type": "slide"
    }
   },
   "outputs": [],
   "source": [
    "#my solution, for integers.\n",
    "def soma_digitos(n):\n",
    "    if n == 0:\n",
    "        return n\n",
    "    else:\n",
    "        return n % 10 + soma_digitos(n // 10)"
   ]
  },
  {
   "cell_type": "markdown",
   "metadata": {
    "slideshow": {
     "slide_type": "slide"
    }
   },
   "source": [
    "# An example, related to the project...\n",
    "\n",
    "\n",
    "Let's code a program that handles the following expressions:\n",
    "\n",
    "```\n",
    "<expression> ::= (<expression> +)* <expression>\n",
    "<expression> ::= <int>\n",
    "<int> ::= (0 | 1 | 2 | ... | 9)+\n",
    "```"
   ]
  },
  {
   "cell_type": "code",
   "execution_count": 8,
   "metadata": {
    "slideshow": {
     "slide_type": "slide"
    }
   },
   "outputs": [
    {
     "data": {
      "text/plain": [
       "True"
      ]
     },
     "execution_count": 8,
     "metadata": {},
     "output_type": "execute_result"
    }
   ],
   "source": [
    "def digit(str):\n",
    "\n",
    "    for i in str:\n",
    "        if not '0' <= i <= '9':\n",
    "            return False\n",
    "\n",
    "    return True\n",
    "\n",
    "digit(\"12\")"
   ]
  },
  {
   "cell_type": "code",
   "execution_count": 9,
   "metadata": {
    "slideshow": {
     "slide_type": "slide"
    }
   },
   "outputs": [
    {
     "data": {
      "text/plain": [
       "True"
      ]
     },
     "execution_count": 9,
     "metadata": {},
     "output_type": "execute_result"
    }
   ],
   "source": [
    "#Let's have a recursive version of the function.\n",
    "def digit(n):\n",
    "    if n == '':\n",
    "        return False\n",
    "    elif len(n) == 1:\n",
    "        return ('0' <= n <= '9')\n",
    "    else:\n",
    "        return ('0' <= n[0] <= '9') and digit(n[1:])\n",
    "\n",
    "digit(\"12\")"
   ]
  },
  {
   "cell_type": "code",
   "execution_count": 10,
   "metadata": {
    "slideshow": {
     "slide_type": "slide"
    }
   },
   "outputs": [
    {
     "name": "stdout",
     "output_type": "stream",
     "text": [
      "30\n"
     ]
    }
   ],
   "source": [
    "def parse_expr(line):\n",
    "    lst = []\n",
    "    \n",
    "    i = len(line) - 1\n",
    "    while i >= 0:\n",
    "        if not digit(line[i:]):\n",
    "            lst.append(int(line[i + 1:]))\n",
    "            line = line[: i]\n",
    "            \n",
    "        if i == 0 and digit(line):\n",
    "            lst.append(int(line))\n",
    "        \n",
    "        i = i - 1\n",
    "                \n",
    "    return sum(lst)\n",
    "\n",
    "print(parse_expr(\"10+20\"))"
   ]
  },
  {
   "cell_type": "code",
   "execution_count": 13,
   "metadata": {
    "slideshow": {
     "slide_type": "slide"
    }
   },
   "outputs": [
    {
     "name": "stdout",
     "output_type": "stream",
     "text": [
      "40\n"
     ]
    }
   ],
   "source": [
    "#recursive version\n",
    "def parse_expr(line):\n",
    "    \n",
    "    def parse(l, inicio, fim, lst):\n",
    "        if l == '':\n",
    "            return sum(lst)\n",
    "        else:\n",
    "            if not digit( line[inicio : fim] ):\n",
    "                lst.append(int(line[inicio+1:fim]))\n",
    "                return parse(l, inicio - 1, inicio, lst)\n",
    "            \n",
    "            if inicio == 0 and digit( line[ inicio : fim] ):\n",
    "                lst.append(int(line[inicio : fim]))\n",
    "                return sum(lst)\n",
    "                \n",
    "            return parse(l, inicio - 1, fim, lst)\n",
    "            \n",
    "        \n",
    "    lst = []\n",
    "    return parse(line, len(line) - 1, len(line), lst)\n",
    "    \n",
    "print(parse_expr(\"30+10\"))"
   ]
  },
  {
   "cell_type": "code",
   "execution_count": 1,
   "metadata": {
    "slideshow": {
     "slide_type": "slide"
    }
   },
   "outputs": [
    {
     "data": {
      "text/plain": [
       "1000"
      ]
     },
     "execution_count": 1,
     "metadata": {},
     "output_type": "execute_result"
    }
   ],
   "source": [
    "#Do you want to use non-ASCII characters? Put the following line in the first line of your .py file (it is a comment!)\n",
    "# -*- coding: latin-1 -*-"
   ]
  },
  {
   "cell_type": "code",
   "execution_count": 31,
   "metadata": {
    "slideshow": {
     "slide_type": "slide"
    }
   },
   "outputs": [
    {
     "data": {
      "text/plain": [
       "(('A', 'S'), ('E', 'S'), ('O', 'S'))"
      ]
     },
     "execution_count": 31,
     "metadata": {},
     "output_type": "execute_result"
    }
   ],
   "source": [
    "def addS_nonrecursive(tuples):\n",
    "    ret = ()\n",
    "    for i in tuples:\n",
    "        ret = ret + (i + ('S',),)\n",
    "    return ret\n",
    "\n",
    "def addS_recursive(tuples):\n",
    "    if tuples == ():\n",
    "        return ()\n",
    "    else:\n",
    "        return (tuples[0] + ('S',),) + addS_recursive(tuples[1:])\n",
    "\n",
    "def add_listcomprehesion(tuples):\n",
    "    return tuple([ i + ('S',) for i in tuples ])\n",
    "\n",
    "\n",
    "a = (('A',), ('E',), ('O',))\n",
    "add_listcomprehesion(a) #--> (('A', 'S'), ('E', 'S'), ('O', 'S'))"
   ]
  },
  {
   "cell_type": "code",
   "execution_count": 37,
   "metadata": {
    "slideshow": {
     "slide_type": "slide"
    }
   },
   "outputs": [
    {
     "name": "stdout",
     "output_type": "stream",
     "text": [
      "CPU times: user 19 µs, sys: 1e+03 ns, total: 20 µs\n",
      "Wall time: 23.1 µs\n"
     ]
    },
    {
     "data": {
      "text/plain": [
       "93326215443944152681699238856266700490715968264381621468592963895217599993229915608941463976156518286253697920827223758251185210916864000000000000000000000000"
      ]
     },
     "execution_count": 37,
     "metadata": {},
     "output_type": "execute_result"
    }
   ],
   "source": [
    "def factorial(n):\n",
    "    res = 1\n",
    "    for i in range(1,n+1):\n",
    "        res = res * i\n",
    "    return res\n",
    "\n",
    "%time factorial(2)"
   ]
  },
  {
   "cell_type": "code",
   "execution_count": 38,
   "metadata": {
    "slideshow": {
     "slide_type": "slide"
    }
   },
   "outputs": [
    {
     "name": "stdout",
     "output_type": "stream",
     "text": [
      "CPU times: user 93 µs, sys: 97 µs, total: 190 µs\n",
      "Wall time: 195 µs\n"
     ]
    },
    {
     "data": {
      "text/plain": [
       "93326215443944152681699238856266700490715968264381621468592963895217599993229915608941463976156518286253697920827223758251185210916864000000000000000000000000"
      ]
     },
     "execution_count": 38,
     "metadata": {},
     "output_type": "execute_result"
    }
   ],
   "source": [
    "#Exercise: recursive factorial!\n",
    "def fact_rec(n):\n",
    "    if n < 0 or not isinstance(n, int):\n",
    "        raise ValueError(\"n negativo ou não inteiro!\")\n",
    "    \n",
    "    if 0 <= n <= 1:\n",
    "        return 1\n",
    "    \n",
    "    return n * fact_rec(n - 1)\n",
    "    \n",
    "%time fact_rec(100)"
   ]
  },
  {
   "cell_type": "markdown",
   "metadata": {
    "slideshow": {
     "slide_type": "slide"
    }
   },
   "source": [
    "# Visualize  Executions\n",
    "\n",
    "Let's visualize what's going on with http://pythontutor.com/visualize.html"
   ]
  },
  {
   "cell_type": "markdown",
   "metadata": {
    "slideshow": {
     "slide_type": "slide"
    }
   },
   "source": [
    "# Greatest Common Divisor (GCD)\n",
    "\n",
    "- GCD between a number and 0 is the number itself.\n",
    "- When we divide a number by a smaller one, then the gcd between the remainder of the division and the divisor is the same as the gcd between the divisor and dividend.\n",
    "\n",
    "```\n",
    "def mdc(m, n):\n",
    "    while n != 0:\n",
    "        m, n = n, m % n\n",
    "    return m\n",
    "```"
   ]
  },
  {
   "cell_type": "code",
   "execution_count": 39,
   "metadata": {
    "slideshow": {
     "slide_type": "slide"
    }
   },
   "outputs": [
    {
     "data": {
      "text/plain": [
       "8"
      ]
     },
     "execution_count": 39,
     "metadata": {},
     "output_type": "execute_result"
    }
   ],
   "source": [
    "#gcd(m, n) = \n",
    "#- m  if n = 0, \n",
    "#- gcd(n, m % n) if n > 0\n",
    "\n",
    "def gcd(m, n):\n",
    "    if n == 0:\n",
    "        return m\n",
    "    \n",
    "    return gcd(n, m % n)\n",
    "\n",
    "gcd(24, 16)"
   ]
  },
  {
   "cell_type": "code",
   "execution_count": 46,
   "metadata": {
    "slideshow": {
     "slide_type": "slide"
    }
   },
   "outputs": [
    {
     "data": {
      "text/plain": [
       "(1, 2, 3, 4, 5, 2, 3)"
      ]
     },
     "execution_count": 46,
     "metadata": {},
     "output_type": "execute_result"
    }
   ],
   "source": [
    "# alisa(tuple), but now purely recursive\n",
    "a = ((1,2), (3,4), (5, (2,3)))\n",
    "# (1,2,3,4,5,2,3)\n",
    "\n",
    "def alisa(t):\n",
    "    if t == ():\n",
    "        return ()\n",
    "    \n",
    "    if not isinstance(t[0], tuple):\n",
    "        return (t[0],) + alisa(t[1:])\n",
    "        \n",
    "    return alisa(t[0]) + alisa(t[1:])\n",
    "    \n",
    "alisa(a)"
   ]
  },
  {
   "cell_type": "code",
   "execution_count": null,
   "metadata": {},
   "outputs": [],
   "source": []
  }
 ],
 "metadata": {
  "celltoolbar": "Slideshow",
  "kernelspec": {
   "display_name": "Python 3",
   "language": "python",
   "name": "python3"
  },
  "language_info": {
   "codemirror_mode": {
    "name": "ipython",
    "version": 3
   },
   "file_extension": ".py",
   "mimetype": "text/x-python",
   "name": "python",
   "nbconvert_exporter": "python",
   "pygments_lexer": "ipython3",
   "version": "3.6.1"
  }
 },
 "nbformat": 4,
 "nbformat_minor": 2
}
