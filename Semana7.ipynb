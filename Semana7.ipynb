{
 "cells": [
  {
   "cell_type": "markdown",
   "metadata": {
    "slideshow": {
     "slide_type": "slide"
    }
   },
   "source": [
    "# <center>Programming Foundations <br/> @ LEIC/LETI</center>\n",
    "\n",
    "<br>\n",
    "<br>\n",
    "\n",
    "## <center>Week 7</center>"
   ]
  },
  {
   "cell_type": "markdown",
   "metadata": {
    "slideshow": {
     "slide_type": "slide"
    }
   },
   "source": [
    "# <center> Functions as Arguments  / High-order Functions </center>\n",
    "\n",
    "We have seen that functions are a method of abstraction that describe compound operations independent of the particular values of their arguments. That is, in square,\n",
    "\n",
    "```\n",
    ">>> def square(x):\n",
    "        return x * x\n",
    "```\n",
    "\n",
    "One of the things we should demand from a powerful programming language is the ability to build abstractions by assigning names to common patterns and then to work in terms of the names directly. Functions provide this ability. As we will see in the following examples, there are common programming patterns that recur in code, but are used with a number of different functions. These patterns can also be abstracted, by giving them names.\n",
    "\n",
    "To express certain general patterns as named concepts, we will need to construct functions that can accept other functions as arguments or return functions as values. Functions that manipulate functions are called **higher-order functions**. "
   ]
  },
  {
   "cell_type": "markdown",
   "metadata": {
    "slideshow": {
     "slide_type": "slide"
    }
   },
   "source": [
    "Consider the following three functions, which all compute summations. The first, `sum_naturals`, computes the sum of natural numbers up to `n`:\n",
    "\n",
    "```\n",
    ">>> def sum_naturals(l_inf, l_sup):\n",
    "        res = 0\n",
    "        for x in range(l_inf, l_sup + 1):\n",
    "            res += x\n",
    "        return res\n",
    "```\n",
    "\n",
    "The second, `sum_square`, computes the sum of the cubes of natural numbers up to `n`.\n",
    "\n",
    "```\n",
    ">>> def sum_square(l_inf, l_sup):\n",
    "        res = 0\n",
    "        for x in range(l_inf, l_sup + 1):\n",
    "            res += x*x\n",
    "        return res\n",
    "```"
   ]
  },
  {
   "cell_type": "markdown",
   "metadata": {
    "slideshow": {
     "slide_type": "slide"
    }
   },
   "source": [
    "These two functions clearly share a common underlying pattern. They are for the most part identical, differing only in name and the function `f` to compute the term to be added: \n",
    "\n",
    "\\begin{equation*}\n",
    "\\sum_{n = l_{inf}}^{l_{sup}} f(n)\n",
    "\\end{equation*}\n",
    "\n",
    "As in Python functions are first-class functions (that are seen as objects, just like variables), they can be passed to the function as an argument:\n",
    "\n",
    "```\n",
    ">>> def summing(l_inf, l_sup, f):\n",
    "        res = 0\n",
    "        for x in range(l_inf, l_sup + 1):\n",
    "            res += f(x)\n",
    "        return res\n",
    "```"
   ]
  },
  {
   "cell_type": "code",
   "execution_count": 53,
   "metadata": {
    "slideshow": {
     "slide_type": "slide"
    }
   },
   "outputs": [
    {
     "name": "stdout",
     "output_type": "stream",
     "text": [
      "id\n",
      "id\n",
      "id\n",
      "id\n",
      "id\n",
      "id\n",
      "id\n",
      "id\n",
      "id\n",
      "id\n"
     ]
    },
    {
     "data": {
      "text/plain": [
       "55"
      ]
     },
     "execution_count": 53,
     "metadata": {},
     "output_type": "execute_result"
    }
   ],
   "source": [
    "def square(x):\n",
    "    print(\"square\")\n",
    "    return x * x\n",
    "\n",
    "def id(x):\n",
    "    print(\"id\")\n",
    "    return x\n",
    "\n",
    "def sum_naturals(l_inf, l_sup, f):\n",
    "    \n",
    "    res = 0\n",
    "    for x in range(l_inf, l_sup + 1):\n",
    "        res += f(x)\n",
    "        \n",
    "    return res\n",
    "\n",
    "sum_naturals(1, 10, id)"
   ]
  },
  {
   "cell_type": "code",
   "execution_count": 62,
   "metadata": {
    "slideshow": {
     "slide_type": "slide"
    }
   },
   "outputs": [
    {
     "name": "stdout",
     "output_type": "stream",
     "text": [
      "1 1\n",
      "5 125\n",
      "9 729\n"
     ]
    },
    {
     "data": {
      "text/plain": [
       "855"
      ]
     },
     "execution_count": 62,
     "metadata": {},
     "output_type": "execute_result"
    }
   ],
   "source": [
    "#What does this function do?\n",
    "def square(x):\n",
    "    return x * x\n",
    "\n",
    "def cubic(x):\n",
    "    return x * x * x\n",
    "\n",
    "def s(x):\n",
    "    return x + 3\n",
    "\n",
    "def s4(x):\n",
    "    return x + 4\n",
    "\n",
    "def sum_naturals(l_inf, l_sup, f, step):\n",
    "    res = 0\n",
    "    while l_inf <= l_sup:\n",
    "        print(l_inf, f(l_inf))\n",
    "        res += f(l_inf)\n",
    "        l_inf = step(l_inf)\n",
    "    return res\n",
    "\n",
    "sum_naturals(1, 10, cubic, s4)"
   ]
  },
  {
   "cell_type": "markdown",
   "metadata": {
    "slideshow": {
     "slide_type": "slide"
    }
   },
   "source": [
    "# Lambda functions\n",
    "\n",
    "\n",
    "Alonzo Church invented lambda calculus in 1914, as we have seen when we discussed functional programming. Lambda calculus allow us to model functions as follows:\n",
    "\n",
    "\\begin{equation}\n",
    "\\lambda x. x+3\n",
    "\\end{equation}\n",
    "\n",
    "To evaluate a lambda function, we write the following, which will evaluate to 6:\n",
    "\n",
    "\\begin{equation}\n",
    "(\\lambda x. x+3)3\n",
    "\\end{equation}\n",
    "\n",
    "Lambda calculs is an universal computation model that was the starting point of many programming languages.\n",
    "\n",
    "In Python, there is the possibility to write anonymous lambda functions as follows:\n",
    "\n",
    "```\n",
    "<anonymous function> ::= lambda <formal paramters>: <expression>\n",
    "```"
   ]
  },
  {
   "cell_type": "code",
   "execution_count": 63,
   "metadata": {
    "slideshow": {
     "slide_type": "slide"
    }
   },
   "outputs": [
    {
     "data": {
      "text/plain": [
       "7"
      ]
     },
     "execution_count": 63,
     "metadata": {},
     "output_type": "execute_result"
    }
   ],
   "source": [
    "(lambda x: x + 3)(4)"
   ]
  },
  {
   "cell_type": "code",
   "execution_count": 64,
   "metadata": {
    "slideshow": {
     "slide_type": "slide"
    }
   },
   "outputs": [
    {
     "data": {
      "text/plain": [
       "6"
      ]
     },
     "execution_count": 64,
     "metadata": {},
     "output_type": "execute_result"
    }
   ],
   "source": [
    "(lambda x: 2*x if x%2 != 0 else x)(6)"
   ]
  },
  {
   "cell_type": "code",
   "execution_count": null,
   "metadata": {
    "slideshow": {
     "slide_type": "slide"
    }
   },
   "outputs": [],
   "source": [
    "sum_naturals(1, 10, lambda x : x*x, lambda x : x + 1)"
   ]
  },
  {
   "cell_type": "markdown",
   "metadata": {
    "slideshow": {
     "slide_type": "slide"
    }
   },
   "source": [
    "# Returning functions \n",
    "\n",
    "Functions can receive functions arguments. Likewise, they can also return functions.\n",
    "\n",
    "Let's consider the derivative of a function 'f'. By definition,\n",
    "\n",
    "\\begin{equation}\n",
    "f'(a) = \\lim_{x\\rightarrow a} \\frac{f(x) - f(a)}{x - a}\n",
    "\\end{equation}\n",
    "\n",
    "Replacing $h = x -a$, \n",
    "\n",
    "\\begin{equation}\n",
    "f'(a) = \\lim_{h\\rightarrow 0} \\frac{f(a + h) - f(a)}{h}\n",
    "\\end{equation}\n",
    "\n",
    "If $dx$ is a suficiently small number, it follows: \n",
    "\n",
    "\\begin{equation}\n",
    "f'(a) \\approx \\frac{f(a + dx) - f(a)}{dx} \n",
    "\\end{equation}"
   ]
  },
  {
   "cell_type": "code",
   "execution_count": null,
   "metadata": {
    "slideshow": {
     "slide_type": "slide"
    }
   },
   "outputs": [],
   "source": [
    "def derivative_in_a_point(f, a):\n",
    "    dx = 0.00001\n",
    "    return (f(a + dx) - f(a)) / dx\n",
    "\n",
    "\n",
    "derivative_in_a_point(lambda x : x*x, 3)"
   ]
  },
  {
   "cell_type": "code",
   "execution_count": 71,
   "metadata": {},
   "outputs": [
    {
     "data": {
      "text/plain": [
       "10.000009999444615"
      ]
     },
     "execution_count": 71,
     "metadata": {},
     "output_type": "execute_result"
    }
   ],
   "source": [
    "def derivative(f):\n",
    "    dx = 0.00001\n",
    "    def derivative_in_a_point_(x):\n",
    "        return (f(x + dx) - f(x)) / dx\n",
    "    \n",
    "    return derivative_in_a_point_\n",
    "\n",
    "g = derivative(lambda x: x*x)\n",
    "g(5)"
   ]
  },
  {
   "cell_type": "code",
   "execution_count": 72,
   "metadata": {
    "slideshow": {
     "slide_type": "slide"
    }
   },
   "outputs": [
    {
     "data": {
      "text/plain": [
       "1.0000000000065512"
      ]
     },
     "execution_count": 72,
     "metadata": {},
     "output_type": "execute_result"
    }
   ],
   "source": [
    "#A shorter defintion, using lambdas\n",
    "\n",
    "def derivative_lambda(f):\n",
    "    dx = 0.00001  \n",
    "    return lambda x : (f(x + dx) - f(x)) / dx\n",
    "\n",
    "h = derivative_lambda(lambda x: x - 2)\n",
    "h(3)"
   ]
  },
  {
   "cell_type": "markdown",
   "metadata": {
    "slideshow": {
     "slide_type": "slide"
    }
   },
   "source": [
    "Python offers several functions that take as argument another function. The following are the most common, and can be used with any iteravel. \n",
    "\n",
    "- filter\n",
    "- map\n",
    "- reduce (available in the functools module)\n"
   ]
  },
  {
   "cell_type": "code",
   "execution_count": 74,
   "metadata": {
    "slideshow": {
     "slide_type": "slide"
    }
   },
   "outputs": [
    {
     "name": "stdout",
     "output_type": "stream",
     "text": [
      "[1, 4, 9, 16]\n",
      "[2, 4]\n",
      "24\n"
     ]
    }
   ],
   "source": [
    "from functools import reduce\n",
    "\n",
    "l = [1,2,3,4]\n",
    "\n",
    "l1 = list(map(lambda x: x*x, l))\n",
    "print(l1)\n",
    "\n",
    "l2 = list(filter(lambda x: x % 2 == 0, l))\n",
    "print(l2)\n",
    "\n",
    "l3 = reduce((lambda x, y: x * y), [1, 2, 3, 4] )\n",
    "print(l3)"
   ]
  },
  {
   "cell_type": "markdown",
   "metadata": {
    "slideshow": {
     "slide_type": "slide"
    }
   },
   "source": [
    "More info: http://composingprograms.com/pages/16-higher-order-functions.html"
   ]
  },
  {
   "cell_type": "markdown",
   "metadata": {
    "slideshow": {
     "slide_type": "slide"
    }
   },
   "source": [
    "# Recursion & Iteration \n",
    "\n",
    "We talked about some of the basics of functions, including recursive functions. Today, let’s dive a little deeper into the different kinds of recursion, including linear, tail recursion and finally binary recursion.  This is in a series of back to basics covering recursion in some depth.\n",
    "\n",
    "- Linear recursion (as well as iterative recursion)\n",
    "- Tail recursion\n",
    "- Binary recursion"
   ]
  },
  {
   "cell_type": "markdown",
   "metadata": {
    "slideshow": {
     "slide_type": "slide"
    }
   },
   "source": [
    "# Linear recursion\n",
    "\n",
    "Linear recursion is by far the most common form of recursion. In this style of recursion, the function calls itself repeatedly until it hits the termination condition. After hitting the termination condition, it simply returns the result to the caller through a process called _unwinding_. The number of local environments **increase linearly** with the input of the function.\n",
    "\n",
    "```\n",
    ">>> def factorial(n):\n",
    "    if n == 0:\n",
    "        return 1\n",
    "    else:\n",
    "        return n * factorial(n - 1)\n",
    "```\n",
    "\n",
    "Exectution pattern:\n",
    "\n",
    "```\n",
    "factorial(4)\n",
    "| factorial(3)\n",
    "| | factorial(2)\n",
    "| | | factorial(1)\n",
    "| | | | factorial(0)\n",
    "| | | | return 1\n",
    "| | | return 1\n",
    "| | return 2\n",
    "| return 6\n",
    "return 24\n",
    "```"
   ]
  },
  {
   "cell_type": "code",
   "execution_count": null,
   "metadata": {
    "slideshow": {
     "slide_type": "slide"
    }
   },
   "outputs": [],
   "source": [
    "#What's the execution patter of:\n",
    "\n",
    "def suming(lst):\n",
    "    if lst == []:\n",
    "        return 0\n",
    "    else:\n",
    "        return lst[0] + suming(lst[1:])                        "
   ]
  },
  {
   "cell_type": "code",
   "execution_count": 43,
   "metadata": {
    "slideshow": {
     "slide_type": "slide"
    }
   },
   "outputs": [
    {
     "name": "stdout",
     "output_type": "stream",
     "text": [
      "summing([1, 2, 3])\n",
      "\tsumming([2, 3])\n",
      "\t\tsumming([3])\n",
      "\t\t\tsumming([])\n",
      "\t\t\t0\n",
      "\t\t3\n",
      "\t5\n",
      "6\n"
     ]
    }
   ],
   "source": [
    "def suming(lst, tab):\n",
    "    if lst == []:\n",
    "        return 0\n",
    "    else:\n",
    "        print(tab + \"summing({})\".format(lst[1:]))\n",
    "        nxt = suming(lst[1:], tab + \"\\t\")\n",
    "        print(tab + str(nxt))\n",
    "        return lst[0] + nxt\n",
    "\n",
    "print(\"summing({})\".format([1,2,3]))\n",
    "res = suming([1,2,3], \"\\t\")\n",
    "print(res)"
   ]
  },
  {
   "cell_type": "markdown",
   "metadata": {
    "slideshow": {
     "slide_type": "slide"
    }
   },
   "source": [
    "# Linear Iteration\n",
    "\n",
    "Linear Iteration is similar to linear recursion, but the function does not call itself, but rather the number of operations on the environment variables change linearly with the size of the input.\n",
    "\n",
    "```\n",
    ">>> def factorial(n):\n",
    "        res = 1\n",
    "        for i in range(1, n+1):\n",
    "            res = res * i\n",
    "        return res\n",
    "```"
   ]
  },
  {
   "cell_type": "markdown",
   "metadata": {
    "slideshow": {
     "slide_type": "slide"
    }
   },
   "source": [
    "# Tail recursion\n",
    "\n",
    "In tail recursion, one performs the calculations first, and then you execute the recursive call, passing the results of your current step to the next recursive step. This results in the last statement being in the form of \"(return (recursive-function params))\". Basically, the return value of any given recursive step is the same as the return value of the next recursive call.\n",
    "\n",
    "```\n",
    ">>> def factorial(n, acc):\n",
    "        if n == 0:\n",
    "            return acc\n",
    "        else:\n",
    "            return factorial(n - 1, n * acc)\n",
    "```"
   ]
  },
  {
   "cell_type": "code",
   "execution_count": null,
   "metadata": {
    "slideshow": {
     "slide_type": "slide"
    }
   },
   "outputs": [],
   "source": [
    "#Organizing this function in a better way:\n",
    "\n",
    "def factorial(n):\n",
    "    def factorial_aux(n, acc):\n",
    "        if n == 0:\n",
    "            return acc\n",
    "        else:\n",
    "            return factorial_aux(n - 1, n * acc)\n",
    "    return factorial_aux(n, 1)"
   ]
  },
  {
   "cell_type": "markdown",
   "metadata": {
    "slideshow": {
     "slide_type": "slide"
    }
   },
   "source": [
    "```\n",
    "factorial(4)\n",
    "| factorial_aux(4, 1)\n",
    "| | factorial_aux(3, 4)\n",
    "| | | factorial_aux(2, 12)\n",
    "| | | | factorial_aux(1, 24)\n",
    "| | | | | factorial_aux(0, 24)\n",
    "| | | | | return 24\n",
    "| | | | return 24\n",
    "| | | return 24\n",
    "| | return 24\n",
    "| return 24\n",
    "return 24\n",
    "```"
   ]
  },
  {
   "cell_type": "markdown",
   "metadata": {
    "slideshow": {
     "slide_type": "slide"
    }
   },
   "source": [
    "# Python and Tail Recursion\n",
    "\n",
    "Python does not optimize tail recursions (Perhaps, it never will since Guido van Rossum prefers to be able to have proper tracebacks!)\n",
    "\n",
    "There is however a library that does help us with that: [A module for performing tail-call optimization in Python code](https://github.com/baruchel/tco). \n",
    "\n",
    "**This is an advanced topic**: We may visit this topic again if there is time, for the interested ones, see the notes in [link](http://web.ist.utl.pt/aplf/fp/Lesson15.html)\n",
    "\n"
   ]
  },
  {
   "cell_type": "markdown",
   "metadata": {
    "slideshow": {
     "slide_type": "slide"
    }
   },
   "source": [
    "# Binary Recursion\n",
    "\n",
    "Yet another very common pattern. Let's see is using an example.\n",
    "\n",
    "\\begin{align} fib(n) = & \\left\\{ \\begin{array}{cl} 0 & \\text{se } n = 1,\\\\ 1 & \\text{se } n = 2,\\\\ fib(n-1) + fib(n-2) & \\text{se } n > 2 \\end{array} \\right. \\end{align}\n",
    "\n",
    "And its Python implementation:\n",
    "\n",
    "```\n",
    ">>> def fib(n):\n",
    "        if n == 1:\n",
    "            return 0\n",
    "        elif n == 2:\n",
    "            return 1\n",
    "        else return fib(n - 1) + fib(n - 2)\n",
    "```"
   ]
  },
  {
   "cell_type": "markdown",
   "metadata": {
    "slideshow": {
     "slide_type": "slide"
    }
   },
   "source": [
    "![arvore](imgs/arvore.png)\n",
    "\n",
    "\n",
    "This implementation has two problems:\n",
    "\n",
    "- Creates too many local environments (it increases exponencially with the input)\n",
    "- There are many repeated computations"
   ]
  },
  {
   "cell_type": "code",
   "execution_count": 44,
   "metadata": {
    "slideshow": {
     "slide_type": "slide"
    }
   },
   "outputs": [],
   "source": [
    "# An optimization:\n",
    "\n",
    "def fib(n):\n",
    "    def fib_aux(s, t, n):\n",
    "        if n == 0:\n",
    "            return s\n",
    "        else:\n",
    "            return fib_aux(t, s+t, n - 1)\n",
    "    \n",
    "    return fib_aux(0, 1, n-1)"
   ]
  },
  {
   "cell_type": "markdown",
   "metadata": {
    "slideshow": {
     "slide_type": "slide"
    }
   },
   "source": [
    "```\n",
    "fib(5)\n",
    "fib_aux(0, 1, 3)\n",
    "| fib_aux(1, 1, 2)\n",
    "| | fib_aux(1, 2, 1)\n",
    "| | | fib_aux(2, 3, 0)\n",
    "| | | return 3\n",
    "| | return 3\n",
    "| return 3\n",
    "return 3\n",
    "return 3\n",
    "```"
   ]
  },
  {
   "cell_type": "markdown",
   "metadata": {
    "slideshow": {
     "slide_type": "slide"
    }
   },
   "source": [
    "# Considerations on efficiency\n",
    "\n",
    "As a developer, when devising an algorithm there are two main aspects that are very important\n",
    "\n",
    "- Time\n",
    "\n",
    "- Space\n",
    "\n",
    "Different solutions to solve the same problem may be drastically different when the solutions are compared in terms of time/space efficiency!"
   ]
  },
  {
   "cell_type": "markdown",
   "metadata": {
    "slideshow": {
     "slide_type": "slide"
    }
   },
   "source": [
    "| Pattern          | Time          | Space |\n",
    "| ---------------- |:-------------:| -----:|\n",
    "| Linear Recursion | O(n)          | O(n)  |\n",
    "| Linear Iteration | O(n)          | O(1)  |\n",
    "| Binary Recursion | O($k^n$)      | O(n)  |"
   ]
  },
  {
   "cell_type": "markdown",
   "metadata": {
    "collapsed": true
   },
   "source": []
  }
 ],
 "metadata": {
  "celltoolbar": "Slideshow",
  "kernelspec": {
   "display_name": "Python 3",
   "language": "python",
   "name": "python3"
  },
  "language_info": {
   "codemirror_mode": {
    "name": "ipython",
    "version": 3
   },
   "file_extension": ".py",
   "mimetype": "text/x-python",
   "name": "python",
   "nbconvert_exporter": "python",
   "pygments_lexer": "ipython3",
   "version": "3.6.1"
  }
 },
 "nbformat": 4,
 "nbformat_minor": 2
}
