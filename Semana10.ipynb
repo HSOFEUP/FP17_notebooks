{
 "cells": [
  {
   "cell_type": "markdown",
   "metadata": {
    "slideshow": {
     "slide_type": "slide"
    }
   },
   "source": [
    "# <center>Programming Foundations <br/> @ LEIC/LETI</center>\n",
    "\n",
    "<br>\n",
    "<br>\n",
    "\n",
    "## <center>Week 10</center>"
   ]
  },
  {
   "cell_type": "markdown",
   "metadata": {
    "slideshow": {
     "slide_type": "slide"
    }
   },
   "source": [
    "# <center> Introduction To Files In Python </center>\n",
    "\n",
    "Until now, you have been reading and writing to the standard input and output. Now, we will see how to use actual data files. \n",
    "\n",
    "Why are files an important concept? It is the way we can persist data (in other words, keep context from one execution of a program to another).\n",
    "\n",
    "Properties of files:\n",
    "- They are independent of the program\n",
    "- During the execution of a program, a file can be in one of the following _states_\n",
    "    - Reading state\n",
    "    - Writing state"
   ]
  },
  {
   "cell_type": "markdown",
   "metadata": {
    "slideshow": {
     "slide_type": "slide"
    }
   },
   "source": [
    "# <center> Syntax </center>\n",
    "\n",
    "```\n",
    "file_object = open(file_name [, access_mode][, buffering])\n",
    "```\n",
    "\n",
    "Where:\n",
    "- **file_name** : The file_name argument is a string value that contains the name of the file that you want to access.\n",
    "- **access_mode**: The access_mode determines the mode in which the file has to be opened, i.e., read, write, append, etc. This is optional and the default file access mode is read `r`.\n",
    "- **buffering**: If the buffering value is set to `0`, no buffering takes place. If the buffering value is\n",
    "`1`, line buffering is performed while accessing a file. If you specify the buffering value as an integer greater than `1`, then buffering action is performed with the indicated buffer size. If negative, the buffer size is the system defaultdefaultbehavior."
   ]
  },
  {
   "cell_type": "markdown",
   "metadata": {
    "slideshow": {
     "slide_type": "slide"
    }
   },
   "source": [
    "# <center> Access modes </center>\n",
    "\n",
    "| Modes   | Description  |\n",
    "|----|----|\n",
    "| r  | Opens a file for reading only. The file pointer is placed at the beginning of the file. This is the default mode.  | \n",
    "| rb | Opens a file for reading only in binary format. The file pointer is placed at the beginning of the file. This is the default mode.   |  \n",
    "| r+  | Opens a file for both reading and writing. The file pointer placed at the beginning of the file.  |  \n",
    "| rb+  | Opens a file for both reading and writing in binary format. The file pointer placed at the beginning of the file.   | \n",
    "| w   | Opens a file for writing only. Overwrites the file if the file exists. If the file does not exist, creates a new file for writing.   | \n",
    "| wb   | Opens a file for writing only in binary format. Overwrites the file if the file exists. If the file does not exist, creates a new file for writing.  | \n",
    "| w+   | Opens a file for both writing and reading. Overwrites the existing file if the file exists. If the file does not exist, creates a new file for reading and writing.  | \n",
    "| wb+ | Opens a file for both writing and reading in binary format. Overwrites the existing file if the file exists. If the file does not exist, creates a new file for reading and writing. |\n",
    "| a | Opens a file for appending. The file pointer is at the end of the file if the file exists. That is, the file is in the append mode. If the file does not exist, it creates a new file for writing. |\n",
    "| ab | ab Opens a file for appending in binary format. The file pointer is at the end of the file if the file exists. That is, the file is in the append mode. If the file does not exist, it creates a new file for writing. |\n",
    "| a+ | Opens a file for both appending and reading. The file pointer is at the end of the file if the file exists. The file opens in the append mode. If the file does not exist, it creates a new file for reading and writing. |\n",
    "| ab+ | Opens a file for both appending and reading in binary format. The file pointer is at the end of the file if the file exists. The file opens in the append mode. If the file does not exist, it creates a new file for reading and writing. |\n",
    "\n",
    "\n",
    " \n",
    " \n",
    " \n",
    " \n",
    " \n",
    " \n",
    "  \n"
   ]
  },
  {
   "cell_type": "markdown",
   "metadata": {
    "slideshow": {
     "slide_type": "slide"
    }
   },
   "source": [
    "# <center> The file object attributes </center>\n",
    "\n",
    "Once a file is opened and you have one file object, you can get various information related to that file.\n",
    "\n",
    "Here is a list of all attributes related to file object:\n",
    "\n",
    "| Attribute | Description |\n",
    "|-----------|-------------|\n",
    "| file.closed | Returns true if file is closed, false otherwise. |\n",
    "| file.mode   | Returns access mode with which file was opened. |\n",
    "| file.name   | Returns name of the file. |"
   ]
  },
  {
   "cell_type": "code",
   "execution_count": 5,
   "metadata": {
    "slideshow": {
     "slide_type": "slide"
    }
   },
   "outputs": [
    {
     "name": "stdout",
     "output_type": "stream",
     "text": [
      "Name of the file:  foo.txt\n",
      "Closed or not :  False\n",
      "Opening mode :  w\n"
     ]
    },
    {
     "data": {
      "text/plain": [
       "<_io.TextIOWrapper name='foo.txt' mode='w' encoding='UTF-8'>"
      ]
     },
     "execution_count": 5,
     "metadata": {},
     "output_type": "execute_result"
    }
   ],
   "source": [
    "fo = open(\"foo.txt\", \"w\")\n",
    "print(\"Name of the file: \", fo.name)\n",
    "print(\"Closed or not : \", fo.closed)\n",
    "print(\"Opening mode : \", fo.mode)\n",
    "\n",
    "fo"
   ]
  },
  {
   "cell_type": "markdown",
   "metadata": {
    "slideshow": {
     "slide_type": "slide"
    }
   },
   "source": [
    "# <center> The close Method </center>\n",
    "\n",
    "The close method of a file object flushes any unwritten information and closes the file object, after which no more writing can be done.\n",
    "\n",
    "Python automatically closes a file when the reference object of a file is reassigned to another file. It is a good practice to use the close method to close a file.\n",
    "\n",
    "```\n",
    "fileObject.close()\n",
    "```"
   ]
  },
  {
   "cell_type": "code",
   "execution_count": 6,
   "metadata": {
    "slideshow": {
     "slide_type": "slide"
    }
   },
   "outputs": [
    {
     "name": "stdout",
     "output_type": "stream",
     "text": [
      "Closed or not :  True\n"
     ]
    }
   ],
   "source": [
    "# Open a file\n",
    "fo = open(\"foo.txt\", \"wb\")\n",
    "\n",
    "# Close opend file\n",
    "fo.flush()\n",
    "fo.close()\n",
    "\n",
    "print(\"Closed or not : \", fo.closed)"
   ]
  },
  {
   "cell_type": "markdown",
   "metadata": {
    "slideshow": {
     "slide_type": "slide"
    }
   },
   "source": [
    "# <center> Reading and Writing Files </center>\n",
    "\n",
    "The file object provides a set of access methods to make our lives easier. We would see how to use read and write methods to read and write files."
   ]
  },
  {
   "cell_type": "markdown",
   "metadata": {},
   "source": [
    "# <center> The write Method </center>\n",
    "\n",
    "The write method writes any string to an open file. The write method does not add a newline character `\\n` to the end of the string.\n",
    "\n",
    "```\n",
    "fileObject.write(string);\n",
    "```"
   ]
  },
  {
   "cell_type": "code",
   "execution_count": 9,
   "metadata": {
    "collapsed": true,
    "slideshow": {
     "slide_type": "slide"
    }
   },
   "outputs": [],
   "source": [
    "# Open a file\n",
    "fo = open(\"foo.txt\", \"a\")\n",
    "\n",
    "#wirte to the file\n",
    "fo.write( \"Python is a great language.\\nYeah its great!!\\n\");\n",
    "\n",
    "# Close opend file\n",
    "fo.close()"
   ]
  },
  {
   "cell_type": "code",
   "execution_count": 12,
   "metadata": {
    "slideshow": {
     "slide_type": "slide"
    }
   },
   "outputs": [
    {
     "name": "stdout",
     "output_type": "stream",
     "text": [
      "[80, 121, 116, 104, 111, 110, 32, 105, 115, 32, 97, 32, 103, 114, 101, 97, 116, 32, 108, 97, 110, 103, 117, 97, 103, 101, 46, 10, 89, 101, 97, 104, 32, 105, 116, 115, 32, 103, 114, 101, 97, 116, 33, 33, 10]\n"
     ]
    }
   ],
   "source": [
    "# Open a file\n",
    "fo = open(\"foo1.txt\", \"wb\")\n",
    "\n",
    "#wirte to the file\n",
    "fo.write( b'Python is a great language.\\nYeah its great!!\\n' );\n",
    "\n",
    "# Close opend file\n",
    "fo.close()\n",
    "\n",
    "print(list(str.encode(\"Python is a great language.\\nYeah its great!!\\n\")))"
   ]
  },
  {
   "cell_type": "markdown",
   "metadata": {
    "slideshow": {
     "slide_type": "slide"
    }
   },
   "source": [
    "# <center> The read Method </center>\n",
    "\n",
    "The read method reads a string from an open file. It is important to note that Python strings can have binary data. apart from text data.\n",
    "\n",
    "```\n",
    "fileObject.read([count]);\n",
    "```\n",
    "\n",
    "Here, passed parameter is the number of bytes to be read from the opened file. This method starts reading from the beginning of the file and if count is missing, then it tries to read as much as possible, maybe until the end of file."
   ]
  },
  {
   "cell_type": "code",
   "execution_count": 17,
   "metadata": {
    "slideshow": {
     "slide_type": "slide"
    }
   },
   "outputs": [
    {
     "name": "stdout",
     "output_type": "stream",
     "text": [
      "Read String is :  Python is \n",
      "a great la\n"
     ]
    }
   ],
   "source": [
    "# Open a file\n",
    "fo = open(\"foo.txt\", \"r\")\n",
    "\n",
    "s = fo.read(10);\n",
    "print(\"Read String is : \", s)\n",
    "\n",
    "s = fo.read(10);\n",
    "print(s)\n",
    "\n",
    "# Close opend file\n",
    "fo.flush()\n",
    "fo.close()"
   ]
  },
  {
   "cell_type": "markdown",
   "metadata": {
    "slideshow": {
     "slide_type": "slide"
    }
   },
   "source": [
    "# <center> File Positions </center>\n",
    "\n",
    "The `tell` method tells you the current position within the file; in other words, the next read or write will occur at that many bytes from the beginning of the file.\n",
    "\n",
    "The `seekoffset[, from]` method changes the current file position. The offset argument indicates the number of bytes to be moved. The from argument specifies the reference position from where the bytes are to be moved.\n",
    "\n",
    "If from is set to `0`, it means use the beginning of the file as the reference position and `1` means use the current position as the reference position and if it is set to 2 then the end of the file would be taken as the reference position."
   ]
  },
  {
   "cell_type": "code",
   "execution_count": 37,
   "metadata": {
    "slideshow": {
     "slide_type": "slide"
    }
   },
   "outputs": [
    {
     "name": "stdout",
     "output_type": "stream",
     "text": [
      "Read String is :  Python is \n",
      "Current file position :  10\n",
      "Again read String is :  s a great \n",
      "/Users/ruimaranhao/Desktop/IST/fp17-tagus/notebooks\n"
     ]
    }
   ],
   "source": [
    "# Open a file\n",
    "fo = open(\"foo.txt\", \"r+\")\n",
    "str = fo.read(10);\n",
    "\n",
    "print(\"Read String is : \", str)\n",
    "\n",
    "# Check current position\n",
    "position = fo.tell();\n",
    "print(\"Current file position : \", position)\n",
    "\n",
    "# Reposition pointer at the beginning once again\n",
    "position = fo.seek(fo.tell()-2,0);\n",
    "str = fo.read(10);\n",
    "print(\"Again read String is : \", str)\n",
    "\n",
    "# Close opend file\n",
    "fo.close()\n",
    "\n",
    "import os\n",
    "print(os.getcwd())"
   ]
  },
  {
   "cell_type": "markdown",
   "metadata": {
    "slideshow": {
     "slide_type": "slide"
    }
   },
   "source": [
    "# <center> Other operations </center>\n",
    "\n",
    "Python `os` module provides methods that help you perform file-processing operations, such as renaming and deleting files. To use this module you need to import it first and then you can call any related functions.\n",
    "\n",
    "```\n",
    "import os\n",
    "# Rename a file from test1.txt to test2.txt\n",
    "os.rename( \"test1.txt\", \"test2.txt\" )\n",
    "```\n",
    "\n",
    "```\n",
    "# Delete file test2.txt\n",
    "os.remove(\"text2.txt\")\n",
    "```\n",
    "\n",
    "All files are contained within various directories, and Python has no problem handling these too. The `os` module has several methods that help you `create`, `remove`, and `change` directories. Go learn this yourself!"
   ]
  },
  {
   "cell_type": "code",
   "execution_count": 39,
   "metadata": {
    "slideshow": {
     "slide_type": "slide"
    }
   },
   "outputs": [
    {
     "name": "stdout",
     "output_type": "stream",
     "text": [
      "Python is a great language.\n",
      "Yeah its great!!Python is a great language.\n",
      "Yeah its great!!\n"
     ]
    }
   ],
   "source": [
    "f = open('foo.txt', 'r')\n",
    "\n",
    "for line in f:\n",
    "    print(line, end='')\n",
    "    \n",
    "f.flush()\n",
    "f.close()"
   ]
  },
  {
   "cell_type": "code",
   "execution_count": 50,
   "metadata": {
    "slideshow": {
     "slide_type": "slide"
    }
   },
   "outputs": [
    {
     "name": "stdout",
     "output_type": "stream",
     "text": [
      "['P', 'y', 't', 'h', 'o', 'n', ' ', 'i', 's', ' ', 'a', ' ', 'g', 'r', 'e', 'a', 't', ' ', 'l', 'a', 'n', 'g', 'u', 'a', 'g', 'e', '.', '\\n', 'Y', 'e', 'a', 'h', ' ', 'i', 't', 's', ' ', 'g', 'r', 'e', 'a', 't', '!', '!', 'P', 'y', 't', 'h', 'o', 'n', ' ', 'i', 's', ' ', 'a', ' ', 'g', 'r', 'e', 'a', 't', ' ', 'l', 'a', 'n', 'g', 'u', 'a', 'g', 'e', '.', '\\n', 'Y', 'e', 'a', 'h', ' ', 'i', 't', 's', ' ', 'g', 'r', 'e', 'a', 't', '!', '!', '\\n']\n"
     ]
    }
   ],
   "source": [
    "#Advanced topics\n",
    "\n",
    "lst = []\n",
    "with open('foo.txt') as f:\n",
    "    for x in f:\n",
    "        for c in x:\n",
    "            lst.append(c)\n",
    "\n",
    "print(lst)\n",
    "#read a file line by line\n",
    "#with open('foo.txt') as f:\n",
    "#    lines = f.readlines()\n",
    "#    print(lines)\n",
    "    \n",
    "#list comprehension\n",
    "#lines = [line for line in open('foo.txt')]\n",
    "#print(lines)\n",
    "\n",
    "#print(list(open('foo.txt')))\n",
    "\n",
    "lstc = [x for line in open('foo.txt') for x in line]\n",
    "print(lstc)"
   ]
  },
  {
   "cell_type": "markdown",
   "metadata": {
    "slideshow": {
     "slide_type": "slide"
    }
   },
   "source": [
    "# Extra: Binary files\n",
    "\n",
    "Up to now, we have discussed text files. For binary files, check this out:\n",
    "\n",
    "https://www.devdungeon.com/content/working-binary-data-python"
   ]
  },
  {
   "cell_type": "code",
   "execution_count": 54,
   "metadata": {
    "slideshow": {
     "slide_type": "slide"
    }
   },
   "outputs": [
    {
     "name": "stdout",
     "output_type": "stream",
     "text": [
      "[0, 1, 2]\n",
      "[0, 1, 2]\n",
      "[2, 1, 2]\n",
      "[2, 1, 2]\n"
     ]
    }
   ],
   "source": [
    "l = [0,1,2]\n",
    "\n",
    "def add(x):\n",
    "    print(x)\n",
    "    l[0] = 2\n",
    "    print(x)\n",
    "    \n",
    "    \n",
    "print(l)\n",
    "add(l)\n",
    "print(l)\n"
   ]
  },
  {
   "cell_type": "code",
   "execution_count": null,
   "metadata": {
    "collapsed": true,
    "slideshow": {
     "slide_type": "slide"
    }
   },
   "outputs": [],
   "source": []
  }
 ],
 "metadata": {
  "celltoolbar": "Slideshow",
  "kernelspec": {
   "display_name": "Python 3",
   "language": "python",
   "name": "python3"
  },
  "language_info": {
   "codemirror_mode": {
    "name": "ipython",
    "version": 3
   },
   "file_extension": ".py",
   "mimetype": "text/x-python",
   "name": "python",
   "nbconvert_exporter": "python",
   "pygments_lexer": "ipython3",
   "version": "3.6.1"
  }
 },
 "nbformat": 4,
 "nbformat_minor": 2
}
