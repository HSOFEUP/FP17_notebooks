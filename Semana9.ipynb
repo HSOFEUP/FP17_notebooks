{
 "cells": [
  {
   "cell_type": "markdown",
   "metadata": {
    "slideshow": {
     "slide_type": "slide"
    }
   },
   "source": [
    "# <center>Programming Foundations <br/> @ LEIC/LETI</center>\n",
    "\n",
    "<br>\n",
    "<br>\n",
    "\n",
    "## <center>Week 9</center>"
   ]
  },
  {
   "cell_type": "markdown",
   "metadata": {
    "slideshow": {
     "slide_type": "slide"
    }
   },
   "source": [
    "# <center> Abstraction </center>\n",
    "\n",
    "- Really simple: hiding stuff!\n",
    "    - https://www.youtube.com/watch?v=L1-zCdrx8Lk\n",
    "\n",
    "- Abstraction is a core concept in all of computer science. Without abstraction, we would still be programming in machine code or worse not have computers in the first place.\n",
    "    - Up till now, we have seen procedural abstractions\n",
    "    - Now, we will see data abstractations (e.g., data structures)\n",
    "    \n",
    "- What is abstraction? Abstracting something means to give names to things, so that the name captures the core of what a function or a whole program does.\n"
   ]
  },
  {
   "cell_type": "markdown",
   "metadata": {
    "slideshow": {
     "slide_type": "slide"
    }
   },
   "source": [
    "# An example: complex numbers\n",
    "\n",
    "A complex number is a number that can be expressed in the form $a + bi$, where $a$ and $b$ are real numbers, and $i$ is a solution of the equation $i^2 = −1$, which is called an imaginary number because there is no real number that satisfies this equation.\n",
    "\n",
    "Equations:\n",
    "- $(a + b i) + (c + d i) = (a + c) + (b + d) i$   \n",
    "- $(a + b i) -  (c + d i) = (a - c) + (b - d) i$\n",
    "- $(a + b i).(c + d i) = (a c - b d) + (a d + b c) i$\n",
    "- $\\frac{a + bi}{c + di} = \\frac{ac + bd}{c^2 + d^2} + \\frac{bc - ad}{c^2 + d^2}i$"
   ]
  },
  {
   "cell_type": "markdown",
   "metadata": {
    "slideshow": {
     "slide_type": "slide"
    }
   },
   "source": [
    "# How to represent complex numbers?"
   ]
  },
  {
   "cell_type": "code",
   "execution_count": 1,
   "metadata": {
    "slideshow": {
     "slide_type": "slide"
    }
   },
   "outputs": [
    {
     "data": {
      "text/plain": [
       "(3, 5)"
      ]
     },
     "execution_count": 1,
     "metadata": {},
     "output_type": "execute_result"
    }
   ],
   "source": [
    "def sum_compl(c1, c2):\n",
    "    if not isinstance(c1, tuple) or not isinstance(c2, tuple):\n",
    "        raise ValueError(\"Not a complex number\")\n",
    "    \n",
    "    if len(c1) != 2 or len(c2) != 2:\n",
    "        raise ValueError(\"Not a complex number\")\n",
    "    \n",
    "    if not isinstance(c1[0], (float, int)) or not isinstance(c1[1], (float, int)) or not isinstance(c2[0], (float, int)) or not isinstance(c2[1], (float, int)):\n",
    "        raise ValueError(\"Not a complex number\")\n",
    "    \n",
    "    c3 = (c1[0] + c2[0], c1[1] + c2[1])\n",
    "    return c3\n",
    "    \n",
    "    \n",
    "#def sub_compl(None):\n",
    "#    None\n",
    "    \n",
    "#def mul_compl(None):\n",
    "#    None\n",
    "    \n",
    "#def div_compl(None):\n",
    "#    None\n",
    "\n",
    "sum_compl((1,2),(2,3))"
   ]
  },
  {
   "cell_type": "markdown",
   "metadata": {
    "slideshow": {
     "slide_type": "slide"
    }
   },
   "source": [
    "Suppose there is a library with the following functions:\n",
    "\n",
    "- **build_compl(r, i)** - takes as argument two real number, and returns a complex one\n",
    "- **p_real(c)** - takes as argument a complex number, and returns the real part of the number\n",
    "- **p_imag(c)** - takes as argument a complex number, and returns the imaginary part of the number"
   ]
  },
  {
   "cell_type": "code",
   "execution_count": 2,
   "metadata": {
    "collapsed": true,
    "slideshow": {
     "slide_type": "slide"
    }
   },
   "outputs": [],
   "source": [
    "def sum_compl(c1, c2):\n",
    "    p_r = p_real(c1) + p_real(c2)\n",
    "    p_i = p_imag(c1) + p_imag(c2)\n",
    "    return build_compl(p_r, p_i)\n",
    "\n",
    "def sub_compl(c1, c2):\n",
    "    p_r = p_real(c1) - p_real(c2)\n",
    "    p_i = p_imag(c1) - p_imag(c2)\n",
    "    return build_compl(p_r, p_i)\n",
    "\n",
    "def mul_compl(c1, c2):\n",
    "    p_r = p_real(c1) * p_real(c2) - p_imag(c1) * p_imag(c2)\n",
    "    p_i = p_real(c1) * p_imag(c2) + p_imag(c1) * p_real(c2)\n",
    "    return build_compl(p_r, p_i)\n",
    "\n",
    "def div_compl(c1, c2):\n",
    "    den = p_real(c2) * p_real(c2) + p_imag(c2) * p_imag(c2)\n",
    "    p_r = (p_real(c1) * p_real(c2) + p_imag(c1) * p_imag(c2))/den\n",
    "    p_i = (p_imag(c1) * p_real(c2) - p_real(c1) * p_imag(c2))/den\n",
    "    return build_compl(p_r, p_i)    "
   ]
  },
  {
   "cell_type": "code",
   "execution_count": 3,
   "metadata": {
    "collapsed": true,
    "slideshow": {
     "slide_type": "slide"
    }
   },
   "outputs": [],
   "source": [
    "def pretty_print_compl(c):\n",
    "    if p_imag(c) >= 0:\n",
    "        rep_ext = str(p_real(c)) + '+' + str(p_imag(c)) + 'i'\n",
    "    else:\n",
    "        rep_ext = str(p_real(c)) + '-' + str(abs(p_imag(c))) + 'i'\n",
    "    print(rep_ext)"
   ]
  },
  {
   "cell_type": "code",
   "execution_count": 4,
   "metadata": {
    "scrolled": true
   },
   "outputs": [
    {
     "name": "stdout",
     "output_type": "stream",
     "text": [
      "13+15i\n"
     ]
    }
   ],
   "source": [
    "#Representing as a tuple\n",
    "def build_compl(r, i):\n",
    "    return (r, i)\n",
    "\n",
    "def p_real(c):\n",
    "    return c[0]\n",
    "\n",
    "def p_imag(c):\n",
    "    return c[1]\n",
    "\n",
    "c1 = build_compl(10, 5)\n",
    "c2 = build_compl(3, 10)\n",
    "pretty_print_compl(sum_compl(c1, c2))"
   ]
  },
  {
   "cell_type": "code",
   "execution_count": 5,
   "metadata": {
    "collapsed": true,
    "slideshow": {
     "slide_type": "slide"
    }
   },
   "outputs": [],
   "source": [
    "#Representing as a dictionary\n",
    "def cria_compl(r, i):\n",
    "    return {'r': r, 'i' : i}\n",
    "\n",
    "def p_real(c):\n",
    "    return c['r']\n",
    "\n",
    "def p_imag(c):\n",
    "    return c['i']"
   ]
  },
  {
   "cell_type": "markdown",
   "metadata": {
    "slideshow": {
     "slide_type": "slide"
    }
   },
   "source": [
    "# Yet another example: vectors\n",
    "\n",
    "- to_vector(x, y): takes as input two real numbers and returns a vector (x, y)\n",
    "- vector_abcissa(v): takes as input a vector and returns its abscissa \n",
    "- vector_ordenada(v): takes as input a vector and returns its ordinate\n",
    "- is_vector(e): takes as input an element and verifies if it is a vector\n",
    "- vector_equals(u,v): takes as input two vectors, and returns True if they are equal\n",
    "- pretty_print_vector(v): takes as input a vector and gets its representation as a string"
   ]
  },
  {
   "cell_type": "code",
   "execution_count": 6,
   "metadata": {
    "slideshow": {
     "slide_type": "slide"
    }
   },
   "outputs": [
    {
     "data": {
      "text/plain": [
       "(10, 20)"
      ]
     },
     "execution_count": 6,
     "metadata": {},
     "output_type": "execute_result"
    }
   ],
   "source": [
    "def to_vector(x, y):\n",
    "    if not (isinstance(x, (float, int)) and isinstance(y, (float, int))):\n",
    "        raise ValueError('to_vector: x and y must be numbers')\n",
    "    return (x, y)\n",
    "\n",
    "to_vector(10,20)"
   ]
  },
  {
   "cell_type": "code",
   "execution_count": 7,
   "metadata": {
    "collapsed": true,
    "slideshow": {
     "slide_type": "slide"
    }
   },
   "outputs": [],
   "source": [
    "def vector_abcissa(v):\n",
    "    if not is_vector(v):\n",
    "        raise ValueError('vector_abcissa: v must be a vector')\n",
    "    return v[0]"
   ]
  },
  {
   "cell_type": "code",
   "execution_count": 8,
   "metadata": {
    "collapsed": true,
    "slideshow": {
     "slide_type": "slide"
    }
   },
   "outputs": [],
   "source": [
    "def vector_ordenada(v):\n",
    "    if not is_vector(v):\n",
    "        raise ValueError('vector_ordenada: v must be a vector')\n",
    "    return v[1]"
   ]
  },
  {
   "cell_type": "code",
   "execution_count": 9,
   "metadata": {
    "collapsed": true,
    "slideshow": {
     "slide_type": "slide"
    }
   },
   "outputs": [],
   "source": [
    "def is_vector(e):\n",
    "    return isinstance(e, tuple) \\\n",
    "        and len(e) == 2 \\\n",
    "        and isinstance(e[0], (float, int)) \\\n",
    "        and isinstance(e[1], (float, int))"
   ]
  },
  {
   "cell_type": "code",
   "execution_count": 10,
   "metadata": {
    "collapsed": true,
    "slideshow": {
     "slide_type": "slide"
    }
   },
   "outputs": [],
   "source": [
    "def vector_equals(u,v):\n",
    "    if not (is_vector(v) and is_vector(u)):\n",
    "        raise ValueError('vector_equals: u and v must be vectors')\n",
    "    return vector_abcissa(u) == vector_abcissa(v) and vector_ordenada(u) == vector_ordenada(v)"
   ]
  },
  {
   "cell_type": "code",
   "execution_count": 11,
   "metadata": {
    "collapsed": true,
    "slideshow": {
     "slide_type": "slide"
    }
   },
   "outputs": [],
   "source": [
    "def pretty_print_vector(v):\n",
    "    if not is_vector(v):\n",
    "        raise ValueError('pretty_print_vector: v must be a vector')\n",
    "    return \"x=\" + str(vector_abcissa(v)) + \", y=\" + str(vector_ordenada(v)) "
   ]
  },
  {
   "cell_type": "code",
   "execution_count": 12,
   "metadata": {
    "slideshow": {
     "slide_type": "slide"
    }
   },
   "outputs": [
    {
     "name": "stdout",
     "output_type": "stream",
     "text": [
      "14\n",
      "x=4, y=5\n"
     ]
    }
   ],
   "source": [
    "# u . v = (1,2) x (4,5) = 1x4 + 5x2 = 14 \n",
    "def dot_product(u, v):\n",
    "    return vector_abcissa(u) * vector_abcissa(v) + vector_ordenada(u) * vector_ordenada(v)\n",
    "    \n",
    "u = to_vector(1,2)\n",
    "v = to_vector(4,5)\n",
    "print(dot_product(u, v))\n",
    "print(pretty_print_vector(v))"
   ]
  },
  {
   "cell_type": "code",
   "execution_count": 13,
   "metadata": {
    "collapsed": true,
    "slideshow": {
     "slide_type": "slide"
    }
   },
   "outputs": [],
   "source": [
    "# u . v = (1,2) . (4,5) = 1.4 + 5.2 = 14 \n",
    "def dot_product(u, v):\n",
    "    return vector_abcissa(u) * vector_abcissa(v) + vector_ordenada(u) * vector_ordenada(v)"
   ]
  },
  {
   "cell_type": "markdown",
   "metadata": {
    "slideshow": {
     "slide_type": "slide"
    }
   },
   "source": [
    "# Abstract Data Types\n",
    "\n",
    "An abstract datatype is an encapsulation mechanism. In general it is composed of several components\n",
    "- A data structure or structures \n",
    "- A set of operations (called the methods or operations).\n",
    "- A precise description of the types of the methods (called a signature).\n",
    "- A precise set of rules about how it behaves (called the abstract specification or the axiomatic description).\n",
    "- An implementation hidden from the programmer who uses the data type.\n",
    "\n",
    "It allows programmers to hide the details of an implementation, and to implement multiple different versions that might behave differently, especially with respect to resources used."
   ]
  },
  {
   "cell_type": "markdown",
   "metadata": {
    "slideshow": {
     "slide_type": "slide"
    }
   },
   "source": [
    "# Abstract Data Types - Methodology\n",
    "\n",
    "- Identification of basic operations;\n",
    "- Axiomatization of basic operations;\n",
    "- Decision on how to internally represent the elements of the type;\n",
    "- Implementation of the basic operations."
   ]
  },
  {
   "cell_type": "markdown",
   "metadata": {
    "slideshow": {
     "slide_type": "slide"
    }
   },
   "source": [
    "### Basic Operations\n",
    "\n",
    "Also known as **type signatures**.\n",
    "\n",
    "- constructors: create new elements of the abstract data type;\n",
    "- selectors: provide functionality to access the elements of the type;\n",
    "- modifiers: provide functionality to change elements of the type;\n",
    "- transformers: provide functionality to map the type into another one;\n",
    "- verifiers: provide functionality to check whether an argument is of the type;\n",
    "- tests: provide functionality to compare elements of the type, etc. \n",
    "\n",
    "As the definition of an abstract data type is independent of the programming language, we typically define the type signatures using a mathematical notation. "
   ]
  },
  {
   "cell_type": "markdown",
   "metadata": {
    "slideshow": {
     "slide_type": "slide"
    }
   },
   "source": [
    "For instance:\n",
    "\n",
    "**Constructors**:\n",
    "- build_complex : real x real --> complex\n",
    "- build_complex_zero : {} --> complex\n",
    "\n",
    "**Selectors**:\n",
    "- get_complex_real : complex --> real\n",
    "- get_complex_img : complex --> real\n",
    "\n",
    "**Verifiers**:\n",
    "- is_complex : universal --> logic\n",
    "- is_complex_zero : complex --> logic\n",
    "- is_pure_img : complex --> logic\n",
    "\n",
    "**Tests**:\n",
    "- complex_equals : complex x complex --> logic\n",
    "\n",
    "**Transformers**:\n",
    "- complex_to_string: complex --> string"
   ]
  },
  {
   "cell_type": "markdown",
   "metadata": {
    "slideshow": {
     "slide_type": "slide"
    }
   },
   "source": [
    "### Axiomatization\n",
    "\n",
    "Set of logic expressions that are always true.\n",
    "\n",
    "- is_complex(build_complex(x, y))\n",
    "\n",
    "- is_complex(build_complex_zero())\n",
    "\n",
    "- is_complex_zero(build_complex_zero())\n",
    "\n",
    "- complex_equals(build_complex_zero(), build_complex(0, 0))\n",
    "\n",
    "- e_pure_imag(build_complex(0, y)), for all y != 0.\n",
    "\n",
    "- get_complex_real(build_complex(x, y)) = x, for all x and y.\n",
    "\n",
    "- get_complex_img(build_complex(x, y)) = y, for all x and y.\n",
    "\n",
    "- complex_equals(build_complex(x, y), build_complex(x, y)), for all x and y.\n",
    "\n",
    "- complex_equals(z, build_complex(get_complex_real(z),get_complex_imag(z))), if is_complex(z), undefined otherwise."
   ]
  },
  {
   "cell_type": "markdown",
   "metadata": {
    "slideshow": {
     "slide_type": "slide"
    }
   },
   "source": [
    "### Internal Representation\n",
    "\n",
    "The third step is about deciding how to represent the abstract data type using types already defined (e.g., primitive types)\n",
    "\n",
    "During this decision-making process, it is important to think about efficiency when doing its basic operations. \n",
    "\n",
    "As an example, for the complex numbers, we can think about using a dictionary with two keys."
   ]
  },
  {
   "cell_type": "markdown",
   "metadata": {
    "slideshow": {
     "slide_type": "slide"
    }
   },
   "source": [
    "### Implementation of basic operations"
   ]
  },
  {
   "cell_type": "code",
   "execution_count": 17,
   "metadata": {
    "slideshow": {
     "slide_type": "slide"
    }
   },
   "outputs": [],
   "source": [
    "def build_complex(x, y):\n",
    "    if not(isinstance(x, (int, float)) and isinstance(y, (int, float))):\n",
    "        raise ValueError('build_complex: argumentos invalidos, x e y tem de ser numeros')\n",
    "    return {'real' : x, 'img' : y}\n",
    "\n",
    "def build_complex_zero():\n",
    "    return build_complex(0, 0)"
   ]
  },
  {
   "cell_type": "code",
   "execution_count": 18,
   "metadata": {
    "slideshow": {
     "slide_type": "slide"
    }
   },
   "outputs": [],
   "source": [
    "def get_complex_real(z):\n",
    "    if not is_complex(z):\n",
    "        raise ValueError('get_complex_real: z tem de ser um complexo')\n",
    "    return z['real']\n",
    "\n",
    "def get_complex_img(z):\n",
    "    if not is_complex(z):\n",
    "        raise ValueError('complexo_parte_imaginaria: z tem de ser um complexo')\n",
    "    return z['img']"
   ]
  },
  {
   "cell_type": "code",
   "execution_count": 7,
   "metadata": {
    "slideshow": {
     "slide_type": "slide"
    }
   },
   "outputs": [],
   "source": [
    "def is_complex(x):\n",
    "    if isinstance(x, (dict)):\n",
    "        if len(x) == 2 and 'real' in x and 'img' in x:\n",
    "            return isinstance(x['real'] , (int, float)) \\\n",
    "                and isinstance(x['img'] , (int, float))\n",
    "    return False\n",
    "\n",
    "def is_complex_zero(z):\n",
    "    if not is_complex(z):        \n",
    "        raise ValueError('is_complex_zero: z tem de ser um complexo')\n",
    "    return zero(get_complex_real(z)) and zero(get_complex_img(z))\n",
    "\n",
    "def is_pure_img(z):\n",
    "    if not is_complex(z):\n",
    "        raise ValueError('is_pure_img: z tem de ser um complexo')\n",
    "    return zero(get_complex_real(z)) and not zero(get_complex_img(z))\n",
    "\n",
    "def zero(x):\n",
    "    return abs(x) < 0.0000001"
   ]
  },
  {
   "cell_type": "code",
   "execution_count": 19,
   "metadata": {
    "slideshow": {
     "slide_type": "slide"
    }
   },
   "outputs": [],
   "source": [
    "def complex_equals(z, w):\n",
    "    if not(is_complex(z) and is_complex(w)):\n",
    "        raise ValueError('complexo_equals: z e w tem de ser complexos')\n",
    "    return zero(get_complex_real(z) - get_complex_real(w)) \\\n",
    "           and zero(get_complex_img(z) - get_complex_img(w))"
   ]
  },
  {
   "cell_type": "code",
   "execution_count": 9,
   "metadata": {
    "slideshow": {
     "slide_type": "slide"
    }
   },
   "outputs": [],
   "source": [
    "def complex_to_string(z):\n",
    "    if not is_complex(z):\n",
    "        raise ValueError('complex_to_string: z tem de ser um complexo')\n",
    "    return str(get_complex_real(z)) + '+' + str(get_complex_img(z)) + 'i'"
   ]
  },
  {
   "cell_type": "code",
   "execution_count": 22,
   "metadata": {
    "slideshow": {
     "slide_type": "slide"
    }
   },
   "outputs": [
    {
     "data": {
      "text/plain": [
       "'1+10i'"
      ]
     },
     "execution_count": 22,
     "metadata": {},
     "output_type": "execute_result"
    }
   ],
   "source": [
    "is_complex(build_complex(1,10))\n",
    "\n",
    "a = build_complex(1,10)\n",
    "a['real'] = 10 #CANNOT BE DONE!\n",
    "complex_to_string(a)"
   ]
  },
  {
   "cell_type": "markdown",
   "metadata": {
    "slideshow": {
     "slide_type": "slide"
    }
   },
   "source": [
    "# Abstract data type = objects + operations\n",
    "\n",
    "Consider Point to be an abstract data type:\n",
    "\n",
    "![barriers](imgs/abs_barriers.png)\n",
    "\n",
    "- The implementation is hidden\n",
    "- The only operations on objects of the type are those provided by the abstraction"
   ]
  },
  {
   "cell_type": "markdown",
   "metadata": {
    "collapsed": true,
    "slideshow": {
     "slide_type": "slide"
    }
   },
   "source": [
    "# Food for thought: how would you represent rational numbers ?"
   ]
  },
  {
   "cell_type": "code",
   "execution_count": null,
   "metadata": {},
   "outputs": [],
   "source": []
  }
 ],
 "metadata": {
  "celltoolbar": "Slideshow",
  "kernelspec": {
   "display_name": "Python 3",
   "language": "python",
   "name": "python3"
  },
  "language_info": {
   "codemirror_mode": {
    "name": "ipython",
    "version": 3
   },
   "file_extension": ".py",
   "mimetype": "text/x-python",
   "name": "python",
   "nbconvert_exporter": "python",
   "pygments_lexer": "ipython3",
   "version": "3.6.1"
  }
 },
 "nbformat": 4,
 "nbformat_minor": 2
}
