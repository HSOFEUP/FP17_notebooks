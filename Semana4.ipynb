{
 "cells": [
  {
   "cell_type": "markdown",
   "metadata": {
    "slideshow": {
     "slide_type": "slide"
    }
   },
   "source": [
    "# <center>Programming Foundations <br/> @ LEIC/LETI</center>\n",
    "\n",
    "<br>\n",
    "<br>\n",
    "\n",
    "## <center>Week 4</center>"
   ]
  },
  {
   "cell_type": "markdown",
   "metadata": {
    "slideshow": {
     "slide_type": "slide"
    }
   },
   "source": [
    "# <center> Tuples </center>\n",
    "\n",
    "A tuple is a sequence of elements. In python, we can think of a tuple as a mathematical vector. Their elements are references using its indice or position. \n",
    "\n",
    "```\n",
    "<tuple> ::= () | (<element>, <elements>)\n",
    "<elements> ::= <nothing> | <element> | <element>, <elements>\n",
    "<element> ::= <expression> | <tuple> | <list> | <dictionary>\n",
    "<nothing> ::=\n",
    "```"
   ]
  },
  {
   "cell_type": "markdown",
   "metadata": {
    "slideshow": {
     "slide_type": "slide"
    }
   },
   "source": [
    "# <center> Examples </center>\n",
    "\n",
    "```\n",
    ">>> type(())\n",
    "<class 'tuple'>\n",
    ">>> type((2))\n",
    "<class 'int'>\n",
    ">>> type((2,))\n",
    "<class 'tuple'>\n",
    ">>> type((2,4,5))\n",
    "<class 'tuple'>\n",
    ">>> type((2,4,5,))\n",
    "<class 'tuple'>\n",
    ">>> type((2,4,5,'ola'))\n",
    "<class 'tuple'>\n",
    ">>> type((2,4,5,'ola',(8,9,)))\n",
    "<class 'tuple'>\n",
    ">>> type((2,4,(False,5),True,(8,9,)))\n",
    "<class 'tuple'>\n",
    ">>>\n",
    "```"
   ]
  },
  {
   "cell_type": "code",
   "execution_count": 1,
   "metadata": {},
   "outputs": [
    {
     "data": {
      "text/plain": [
       "tuple"
      ]
     },
     "execution_count": 1,
     "metadata": {},
     "output_type": "execute_result"
    }
   ],
   "source": [
    "type((2, 3*3, (2,3), 'str'))"
   ]
  },
  {
   "cell_type": "code",
   "execution_count": 2,
   "metadata": {
    "slideshow": {
     "slide_type": "slide"
    }
   },
   "outputs": [
    {
     "data": {
      "text/plain": [
       "9"
      ]
     },
     "execution_count": 2,
     "metadata": {},
     "output_type": "execute_result"
    }
   ],
   "source": [
    "a = (2, 3*3, (2,3), 'str')\n",
    "x = 1\n",
    "a[x]"
   ]
  },
  {
   "cell_type": "markdown",
   "metadata": {
    "slideshow": {
     "slide_type": "slide"
    }
   },
   "source": [
    "# <center> Refering an element </center>\n",
    "\n",
    "```\n",
    "<indexed name> ::= <name>[<expression>]\n",
    "```\n",
    "\n",
    "```\n",
    "                             <------\n",
    "  -7   -6   -5   -4   -3   -2   -1\n",
    "+----+----+----+----+----+----+----+\n",
    "| 12 | 10 | 15 | 11 | 14 | 18 | 17 |\n",
    "+----+----+----+----+----+----+----+\n",
    "   0    1    2    3    4    5    6\n",
    "------>\n",
    "```"
   ]
  },
  {
   "cell_type": "markdown",
   "metadata": {
    "slideshow": {
     "slide_type": "slide"
    }
   },
   "source": [
    "# Examples\n",
    "\n",
    "```\n",
    ">>> notas = (12, 10, 15, 11, 14, 18, 17)\n",
    ">>> notas[0]\n",
    "12\n",
    ">>> notas[3]\n",
    "11\n",
    ">>> notas[-1]\n",
    "17\n",
    ">>> notas[-2]\n",
    "18\n",
    ">>> notas[3+1]\n",
    "14\n",
    "```"
   ]
  },
  {
   "cell_type": "markdown",
   "metadata": {
    "slideshow": {
     "slide_type": "slide"
    }
   },
   "source": [
    "```\n",
    ">>> notas[9]\n",
    "Traceback (most recent call last):\n",
    "  File \"<stdin>\", line 1, in <module>\n",
    "IndexError: tuple index out of range\n",
    ">>>\n",
    ">>> v = (12, 10, (15, 11, 14), 18, 17)\n",
    ">>> v[2][1]\n",
    "11\n",
    ">>>\n",
    ">>> v[2] = 10\n",
    "Traceback (most recent call last):\n",
    "  File \"<stdin>\", line 1, in <module>\n",
    "TypeError: 'tuple' object does not support item assignment\n",
    ">>>\n",
    "```\n",
    "\n",
    "### What does this error mean ?"
   ]
  },
  {
   "cell_type": "markdown",
   "metadata": {
    "slideshow": {
     "slide_type": "slide"
    }
   },
   "source": [
    "# <center> Operations over tuples </center>\n",
    "\n",
    "```\n",
    ">>> a = (2, 1, 3, 3, 5)\n",
    ">>> b = (8, 2, 4, 7)\n",
    ">>> a + b\n",
    "(2, 1, 3, 3, 5, 8, 2, 4, 7)\n",
    ">>> c = a + b\n",
    ">>> c[3:5]\n",
    "(3, 5)\n",
    ">>> c[3:6]\n",
    "(3, 5, 8)\n",
    ">>> a * b\n",
    "Traceback (most recent call last):\n",
    "  File \"<stdin>\", line 1, in <module>\n",
    "TypeError: can't multiply sequence by non-int of type 'tuple'\n",
    ">>> a * 2\n",
    "(2, 1, 3, 3, 5, 2, 1, 3, 3, 5)\n",
    ">>> 1 in a\n",
    "True\n",
    ">>> 1 in b\n",
    "False\n",
    ">>> len(a)\n",
    "5\n",
    ">>> a[:3]\n",
    "(2, 1, 3)\n",
    ">>> a[4:]\n",
    "(5,)\n",
    ">>> a[:]\n",
    "(2, 1, 3, 3, 5)\n",
    ">>> tuple(8)\n",
    "Traceback (most recent call last):\n",
    "  File \"<stdin>\", line 1, in <module>\n",
    "TypeError: 'int' object is not iterable\n",
    ">>>\n",
    "```"
   ]
  },
  {
   "cell_type": "code",
   "execution_count": 3,
   "metadata": {
    "slideshow": {
     "slide_type": "slide"
    }
   },
   "outputs": [
    {
     "data": {
      "text/plain": [
       "(5,)"
      ]
     },
     "execution_count": 3,
     "metadata": {},
     "output_type": "execute_result"
    }
   ],
   "source": [
    "a = (2, 1, 3, 3, 5)\n",
    "b = (8, 2, 4, 7)\n",
    "a[4:]"
   ]
  },
  {
   "cell_type": "markdown",
   "metadata": {
    "slideshow": {
     "slide_type": "slide"
    }
   },
   "source": [
    "# Implications of immutability\n",
    "\n",
    "```\n",
    "def substitui(t, p, e):\n",
    "    if not (0 <= p < len(t)):\n",
    "        raise IndexError('substitui: no tuplo dado como primeiro argumento')\n",
    "    return t[:p] + (e,) + t[p+1:]\n",
    "```\n",
    "\n",
    "\n",
    "Exemplo:\n",
    "\n",
    "```\n",
    ">>> a = (2, 1, 3, 3, 5)\n",
    ">>> substitui(a, 2, 'a')\n",
    "(2, 1, 'a', 3, 5)\n",
    ">>> substitui(a, 4, 'a')\n",
    "(2, 1, 3, 3, 'a')\n",
    ">>> a = substitui(a, 0, 'a')\n",
    ">>> a = substitui(a, 5, 'a')\n",
    "Traceback (most recent call last):\n",
    "  File \"<stdin>\", line 1, in <module>\n",
    "  File \"<stdin>\", line 3, in substitui\n",
    "IndexError: substitui: no tuplo dado como primeiro argumento\n",
    ">>> a\n",
    "('a', 1, 3, 3, 5)\n",
    ">>>\n",
    "```"
   ]
  },
  {
   "cell_type": "code",
   "execution_count": 4,
   "metadata": {
    "slideshow": {
     "slide_type": "slide"
    }
   },
   "outputs": [
    {
     "name": "stdout",
     "output_type": "stream",
     "text": [
      "6\n"
     ]
    }
   ],
   "source": [
    "def soma(t):\n",
    "    \n",
    "    resultado = 0\n",
    "    \n",
    "    i = 0\n",
    "    length = len(t)\n",
    "    while i < length:\n",
    "        resultado = resultado + t[i]\n",
    "        i = i +1\n",
    "    \n",
    "    return resultado\n",
    "\n",
    "print(soma((1,2,3)))\n",
    "\n",
    "#question: how to optimize this code?"
   ]
  },
  {
   "cell_type": "markdown",
   "metadata": {
    "slideshow": {
     "slide_type": "slide"
    }
   },
   "source": [
    "# One last example: alisa\n",
    "\n",
    "```\n",
    ">>> alisa((2, 4, (8, (9, (7, ), 3, 4), 7), 6, (5, (7, (8, )))))\n",
    "(2, 4, 8, 9, 7, 3, 4, 7, 6, 5, 7, 8)\n",
    "```\n",
    "\n",
    "An alternative to `type` that returns `True` or `False` is [isinstance](https://docs.python.org/3/library/functions.html#isinstance):\n",
    "\n",
    "```\n",
    ">>> isinstance(3, int)\n",
    "True\n",
    ">>> isinstance(3, (int, bool))\n",
    "True\n",
    ">>> isinstance(True, (int, bool))\n",
    "True\n",
    ">>> isinstance(5.6, (int, bool))\n",
    "False\n",
    ">>> isinstance('a', (int, bool))\n",
    "False\n",
    ">>> isinstance('a', (int, bool, str))\n",
    "True\n",
    ">>> isinstance((8,), tuple)\n",
    "True\n",
    ">>>\n",
    "```"
   ]
  },
  {
   "cell_type": "code",
   "execution_count": 9,
   "metadata": {
    "slideshow": {
     "slide_type": "slide"
    }
   },
   "outputs": [
    {
     "data": {
      "text/plain": [
       "(2, 4, 8, 9, 7, 3, 4, 7, 6, 5, 7, 8)"
      ]
     },
     "execution_count": 9,
     "metadata": {},
     "output_type": "execute_result"
    }
   ],
   "source": [
    "def alisa(t):\n",
    "    i = 0\n",
    "    \n",
    "    while i < len(t):\n",
    "        if isinstance(t[i], tuple):\n",
    "            t = t[:i] + t[i] + t[i+1:]\n",
    "        else:\n",
    "            i = i + 1\n",
    "    \n",
    "    return t\n",
    "\n",
    "alisa((2, 4, (8, (9, (7, ), 3, 4), 7), 6, (5, (7, (8, )))))"
   ]
  },
  {
   "cell_type": "markdown",
   "metadata": {
    "slideshow": {
     "slide_type": "slide"
    }
   },
   "source": [
    "# <center> Sequence of charaters: string</center>\n",
    "\n",
    "Before, we considered sequence of characters as contants and of `str` type. A string of characters, in general, can contain 0 or more characters. The empty sequence of characters is represeted by `''` ou `\"\"`.\n",
    "\n",
    "Note that strings are also used to add documentation to the source code:\n",
    "\n",
    "```\n",
    "def soma(t):\n",
    "    \"\"\"\n",
    "    Recebe um tuplo de retorna a soma dos seus elementos.\n",
    "    \"\"\"\n",
    "    \n",
    "    resultado = 0\n",
    "    \n",
    "    for x in t:\n",
    "        resultado = resultado + x\n",
    "    \n",
    "    return resultado\n",
    "```"
   ]
  },
  {
   "cell_type": "code",
   "execution_count": 6,
   "metadata": {
    "slideshow": {
     "slide_type": "slide"
    }
   },
   "outputs": [
    {
     "name": "stdout",
     "output_type": "stream",
     "text": [
      "Help on function soma in module __main__:\n",
      "\n",
      "soma(t)\n",
      "    Recebe um tuplo que retorna a soma dos seus elementos.\n",
      "\n"
     ]
    }
   ],
   "source": [
    "def soma(t):\n",
    "    \"\"\"\n",
    "    Recebe um tuplo que retorna a soma dos seus elementos.\n",
    "    \"\"\"\n",
    "\n",
    "    resultado = 0\n",
    "    #t is a tuple\n",
    "    for x in t:\n",
    "        resultado = resultado + x\n",
    "\n",
    "    return resultado\n",
    "\n",
    "help(soma)"
   ]
  },
  {
   "cell_type": "markdown",
   "metadata": {
    "slideshow": {
     "slide_type": "slide"
    }
   },
   "source": [
    "# Strings are just like tuples\n",
    "\n",
    "```\n",
    ">>> fp='Fundamentos da Programacao'\n",
    ">>> len(fp)\n",
    "26\n",
    ">>> fp[0]\n",
    "'F'\n",
    ">>> fp[15:]\n",
    "'Programacao'\n",
    ">>> fp[:11]\n",
    "'Fundamentos'\n",
    ">>> fp[-3:]\n",
    "'cao'\n",
    ">>>\n",
    "```"
   ]
  },
  {
   "cell_type": "markdown",
   "metadata": {
    "slideshow": {
     "slide_type": "slide"
    }
   },
   "source": [
    "# and have operators\n",
    "\n",
    "```\n",
    ">>> fp1 = 'Fundamentos'\n",
    ">>> f = 'Fundamentos'\n",
    ">>> p = 'Programacao'\n",
    ">>> f + ' de ' + p\n",
    "'Fundamentos de Programacao'\n",
    ">>> f*3\n",
    "'FundamentosFundamentosFundamentos'\n",
    ">>> 'c' in p\n",
    "True\n",
    ">>> 'c' in f\n",
    "False\n",
    ">>> len(p)\n",
    "11\n",
    ">>> str(9+8)\n",
    "'17'\n",
    ">>> str((9,8,20))\n",
    "'(9, 8, 20)'\n",
    ">>> eval('f + p')\n",
    "'FundamentosProgramacao'\n",
    ">>>\n",
    "```"
   ]
  },
  {
   "cell_type": "code",
   "execution_count": 34,
   "metadata": {
    "slideshow": {
     "slide_type": "slide"
    }
   },
   "outputs": [
    {
     "data": {
      "text/plain": [
       "'ABC'"
      ]
     },
     "execution_count": 34,
     "metadata": {},
     "output_type": "execute_result"
    }
   ],
   "source": [
    "def toupper(s):\n",
    "    i = 0\n",
    "    while i < len(s):\n",
    "        if ord('a') <= ord(s[i]) <= ord('z'):\n",
    "            s = s[:i] + chr(ord(s[i]) - ord('a') \n",
    "                            + ord('A')) + s[i+1:]\n",
    "        i = i + 1\n",
    "        \n",
    "    return s\n",
    "\n",
    "#we are using two pre-defined functions: ord and chr. Python uses Unicode, which includes ASCII.\n",
    "\n",
    "toupper('abc')"
   ]
  },
  {
   "cell_type": "markdown",
   "metadata": {
    "slideshow": {
     "slide_type": "slide"
    }
   },
   "source": [
    "As characters can be represented using a numeric value (the [ASCII table](https://en.wikipedia.org/wiki/ASCII)), one can do the following operations:\n",
    "\n",
    "```\n",
    ">>> 'a' < 'z'\n",
    "True\n",
    ">>> 'a' < 'Z'\n",
    "False\n",
    ">>> 'a' > 'Z'\n",
    "True\n",
    ">>> 'Fundamentos' > 'Programacao'\n",
    "False\n",
    ">>> 'fundamentos' > 'Programacao'\n",
    "True\n",
    ">>> 'fundamentos' > 'fundao'\n",
    "False\n",
    ">>> 'fundamentos' < 'fundao'\n",
    "True\n",
    ">>>\n",
    "```"
   ]
  },
  {
   "cell_type": "markdown",
   "metadata": {
    "slideshow": {
     "slide_type": "slide"
    }
   },
   "source": [
    "# <center> Loops: `while` </center>\n",
    "\n",
    "We have been using `while` to repeat a block of code (set of instructions). The number of times the set of instructions _repeat_ is usually controlled by a _counter_. For instance:\n",
    "\n",
    "```\n",
    "i = 0\n",
    "while i < 10:\n",
    "    print(i)\n",
    "    i = i + 1\n",
    "```"
   ]
  },
  {
   "cell_type": "markdown",
   "metadata": {
    "slideshow": {
     "slide_type": "slide"
    }
   },
   "source": [
    "# <center> Loops: `for` </center>\n",
    "\n",
    "Python offers another mechanism to _iterate_ over a sequence of instructions. The Python for statement iterates over the members of a sequence in order, executing the block each time. Contrast the `for` statement with the `while` loop, used when a condition needs to be checked each iteration, or to repeat a block of code forever. \n",
    "\n",
    "```\n",
    "<for instruction> ::= for <simple name> in <iterable>: NEWLINE <block of instructions>\n",
    "```\n",
    "\n",
    "`<iterable>` is a special expression. For now, think about it as a sequence of elements. \n",
    "\n"
   ]
  },
  {
   "cell_type": "markdown",
   "metadata": {
    "slideshow": {
     "slide_type": "slide"
    }
   },
   "source": [
    "# <center>Iterables using `range`</center>\n",
    "\n",
    "We can create an iterable using range:\n",
    "\n",
    "```\n",
    "<range> ::= range(<arguments>)\n",
    "<arguments> ::= <expression> | <expression>, <expression> | <expression, <expression>, <expression>\n",
    "```\n",
    "\n",
    "Examples:\n",
    "\n",
    "```\n",
    ">>> tuple(range(10))\n",
    "(0, 1, 2, 3, 4, 5, 6, 7, 8, 9)\n",
    ">>> tuple(range(5,10))\n",
    "(5, 6, 7, 8, 9)\n",
    ">>> tuple(range(-5,10))\n",
    "(-5, -4, -3, -2, -1, 0, 1, 2, 3, 4, 5, 6, 7, 8, 9)\n",
    ">>> tuple(range(-5,10,2))\n",
    "(-5, -3, -1, 1, 3, 5, 7, 9)\n",
    ">>> tuple(range(-5,10,-2))\n",
    "()\n",
    ">>> tuple(range(10,-5,-2))\n",
    "(10, 8, 6, 4, 2, 0, -2, -4)\n",
    ">>> tuple(range(10,-5,-1))\n",
    "(10, 9, 8, 7, 6, 5, 4, 3, 2, 1, 0, -1, -2, -3, -4)\n",
    ">>>\n",
    "```"
   ]
  },
  {
   "cell_type": "code",
   "execution_count": 36,
   "metadata": {
    "slideshow": {
     "slide_type": "slide"
    }
   },
   "outputs": [
    {
     "data": {
      "text/plain": [
       "(-5, -4, -3, -2, -1, 0, 1, 2, 3, 4, 5, 6, 7, 8, 9)"
      ]
     },
     "execution_count": 36,
     "metadata": {},
     "output_type": "execute_result"
    }
   ],
   "source": [
    "tuple(range(-5, 10))"
   ]
  },
  {
   "cell_type": "markdown",
   "metadata": {
    "slideshow": {
     "slide_type": "slide"
    }
   },
   "source": [
    "For example:\n",
    "\n",
    "```\n",
    "for x in range(0, 3):\n",
    "    print(\"We're on time {}\".format(x))\n",
    "```\n",
    "\n",
    "Yet another way to print:\n",
    "- print(\"We're on time {}\".format(x))\n",
    "- print(\"We're on time %d\" % x)"
   ]
  },
  {
   "cell_type": "code",
   "execution_count": 37,
   "metadata": {
    "slideshow": {
     "slide_type": "slide"
    }
   },
   "outputs": [
    {
     "name": "stdout",
     "output_type": "stream",
     "text": [
      "We're on time 0\n",
      "We're on time 1\n",
      "We're on time 2\n"
     ]
    }
   ],
   "source": [
    "t = tuple(range(0,3))\n",
    "for x in t:\n",
    "    print(\"We're on time %d\" % x)"
   ]
  },
  {
   "cell_type": "code",
   "execution_count": 41,
   "metadata": {
    "slideshow": {
     "slide_type": "slide"
    }
   },
   "outputs": [
    {
     "name": "stdout",
     "output_type": "stream",
     "text": [
      "DEBUGGING 1\n",
      "DEBUGGING 2\n",
      "DEBUGGING 3\n",
      "DEBUGGING 4\n",
      "DEBUGGING 5\n"
     ]
    },
    {
     "data": {
      "text/plain": [
       "15"
      ]
     },
     "execution_count": 41,
     "metadata": {},
     "output_type": "execute_result"
    }
   ],
   "source": [
    "#Example\n",
    "\n",
    "def soma(t):\n",
    "    resultado = 0\n",
    "    \n",
    "    for x in t:\n",
    "        print(\"DEBUGGING \" + str(x))\n",
    "        resultado = resultado + x\n",
    "    \n",
    "    return resultado\n",
    "\n",
    "soma((1,2,3,4,5))"
   ]
  },
  {
   "cell_type": "markdown",
   "metadata": {
    "slideshow": {
     "slide_type": "slide"
    }
   },
   "source": [
    "- Nested loops\n",
    "\n",
    "```\n",
    "for x in range(1, 11):\n",
    "    for y in range(1, 11):\n",
    "        print('%d * %d = %d' % (x, y, x*y))\n",
    "```\n",
    "\n",
    "- Early exits\n",
    "\n",
    "```\n",
    "for x in range(3):\n",
    "    print(x)\n",
    "    if x == 1:\n",
    "        break\n",
    "```"
   ]
  },
  {
   "cell_type": "code",
   "execution_count": 11,
   "metadata": {
    "slideshow": {
     "slide_type": "slide"
    }
   },
   "outputs": [
    {
     "name": "stdout",
     "output_type": "stream",
     "text": [
      "0\n"
     ]
    }
   ],
   "source": [
    "for x in range(3):\n",
    "    print(x)\n",
    "    if x == 0:\n",
    "        break"
   ]
  },
  {
   "cell_type": "markdown",
   "metadata": {
    "slideshow": {
     "slide_type": "slide"
    }
   },
   "source": [
    "# <center> A more complex construct: `for...else`</center>\n",
    "\n",
    "```\n",
    "for x in range(3):\n",
    "    print(x)\n",
    "else:\n",
    "    print('Final x = %d' % (x))\n",
    "```\n",
    "\n",
    "**Note**: more detailed info about for cycles: https://wiki.python.org/moin/ForLoop (be aware that examples are in Python2)."
   ]
  },
  {
   "cell_type": "code",
   "execution_count": 43,
   "metadata": {
    "slideshow": {
     "slide_type": "slide"
    }
   },
   "outputs": [
    {
     "name": "stdout",
     "output_type": "stream",
     "text": [
      "0\n",
      "1\n",
      "2\n",
      "Final x = 2\n"
     ]
    }
   ],
   "source": [
    "for x in range(3):\n",
    "    print(x)\n",
    "else:\n",
    "    print('Final x = %d' % (x))"
   ]
  },
  {
   "cell_type": "code",
   "execution_count": 46,
   "metadata": {
    "slideshow": {
     "slide_type": "slide"
    }
   },
   "outputs": [
    {
     "data": {
      "text/plain": [
       "5050"
      ]
     },
     "execution_count": 46,
     "metadata": {},
     "output_type": "execute_result"
    }
   ],
   "source": [
    "#Exercise 1: Define a function that sums that first n (including n) natural numbers.\n",
    "\n",
    "def sumNatural(n):\n",
    "    resultado = 0\n",
    "    \n",
    "    for i in range(n + 1):\n",
    "        # equivalente a resultado += i\n",
    "        resultado = resultado + i\n",
    "    \n",
    "    return resultado\n",
    "\n",
    "sumNatural(100)\n"
   ]
  },
  {
   "cell_type": "markdown",
   "metadata": {
    "slideshow": {
     "slide_type": "slide"
    }
   },
   "source": [
    "# Exercise: Check whether or not a Euro note is genuine\n",
    "\n",
    "![20euro](imgs/20euro.png)\n",
    "\n",
    "In the first series of Euro notes, each Euro note has a unique serial number, consisting of:\n",
    "- **L**: a letter representing a country code, \n",
    "- **x1, ... x10**: 10 digits (serial number),\n",
    "- **C**: 1 digit (check code),\n",
    "\n",
    "\n",
    "In the Europa series, each Euro note has a unique serial number, consisting of:\n",
    "- **L**: a letter representing a country code, \n",
    "- **N**: a letter with no special meaning,\n",
    "- **x1, ... x9**: 9 digits (serial number),\n",
    "- **C**: 1 digit (check code),\n",
    "\n",
    "**Meaning of the letters**: \n",
    "D (Estonia); E (Slovakia); F (Malta); G (Cyprus); H (Slovenia); L (Finland); M (Portugal); N (Austria); P (Holland); R (Luxemburg); S (Italy); T (Irland); U (France); V (Spain); X (Germany); Y (Greece); Z (Belgium). \n"
   ]
  },
  {
   "cell_type": "markdown",
   "metadata": {
    "slideshow": {
     "slide_type": "slide"
    }
   },
   "source": [
    "## So, but how does one check a serial number?\n",
    "\n",
    "Checksum works as follows:\n",
    "\n",
    "**L + x1 + x2 + x3 + x4 + x5 + x6 + x7 + x8 + x9 + x10 + C = 0 (mod 9)**\n",
    "\n",
    "or \n",
    "\n",
    "**L + N + x1 + x2 + x3 + x4 + x5 + x6 + x7 + x8 + x9 + C = 0 (mod 9)**\n",
    "\n"
   ]
  },
  {
   "cell_type": "markdown",
   "metadata": {
    "slideshow": {
     "slide_type": "slide"
    }
   },
   "source": [
    "# OK... Converting country letter to a number:\n",
    "\n",
    "Ehmm... this is all about the ASCII table:\n",
    "\n",
    "\n",
    "```\n",
    "Letter\tL\tM\tN\tP\tR\tS\tT\tU\tV\tX\tY\tZ\n",
    "Value\t 4\t5\t6\t8\t1\t2\t3\t4\t5\t7\t8\t9\n",
    "```\n",
    "\n",
    "\n",
    "- `M = 5` because `ord('M') % 9 == 5`\n",
    "\n",
    "- Same strategy is followed for the other letter, only difference is that it can be any letter in the alphabet (```A, ..., Z```)\n"
   ]
  },
  {
   "cell_type": "code",
   "execution_count": 1,
   "metadata": {
    "slideshow": {
     "slide_type": "slide"
    }
   },
   "outputs": [
    {
     "data": {
      "text/plain": [
       "5"
      ]
     },
     "execution_count": 1,
     "metadata": {},
     "output_type": "execute_result"
    }
   ],
   "source": [
    "ord('M') % 9"
   ]
  },
  {
   "cell_type": "code",
   "execution_count": 55,
   "metadata": {
    "slideshow": {
     "slide_type": "slide"
    }
   },
   "outputs": [
    {
     "data": {
      "text/plain": [
       "True"
      ]
     },
     "execution_count": 55,
     "metadata": {},
     "output_type": "execute_result"
    }
   ],
   "source": [
    "countries = ('D', 'E', 'F', 'G', 'H', 'L', 'M', 'N', 'P', 'R', 'S', 'T', 'U', 'V', 'W', 'X', 'Y', 'Z')\n",
    "\n",
    "def is_valid_note(serial):\n",
    "    \"\"\"\n",
    "    is_valid_note take as input a serial number, as a string of 12 chars, and returns True is serial number is  genuine\n",
    "    \n",
    "    \"\"\"\n",
    "    if (not isinstance(serial, str)) or len(serial) != 12:\n",
    "        raise ValueError(\"Doesn't look like a serial number!\")\n",
    "        \n",
    "    ret = 0\n",
    "        \n",
    "    country = serial[0]\n",
    "    if country not in countries:\n",
    "        return False\n",
    "    \n",
    "    ret = ret + (ord(country) % 9)\n",
    "    \n",
    "    if ord('A') <= ord(serial[1]) <= ord('Z'):\n",
    "        #Serie Europa\n",
    "        ret = ret + (ord(serial[1]) % 9)\n",
    "    elif ord('0') <= ord(serial[1]) <= ord('9'):\n",
    "        ret = ret + (int(serial[1]) % 9)\n",
    "    else:\n",
    "        return False\n",
    "    \n",
    "    for i in range(2, len(serial)):\n",
    "        if ord('0') <= ord(serial[i]) <= ord('9'):\n",
    "            ret = ret + int(serial[i])\n",
    "        else:\n",
    "            return False\n",
    "            \n",
    "    return ret % 9 == 0\n",
    "  \n",
    "is_valid_note(\"PA4680000107\")"
   ]
  },
  {
   "cell_type": "code",
   "execution_count": 56,
   "metadata": {},
   "outputs": [
    {
     "name": "stdout",
     "output_type": "stream",
     "text": [
      "Help on function is_valid_note in module __main__:\n",
      "\n",
      "is_valid_note(serial)\n",
      "    is_valid_note take as input a serial number, as a string of 12 chars, and returns True is serial number is  genuine\n",
      "\n"
     ]
    }
   ],
   "source": [
    "help(is_valid_note)"
   ]
  }
 ],
 "metadata": {
  "celltoolbar": "Slideshow",
  "kernelspec": {
   "display_name": "Python 3",
   "language": "python",
   "name": "python3"
  },
  "language_info": {
   "codemirror_mode": {
    "name": "ipython",
    "version": 3
   },
   "file_extension": ".py",
   "mimetype": "text/x-python",
   "name": "python",
   "nbconvert_exporter": "python",
   "pygments_lexer": "ipython3",
   "version": "3.6.1"
  }
 },
 "nbformat": 4,
 "nbformat_minor": 2
}
