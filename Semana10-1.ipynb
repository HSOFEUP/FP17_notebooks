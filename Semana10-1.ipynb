{
 "cells": [
  {
   "cell_type": "markdown",
   "metadata": {
    "slideshow": {
     "slide_type": "slide"
    }
   },
   "source": [
    "# <center>Programming Foundations <br/> @ LEIC/LETI</center>\n",
    "\n",
    "<br>\n",
    "<br>\n",
    "\n",
    "## <center>Week 10</center>"
   ]
  },
  {
   "cell_type": "markdown",
   "metadata": {
    "slideshow": {
     "slide_type": "slide"
    }
   },
   "source": [
    "# <center> Object Oriented Programming </center>\n",
    "\n",
    "- At the simplest level, classes/objects are simply namespaces (i.e., a context)\n",
    "\n",
    "```\n",
    "class math:\n",
    "\tdef exp():\n",
    "\t\treturn 0\n",
    "```\n",
    "\n",
    "```\n",
    ">>> math.exp(1)\n",
    "2.71828...\n",
    ">>> math.exp(1)\n",
    "0\n",
    "```\n",
    "\n",
    "- It can sometimes be useful to put groups of functions in their own namespace to differentiate these functions from other similarly named ones."
   ]
  },
  {
   "cell_type": "markdown",
   "metadata": {
    "slideshow": {
     "slide_type": "slide"
    }
   },
   "source": [
    "# <center> What is an Object? </center>\n",
    "\n",
    "- A software item that contains **variables** and **methods**\n",
    "- Object Oriented design focuses on\n",
    "    - Encapsulation: \n",
    "        - dividing the code into a public **interface**, and a private **implementation** of that interface\n",
    "    - Polymorphism:\n",
    "        - the ability to **overload** standard operators so that they have appropriate behavior based on their context\n",
    "    - Inheritance:\n",
    "        - the ability to create **subclasses** that contain specializations of their parents\n",
    "\n",
    "\n",
    "- What is the difference between ADTs and Objects?"
   ]
  },
  {
   "cell_type": "markdown",
   "metadata": {
    "slideshow": {
     "slide_type": "slide"
    }
   },
   "source": [
    "# <center> Python Classes </center>\n",
    "\n",
    "- Python contains classes that define objects\n",
    "    - Objects are **instances** of classes\n",
    "        \n",
    "        \n",
    "- `__init__` is the default constructor (self refers to the object itself)"
   ]
  },
  {
   "cell_type": "code",
   "execution_count": 3,
   "metadata": {
    "slideshow": {
     "slide_type": "slide"
    }
   },
   "outputs": [
    {
     "name": "stdout",
     "output_type": "stream",
     "text": [
      "6\n",
      "(0.0, 1.0, 2.0)\n",
      "<__main__.atom object at 0x106d17d68>\n"
     ]
    },
    {
     "data": {
      "text/plain": [
       "True"
      ]
     },
     "execution_count": 3,
     "metadata": {},
     "output_type": "execute_result"
    }
   ],
   "source": [
    "class atom:\n",
    "    def __init__(self,atno,x,y,z):\n",
    "        self.atno = atno\n",
    "        self.position = (x,y,z)\n",
    "        \n",
    "at = atom(6,0.0,1.0,2.0)\n",
    "\n",
    "print(at.atno)\n",
    "print(at.position)\n",
    "\n",
    "print(at)\n",
    "\n",
    "isinstance(at, atom)"
   ]
  },
  {
   "cell_type": "markdown",
   "metadata": {
    "slideshow": {
     "slide_type": "slide"
    }
   },
   "source": [
    "# <center> Methods and Overloading </center>\n",
    "\n",
    "Python allows you to customize your objects by defining some methods with special names:\n",
    "\n",
    "- `__init__` method\n",
    "\n",
    "    \n",
    "The parameters are as for ordinary functions, and support all the variants: positional, default, keyword, etc. When a class has an `__init__` method, you pass parameters to the class when instantiating it, and the `__init__` method will be called with these parameters. Usually the method will set various instance variables via self.\n",
    "      \n",
    "```\n",
    "class cartesian:\n",
    "    def __init__(self, x=0, y=0):\n",
    "        self.x, self.y = x, y\n",
    "```"
   ]
  },
  {
   "cell_type": "markdown",
   "metadata": {
    "slideshow": {
     "slide_type": "slide"
    }
   },
   "source": [
    "- `__repr__` method\n",
    "\n",
    "A `__repr__` method takes exactly one parameter, self, and must return a string. This string is intended to be a representation of the object, suitable for display to the programmer, for instance when working in the interactive interpreter. `__repr__` will be called anytime the builtin repr function is applied to an object; this function is also called when the backquote operator is used.\n",
    "\n",
    "- `__str__` method\n",
    "   \n",
    "The `__str__` method is exactly like `__repr__` except that it is called when the builtin str function is applied to an object."
   ]
  },
  {
   "cell_type": "code",
   "execution_count": 13,
   "metadata": {
    "slideshow": {
     "slide_type": "slide"
    }
   },
   "outputs": [
    {
     "name": "stdout",
     "output_type": "stream",
     "text": [
      "FP:ATOM: 121     0.0000     1.0000     2.0000\n"
     ]
    },
    {
     "data": {
      "text/plain": [
       "'y'"
      ]
     },
     "execution_count": 13,
     "metadata": {},
     "output_type": "execute_result"
    }
   ],
   "source": [
    "class atom:\n",
    "    def __init__(self,atno,x,y,z):\n",
    "        self.atno = atno\n",
    "        self.position = (x,y,z)\n",
    "        \n",
    "    def symbol(self):   # a class method\n",
    "        return chr(self.atno)\n",
    "        \n",
    "    def __repr__(self): # overloads printing\n",
    "        return 'FP:ATOM: %d %10.4f %10.4f %10.4f' % (self.atno, self.position[0], self.position[1],self.position[2])\n",
    "    \n",
    "at = atom(121,0.0,1.0,2.0)\n",
    "print(at)\n",
    "\n",
    "at.symbol()\n",
    "\n"
   ]
  },
  {
   "cell_type": "markdown",
   "metadata": {
    "slideshow": {
     "slide_type": "slide"
    }
   },
   "source": [
    "# <center> Complex Numbers </center>\n",
    "\n",
    "```\n",
    "class complexo:\n",
    "    def __init__(self, x, y):\n",
    "        if not(isinstance(x, (int, float)) and isinstance(y, (int, float))):\n",
    "            raise ValueError('complexo: argumentos invalidos, x e y tem de ser numeros')\n",
    "        self.real = x\n",
    "        self.imaginario = y\n",
    "    \n",
    "    def parte_real(self):\n",
    "        return self.real\n",
    "    \n",
    "    def parte_imaginaria(self):\n",
    "        return self.imaginario\n",
    "    \n",
    "    def e_zero(self):\n",
    "        return self.__zero(self.parte_real()) and self.__zero(self.parte_imaginaria())\n",
    "    \n",
    "    def e_imaginario_puro(self):\n",
    "        return self.__zero(self.parte_real()) and not self.__zero(self.parte_imaginaria())\n",
    "    \n",
    "    def igual(self, w):\n",
    "        if not isinstance(w, complexo):\n",
    "            raise ValueError('complexo: igual: z tem de ser complexo')\n",
    "        return self.__zero(self.parte_real() - w.parte_real()) \\\n",
    "           and self.__zero(self.parte_imaginaria() - w.parte_imaginaria())\n",
    "    \n",
    "    def para_string(self):\n",
    "        return str(self.parte_real()) + '+' + str(self.parte_imaginaria()) + 'i'\n",
    "    \n",
    "    def __zero(self, x):\n",
    "        return abs(x) < 0.0000001\n",
    "```"
   ]
  },
  {
   "cell_type": "code",
   "execution_count": 14,
   "metadata": {
    "slideshow": {
     "slide_type": "slide"
    }
   },
   "outputs": [],
   "source": [
    "class complexo:\n",
    "    def __init__(self, x, y):\n",
    "        if not(isinstance(x, (int, float)) and isinstance(y, (int, float))):\n",
    "            raise ValueError('complexo: argumentos invalidos, x e y tem de ser numeros')\n",
    "        self.real = x\n",
    "        self.imaginario = y\n",
    "    \n",
    "    def parte_real(self):\n",
    "        return self.real\n",
    "    \n",
    "    def parte_imaginaria(self):\n",
    "        return self.imaginario\n",
    "    \n",
    "    def e_zero(self):\n",
    "        return self.__zero(self.parte_real()) and self.__zero(self.parte_imaginaria())\n",
    "    \n",
    "    def e_imaginario_puro(self):\n",
    "        return self.__zero(self.parte_real()) and not self.__zero(self.parte_imaginaria())\n",
    "    \n",
    "    def igual(self, w):\n",
    "        if not isinstance(w, complexo):\n",
    "            raise ValueError('complexo: igual: z tem de ser complexo')\n",
    "        return self.__zero(self.parte_real() - w.parte_real()) \\\n",
    "           and self.__zero(self.parte_imaginaria() - w.parte_imaginaria())\n",
    "    \n",
    "    def para_string(self):\n",
    "        return str(self.parte_real()) + '+' + str(self.parte_imaginaria()) + 'i'\n",
    "    \n",
    "    def __zero(self, x):\n",
    "        return abs(x) < 0.0000001"
   ]
  },
  {
   "cell_type": "code",
   "execution_count": 25,
   "metadata": {
    "slideshow": {
     "slide_type": "slide"
    }
   },
   "outputs": [
    {
     "name": "stdout",
     "output_type": "stream",
     "text": [
      "20\n",
      "False\n",
      "False\n",
      "20\n",
      "10\n",
      "False\n",
      "True\n",
      "10+20i\n",
      "True\n",
      "<__main__.complexo object at 0x106d9b748>\n"
     ]
    }
   ],
   "source": [
    "z = complexo(10,20)\n",
    "print(z.imaginario)\n",
    "print(z.e_imaginario_puro())\n",
    "print(z.e_zero())\n",
    "print(z.parte_imaginaria())\n",
    "print(z.parte_real())\n",
    "\n",
    "w = complexo(10, 20)\n",
    "print(z == w)\n",
    "print(z.igual(w))\n",
    "#print(z.igual((9, 4.5)))\n",
    "print(z.para_string())\n",
    "w.real = 0\n",
    "print(w.e_imaginario_puro())\n",
    "print(w)\n"
   ]
  },
  {
   "cell_type": "code",
   "execution_count": 28,
   "metadata": {
    "slideshow": {
     "slide_type": "slide"
    }
   },
   "outputs": [
    {
     "name": "stdout",
     "output_type": "stream",
     "text": [
      "0+40i\n"
     ]
    }
   ],
   "source": [
    "class complexo:\n",
    "    def __init__(self, x, y):\n",
    "        if not(isinstance(x, (int, float)) and isinstance(y, (int, float))):\n",
    "            raise ValueError('complexo: argumentos invalidos, x e y tem de ser numeros')\n",
    "        self.real = x\n",
    "        self.imaginario = y\n",
    "    \n",
    "    def parte_real(self):\n",
    "        return self.real\n",
    "    \n",
    "    def parte_imaginaria(self):\n",
    "        return self.imaginario\n",
    "    \n",
    "    def e_zero(self):\n",
    "        return self.__zero(self.parte_real()) and self.__zero(self.parte_imaginaria())\n",
    "    \n",
    "    def e_imaginario_puro(self):\n",
    "        return self.__zero(self.parte_real()) and not self.__zero(self.parte_imaginaria())\n",
    "    \n",
    "    def igual(self, w):\n",
    "        if not isinstance(w, complexo):\n",
    "            raise ValueError('complexo: igual: z tem de ser complexo')\n",
    "        return self.__zero(self.parte_real() - w.parte_real()) \\\n",
    "           and self.__zero(self.parte_imaginaria() - w.parte_imaginaria())\n",
    "    \n",
    "    def para_string(self):\n",
    "        return str(self.parte_real()) + '+' + str(self.parte_imaginaria()) + 'i'\n",
    "    \n",
    "    def __zero(self, x):\n",
    "        return abs(x) < 0.0000001\n",
    "    \n",
    "    def __repr__(self):\n",
    "        return self.para_string()\n",
    "        \n",
    "c = complexo(10,40)\n",
    "c.real = 0\n",
    "print(c)"
   ]
  },
  {
   "cell_type": "markdown",
   "metadata": {
    "slideshow": {
     "slide_type": "slide"
    }
   },
   "source": [
    "# <center> Mutability </center>\n",
    "\n",
    "We can change the values of the instance variables of classes/objects. Let's see how."
   ]
  },
  {
   "cell_type": "code",
   "execution_count": null,
   "metadata": {
    "slideshow": {
     "slide_type": "slide"
    }
   },
   "outputs": [],
   "source": [
    "class complexo:\n",
    "    def __init__(self, x, y):\n",
    "        if not(isinstance(x, (int, float)) and isinstance(y, (int, float))):\n",
    "            raise ValueError('complexo: argumentos invalidos, x e y tem de ser numeros')\n",
    "        self.real = x\n",
    "        self.imaginario = y\n",
    "    \n",
    "    def parte_real(self):\n",
    "        return self.real\n",
    "    \n",
    "    def parte_imaginaria(self):\n",
    "        return self.imaginario\n",
    "    \n",
    "    def e_zero(self):\n",
    "        return self.__zero(self.parte_real()) and self.__zero(self.parte_imaginaria())\n",
    "    \n",
    "    def e_imaginario_puro(self):\n",
    "        return self.__zero(self.parte_real()) and not self.__zero(self.parte_imaginaria())\n",
    "    \n",
    "    def igual(self, w):\n",
    "        if not isinstance(w, complexo):\n",
    "            raise ValueError('complexo: igual: z tem de ser complexo')\n",
    "        return self.__zero(self.parte_real() - w.parte_real()) \\\n",
    "           and self.__zero(self.parte_imaginaria() - w.parte_imaginaria())\n",
    "    \n",
    "    def para_string(self):\n",
    "        return str(self.parte_real()) + '+' + str(self.parte_imaginaria()) + 'i'\n",
    "    \n",
    "    def update_real(self, val):\n",
    "        self.real = val\n",
    "    \n",
    "    def __zero(self, x):\n",
    "        return abs(x) < 0.0000001\n",
    "    \n",
    "    def __repr__(self):\n",
    "        return self.para_string()\n",
    "        \n",
    "c = complexo(10,20)\n",
    "print(c)\n",
    "\n",
    "c.update_real(30)\n",
    "print(c)"
   ]
  },
  {
   "cell_type": "code",
   "execution_count": 29,
   "metadata": {
    "slideshow": {
     "slide_type": "slide"
    }
   },
   "outputs": [
    {
     "ename": "TypeError",
     "evalue": "unsupported operand type(s) for +: 'complexo' and 'complexo'",
     "output_type": "error",
     "traceback": [
      "\u001b[0;31m---------------------------------------------------------------------------\u001b[0m",
      "\u001b[0;31mTypeError\u001b[0m                                 Traceback (most recent call last)",
      "\u001b[0;32m<ipython-input-29-be3c65aa86ab>\u001b[0m in \u001b[0;36m<module>\u001b[0;34m()\u001b[0m\n\u001b[1;32m      2\u001b[0m \u001b[0mw\u001b[0m \u001b[0;34m=\u001b[0m \u001b[0mcomplexo\u001b[0m\u001b[0;34m(\u001b[0m\u001b[0;36m30\u001b[0m\u001b[0;34m,\u001b[0m \u001b[0;36m40\u001b[0m\u001b[0;34m)\u001b[0m\u001b[0;34m\u001b[0m\u001b[0m\n\u001b[1;32m      3\u001b[0m \u001b[0;34m\u001b[0m\u001b[0m\n\u001b[0;32m----> 4\u001b[0;31m \u001b[0mz\u001b[0m \u001b[0;34m+\u001b[0m \u001b[0mw\u001b[0m\u001b[0;34m\u001b[0m\u001b[0m\n\u001b[0m",
      "\u001b[0;31mTypeError\u001b[0m: unsupported operand type(s) for +: 'complexo' and 'complexo'"
     ]
    }
   ],
   "source": [
    "z = complexo(20,30)\n",
    "w = complexo(30, 40)\n",
    "\n",
    "z + w"
   ]
  },
  {
   "cell_type": "code",
   "execution_count": 30,
   "metadata": {
    "slideshow": {
     "slide_type": "slide"
    }
   },
   "outputs": [
    {
     "data": {
      "text/plain": [
       "50+70i"
      ]
     },
     "execution_count": 30,
     "metadata": {},
     "output_type": "execute_result"
    }
   ],
   "source": [
    "class complexo:\n",
    "    def __init__(self, x, y):\n",
    "        if not(isinstance(x, (int, float)) and isinstance(y, (int, float))):\n",
    "            raise ValueError('complexo: argumentos invalidos, x e y tem de ser numeros')\n",
    "        self.real = x\n",
    "        self.imaginario = y\n",
    "    \n",
    "    def parte_real(self):\n",
    "        return self.real\n",
    "    \n",
    "    def parte_imaginaria(self):\n",
    "        return self.imaginario\n",
    "    \n",
    "    def e_zero(self):\n",
    "        return self.__zero(self.parte_real()) and self.__zero(self.parte_imaginaria())\n",
    "    \n",
    "    def e_imaginario_puro(self):\n",
    "        return self.__zero(self.parte_real()) and not self.__zero(self.parte_imaginaria())\n",
    "    \n",
    "    def igual(self, w):\n",
    "        if not isinstance(w, complexo):\n",
    "            raise ValueError('complexo: igual: z tem de ser complexo')\n",
    "        return self.__zero(self.parte_real() - w.parte_real()) \\\n",
    "           and self.__zero(self.parte_imaginaria() - w.parte_imaginaria())\n",
    "    \n",
    "    def para_string(self):\n",
    "        return str(self.parte_real()) + '+' + str(self.parte_imaginaria()) + 'i'\n",
    "    \n",
    "    def update_real(self, val):\n",
    "        self.real = val\n",
    "    \n",
    "    def __zero(self, x):\n",
    "        return abs(x) < 0.0000001\n",
    "    \n",
    "    def __repr__(self):\n",
    "        return self.para_string()\n",
    "    \n",
    "    def __add__(self,other):\n",
    "        x = self.real + other.parte_real()\n",
    "        y = self.imaginario + other.parte_imaginaria()\n",
    "        return complexo(x, y)\n",
    "    \n",
    "z = complexo(20,30)\n",
    "w = complexo(30, 40)\n",
    "\n",
    "z + w"
   ]
  },
  {
   "cell_type": "markdown",
   "metadata": {
    "slideshow": {
     "slide_type": "slide"
    }
   },
   "source": [
    "# Operator Overloading Special Functions in Python\n",
    "\n",
    "<table border=\"1\">\n",
    "\t<tbody>\n",
    "\t\t<tr>\n",
    "\t\t\t<th>Operator</th>\n",
    "\t\t\t<th>Expression</th>\n",
    "\t\t\t<th>Internally</th>\n",
    "\t\t</tr>\n",
    "\t\t<tr>\n",
    "\t\t\t<td>Addition</td>\n",
    "\t\t\t<td>p1 + p2</td>\n",
    "\t\t\t<td>`p1.__add__(p2)`</td>\n",
    "\t\t</tr>\n",
    "\t\t<tr>\n",
    "\t\t\t<td>Subtraction</td>\n",
    "\t\t\t<td>p1 - p2</td>\n",
    "\t\t\t<td>`p1.__sub__(p2)`</td>\n",
    "\t\t</tr>\n",
    "\t\t<tr>\n",
    "\t\t\t<td>Multiplication</td>\n",
    "\t\t\t<td>p1 * p2</td>\n",
    "\t\t\t<td>`p1.__mul__(p2)`</td>\n",
    "\t\t</tr>\n",
    "\t\t<tr>\n",
    "\t\t\t<td>Power</td>\n",
    "\t\t\t<td>p1 ** p2</td>\n",
    "\t\t\t<td>`p1.__pow__(p2)`</td>\n",
    "\t\t</tr>\n",
    "\t\t<tr>\n",
    "\t\t\t<td>Division</td>\n",
    "\t\t\t<td>p1 / p2</td>\n",
    "\t\t\t<td>`p1.__truediv__(p2)`</td>\n",
    "\t\t</tr>\n",
    "\t\t<tr>\n",
    "\t\t\t<td>Floor Division</td>\n",
    "\t\t\t<td>p1 // p2</td>\n",
    "\t\t\t<td>`p1.__floordiv__(p2)`</td>\n",
    "\t\t</tr>\n",
    "\t\t<tr>\n",
    "\t\t\t<td>Remainder (modulo)</td>\n",
    "\t\t\t<td>p1 % p2</td>\n",
    "\t\t\t<td>`p1.__mod__(p2)`</td>\n",
    "\t\t</tr>\n",
    "\t\t<tr>\n",
    "\t\t\t<td>Bitwise Left Shift</td>\n",
    "\t\t\t<td>p1 &lt;&lt; p2</td>\n",
    "\t\t\t<td>`p1.__lshift__(p2)`</td>\n",
    "\t\t</tr>\n",
    "\t\t<tr>\n",
    "\t\t\t<td>Bitwise Right Shift</td>\n",
    "\t\t\t<td>p1 &gt;&gt; p2</td>\n",
    "\t\t\t<td>`p1.__rshift__(p2)`</td>\n",
    "\t\t</tr>\n",
    "\t\t<tr>\n",
    "\t\t\t<td>Bitwise AND</td>\n",
    "\t\t\t<td>p1 &amp; p2</td>\n",
    "\t\t\t<td>`p1.__and__(p2)`</td>\n",
    "\t\t</tr>\n",
    "\t\t<tr>\n",
    "\t\t\t<td>Bitwise OR</td>\n",
    "\t\t\t<td>p1 | p2</td>\n",
    "\t\t\t<td>`p1.__or__(p2)`</td>\n",
    "\t\t</tr>\n",
    "\t\t<tr>\n",
    "\t\t\t<td>Bitwise XOR</td>\n",
    "\t\t\t<td>p1 ^ p2</td>\n",
    "\t\t\t<td>`p1.__xor__(p2)`</td>\n",
    "\t\t</tr>\n",
    "\t\t<tr>\n",
    "\t\t\t<td>Bitwise NOT</td>\n",
    "\t\t\t<td>~p1</td>\n",
    "\t\t\t<td>`p1.__invert__()`</td>\n",
    "\t\t</tr>\n",
    "\t</tbody>\n",
    "</table>\n",
    "\n",
    "Note: This is also known as polimorphic operations. "
   ]
  },
  {
   "cell_type": "markdown",
   "metadata": {
    "slideshow": {
     "slide_type": "slide"
    }
   },
   "source": [
    "# Comparision Operator Overloading in Python\n",
    "<table border=\"1\" summary=\"Comparison Operator Overloading in Python\" width=\"500\">\n",
    "\t<tbody>\n",
    "\t\t<tr>\n",
    "\t\t\t<th scope=\"col\" width=\"187\">Operator</th>\n",
    "\t\t\t<th scope=\"col\" width=\"135\">Expression</th>\n",
    "\t\t\t<th scope=\"col\" width=\"156\">Internally</th>\n",
    "\t\t</tr>\n",
    "\t\t<tr>\n",
    "\t\t\t<td>Less than</td>\n",
    "\t\t\t<td>p1 &lt; p2</td>\n",
    "\t\t\t<td>`p1.__lt__(p2)`</td>\n",
    "\t\t</tr>\n",
    "\t\t<tr>\n",
    "\t\t\t<td>Less than or equal to</td>\n",
    "\t\t\t<td>p1 &lt;= p2</td>\n",
    "\t\t\t<td>`p1.__le__(p2)`</td>\n",
    "\t\t</tr>\n",
    "\t\t<tr>\n",
    "\t\t\t<td>\n",
    "\t\t\t\t<p>Equal to</p>\n",
    "\t\t\t</td>\n",
    "\t\t\t<td>p1 == p2</td>\n",
    "\t\t\t<td>`p1.__eq__(p2)`</td>\n",
    "\t\t</tr>\n",
    "\t\t<tr>\n",
    "\t\t\t<td>Not equal to</td>\n",
    "\t\t\t<td>p1 != p2</td>\n",
    "\t\t\t<td>`p1.__ne__(p2)`</td>\n",
    "\t\t</tr>\n",
    "\t\t<tr>\n",
    "\t\t\t<td>Greater than</td>\n",
    "\t\t\t<td>p1 &gt; p2</td>\n",
    "\t\t\t<td>`p1.__gt__(p2)`</td>\n",
    "\t\t</tr>\n",
    "\t\t<tr>\n",
    "\t\t\t<td>Greater than or equal to</td>\n",
    "\t\t\t<td>p1 &gt;= p2</td>\n",
    "\t\t\t<td>`p1.__ge__(p2)`</td>\n",
    "\t\t</tr>\n",
    "\t</tbody>\n",
    "</table>\n",
    "\n",
    "More info at https://www.programiz.com/python-programming/operator-overloading"
   ]
  },
  {
   "cell_type": "code",
   "execution_count": 31,
   "metadata": {
    "slideshow": {
     "slide_type": "slide"
    }
   },
   "outputs": [
    {
     "ename": "TypeError",
     "evalue": "'complexo' object is not iterable",
     "output_type": "error",
     "traceback": [
      "\u001b[0;31m---------------------------------------------------------------------------\u001b[0m",
      "\u001b[0;31mTypeError\u001b[0m                                 Traceback (most recent call last)",
      "\u001b[0;32m<ipython-input-31-91c12f37d19e>\u001b[0m in \u001b[0;36m<module>\u001b[0;34m()\u001b[0m\n\u001b[0;32m----> 1\u001b[0;31m \u001b[0mlist\u001b[0m\u001b[0;34m(\u001b[0m\u001b[0mw\u001b[0m\u001b[0;34m)\u001b[0m\u001b[0;34m\u001b[0m\u001b[0m\n\u001b[0m",
      "\u001b[0;31mTypeError\u001b[0m: 'complexo' object is not iterable"
     ]
    }
   ],
   "source": [
    "list(w)"
   ]
  },
  {
   "cell_type": "markdown",
   "metadata": {
    "slideshow": {
     "slide_type": "slide"
    }
   },
   "source": [
    "\n",
    "### Check ```__iter__``` and ```__next__``` out :) \n",
    "\n",
    "https://www.programiz.com/python-programming/iterator"
   ]
  },
  {
   "cell_type": "code",
   "execution_count": 32,
   "metadata": {
    "slideshow": {
     "slide_type": "slide"
    }
   },
   "outputs": [],
   "source": [
    "class complexo:\n",
    "    def __init__(self, x, y):\n",
    "        if not(isinstance(x, (int, float)) and isinstance(y, (int, float))):\n",
    "            raise ValueError('complexo: argumentos invalidos, x e y tem de ser numeros')\n",
    "        self.real = x\n",
    "        self.imaginario = y\n",
    "    \n",
    "    def parte_real(self):\n",
    "        return self.real\n",
    "    \n",
    "    def parte_imaginaria(self):\n",
    "        return self.imaginario\n",
    "    \n",
    "    def e_zero(self):\n",
    "        return self.__zero(self.parte_real()) and self.__zero(self.parte_imaginaria())\n",
    "    \n",
    "    def e_imaginario_puro(self):\n",
    "        return self.__zero(self.parte_real()) and not self.__zero(self.parte_imaginaria())\n",
    "    \n",
    "    def igual(self, w):\n",
    "        if not isinstance(w, complexo):\n",
    "            raise ValueError('complexo: igual: z tem de ser complexo')\n",
    "        return self.__zero(self.parte_real() - w.parte_real()) \\\n",
    "           and self.__zero(self.parte_imaginaria() - w.parte_imaginaria())\n",
    "    \n",
    "    def para_string(self):\n",
    "        return str(self.parte_real()) + '+' + str(self.parte_imaginaria()) + 'i'\n",
    "    \n",
    "    def update_real(self, val):\n",
    "        self.real = val\n",
    "    \n",
    "    def __zero(self, x):\n",
    "        return abs(x) < 0.0000001\n",
    "    \n",
    "    def __repr__(self):\n",
    "        return self.para_string()\n",
    "    \n",
    "    def __add__(self,other):\n",
    "        x = self.real + other.parte_real()\n",
    "        y = self.imaginario + other.parte_imaginaria()\n",
    "        return complexo(x, y)\n",
    "    \n",
    "    def __iter__(self):\n",
    "        self.n = 0\n",
    "        return self\n",
    "    \n",
    "    def __next__(self):\n",
    "        self.n += 1\n",
    "        if(self.n == 1):            \n",
    "            return self.real\n",
    "        elif(self.n == 2):\n",
    "            return self.imaginario\n",
    "        else:\n",
    "            raise StopIteration\n",
    "        "
   ]
  },
  {
   "cell_type": "code",
   "execution_count": 35,
   "metadata": {
    "slideshow": {
     "slide_type": "slide"
    }
   },
   "outputs": [
    {
     "data": {
      "text/plain": [
       "(10, 20)"
      ]
     },
     "execution_count": 35,
     "metadata": {},
     "output_type": "execute_result"
    }
   ],
   "source": [
    "c = complexo(10,20)\n",
    "tuple(c)"
   ]
  },
  {
   "cell_type": "markdown",
   "metadata": {
    "collapsed": true,
    "slideshow": {
     "slide_type": "slide"
    }
   },
   "source": [
    "Yet another example:\n",
    "    \n",
    "- http://thepythonguru.com/python-operator-overloading/"
   ]
  }
 ],
 "metadata": {
  "celltoolbar": "Slideshow",
  "kernelspec": {
   "display_name": "Python 3",
   "language": "python",
   "name": "python3"
  },
  "language_info": {
   "codemirror_mode": {
    "name": "ipython",
    "version": 3
   },
   "file_extension": ".py",
   "mimetype": "text/x-python",
   "name": "python",
   "nbconvert_exporter": "python",
   "pygments_lexer": "ipython3",
   "version": "3.6.1"
  }
 },
 "nbformat": 4,
 "nbformat_minor": 2
}
