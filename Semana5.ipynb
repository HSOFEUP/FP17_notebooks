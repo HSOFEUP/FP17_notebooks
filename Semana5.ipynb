{
 "cells": [
  {
   "cell_type": "markdown",
   "metadata": {
    "slideshow": {
     "slide_type": "slide"
    }
   },
   "source": [
    "# <center>Programming Foundations <br/> @ LEIC/LETI</center>\n",
    "\n",
    "<br>\n",
    "<br>\n",
    "\n",
    "## <center>Week 5</center>"
   ]
  },
  {
   "cell_type": "markdown",
   "metadata": {
    "slideshow": {
     "slide_type": "slide"
    }
   },
   "source": [
    "# <center> Lists </center>\n",
    "\n",
    "In python, listas are like tuples, with one fundamental difference: they are mutable.\n",
    "\n",
    "```\n",
    "<list> ::= [] | [<elements>]\n",
    "<elements> ::= <element> | <element>, <elements>\n",
    "<element> ::= <expression> | <tuple> | <list> | <dictionary>\n",
    "```\n",
    "\n",
    "As there is no ambiguity with the usage of `[]` (as it was the case with `()`), lists with just one element do not end with `,]`. "
   ]
  },
  {
   "cell_type": "markdown",
   "metadata": {
    "slideshow": {
     "slide_type": "slide"
    }
   },
   "source": [
    "# <center> Examples </center>\n",
    "\n",
    "List of operations: https://docs.python.org/3/library/stdtypes.html#typesseq-mutable\n",
    "\n",
    "```\n",
    ">>> lst1 = [2, 3, 5, 7]\n",
    ">>> lst2 = [0, 1, 1, 2, 3, 5, 8]\n",
    "```"
   ]
  },
  {
   "cell_type": "code",
   "execution_count": 1,
   "metadata": {
    "slideshow": {
     "slide_type": "slide"
    }
   },
   "outputs": [
    {
     "name": "stdout",
     "output_type": "stream",
     "text": [
      "[2, 3, 5, 7, 0, 1, 1, 2, 3, 5, 8]\n",
      "[0, 1, 1, 2, 3, 5, 8, 2, 3, 5, 7]\n"
     ]
    }
   ],
   "source": [
    "lst1 = [2, 3, 5, 7]\n",
    "lst2 = [0, 1, 1, 2, 3, 5, 8]\n",
    "print(lst1 + lst2)\n",
    "print(lst2 + lst1)"
   ]
  },
  {
   "cell_type": "code",
   "execution_count": 2,
   "metadata": {
    "slideshow": {
     "slide_type": "slide"
    }
   },
   "outputs": [
    {
     "data": {
      "text/plain": [
       "[2, 3, 5, 7, 2, 3, 5, 7, 2, 3, 5, 7]"
      ]
     },
     "execution_count": 2,
     "metadata": {},
     "output_type": "execute_result"
    }
   ],
   "source": [
    "lst1 = [2, 3, 5, 7]\n",
    "lst1 * 3 # same as 3 * lst"
   ]
  },
  {
   "cell_type": "code",
   "execution_count": 3,
   "metadata": {
    "slideshow": {
     "slide_type": "slide"
    }
   },
   "outputs": [
    {
     "data": {
      "text/plain": [
       "[1, 2, 3]"
      ]
     },
     "execution_count": 3,
     "metadata": {},
     "output_type": "execute_result"
    }
   ],
   "source": [
    "lst2 = [0, 1, 1, 2, 3, 5, 8]\n",
    "lst2[2:5]"
   ]
  },
  {
   "cell_type": "code",
   "execution_count": 4,
   "metadata": {
    "slideshow": {
     "slide_type": "slide"
    }
   },
   "outputs": [
    {
     "name": "stdout",
     "output_type": "stream",
     "text": [
      "[0, 1, 5, 8]\n"
     ]
    }
   ],
   "source": [
    "lst2 = [0, 1, 1, 2, 3, 5, 8]\n",
    "del(lst2[2:5])\n",
    "\n",
    "print(lst2)"
   ]
  },
  {
   "cell_type": "code",
   "execution_count": 5,
   "metadata": {
    "slideshow": {
     "slide_type": "slide"
    }
   },
   "outputs": [
    {
     "data": {
      "text/plain": [
       "True"
      ]
     },
     "execution_count": 5,
     "metadata": {},
     "output_type": "execute_result"
    }
   ],
   "source": [
    "lst2 = [0, 1, 1, 2, 3, 5, 8]\n",
    "8 in lst2"
   ]
  },
  {
   "cell_type": "code",
   "execution_count": 6,
   "metadata": {
    "slideshow": {
     "slide_type": "slide"
    }
   },
   "outputs": [
    {
     "data": {
      "text/plain": [
       "False"
      ]
     },
     "execution_count": 6,
     "metadata": {},
     "output_type": "execute_result"
    }
   ],
   "source": [
    "8 not in lst2"
   ]
  },
  {
   "cell_type": "code",
   "execution_count": 7,
   "metadata": {
    "slideshow": {
     "slide_type": "slide"
    }
   },
   "outputs": [
    {
     "data": {
      "text/plain": [
       "7"
      ]
     },
     "execution_count": 7,
     "metadata": {},
     "output_type": "execute_result"
    }
   ],
   "source": [
    "len(lst1)\n",
    "lst1[len(lst1) - 1]"
   ]
  },
  {
   "cell_type": "code",
   "execution_count": 8,
   "metadata": {
    "slideshow": {
     "slide_type": "slide"
    }
   },
   "outputs": [
    {
     "data": {
      "text/plain": [
       "[[2], 3, 4]"
      ]
     },
     "execution_count": 8,
     "metadata": {},
     "output_type": "execute_result"
    }
   ],
   "source": [
    "list(([2],3,4))"
   ]
  },
  {
   "cell_type": "code",
   "execution_count": 9,
   "metadata": {
    "slideshow": {
     "slide_type": "slide"
    }
   },
   "outputs": [
    {
     "data": {
      "text/plain": [
       "['F', 'u', 'n', 'd', 'a', 'm', 'e', 'n', 't', 'o', 's']"
      ]
     },
     "execution_count": 9,
     "metadata": {},
     "output_type": "execute_result"
    }
   ],
   "source": [
    "list('Fundamentos')"
   ]
  },
  {
   "cell_type": "code",
   "execution_count": 10,
   "metadata": {
    "slideshow": {
     "slide_type": "slide"
    }
   },
   "outputs": [
    {
     "name": "stdout",
     "output_type": "stream",
     "text": [
      "[2, 'FP', 5, 7]\n"
     ]
    },
    {
     "data": {
      "text/plain": [
       "[1, 2, 3, 10, 20]"
      ]
     },
     "execution_count": 10,
     "metadata": {},
     "output_type": "execute_result"
    }
   ],
   "source": [
    "lst1[1] = 'FP'\n",
    "print(lst1)\n",
    "\n",
    "\n",
    "lst1 = [1,2,3]\n",
    "for i in [10, 20]:\n",
    "    lst1.append(i)\n",
    "    \n",
    "lst1"
   ]
  },
  {
   "cell_type": "markdown",
   "metadata": {
    "slideshow": {
     "slide_type": "slide"
    }
   },
   "source": [
    "# <center> Lists and name attribution </center>\n",
    "\n",
    "```\n",
    ">>> lst1 = [2, 3, 5, 7]\n",
    ">>> lst2 = lst1\n",
    ">>> lst1[2] = 6\n",
    "\n",
    ">>> lst1\n",
    ">>> lst2\n",
    "\n",
    "lst2[1] = 4\n",
    ">>> lst1\n",
    ">>> lst2\n",
    "```"
   ]
  },
  {
   "cell_type": "code",
   "execution_count": 11,
   "metadata": {
    "slideshow": {
     "slide_type": "slide"
    }
   },
   "outputs": [
    {
     "name": "stdout",
     "output_type": "stream",
     "text": [
      "[2, 3, 6, 7]\n",
      "[2, 3, 6, 7]\n",
      "[2, 4, 6, 7]\n",
      "[2, 4, 6, 7]\n",
      "[2, 4, 6, 7]\n",
      "[-1, 4, 6, 7]\n"
     ]
    }
   ],
   "source": [
    "lst1 = [2, 3, 5, 7]\n",
    "lst2 = lst1\n",
    "lst1[2] = 6\n",
    "\n",
    "print(lst1)\n",
    "print(lst2)\n",
    "\n",
    "lst2[1] = 4\n",
    "print(lst1)\n",
    "print(lst2)\n",
    "\n",
    "lst2 = list(lst1)\n",
    "lst2[0] = -1\n",
    "print(lst1)\n",
    "print(lst2)"
   ]
  },
  {
   "cell_type": "markdown",
   "metadata": {
    "slideshow": {
     "slide_type": "slide"
    }
   },
   "source": [
    "# What is going on?\n",
    "\n",
    "In Python, all entities are objects (we will discuss this in much more detail later), and attribution is just associating a name to an object. Objects are stored in memory. \n",
    "\n",
    "### **Exercise**: Can you graphically describe what happened in the previous example?"
   ]
  },
  {
   "cell_type": "markdown",
   "metadata": {
    "slideshow": {
     "slide_type": "slide"
    }
   },
   "source": [
    "# Objects, and functions: are parameters passed by reference or value?\n",
    "\n",
    "Arguments are passed by [assignment](https://docs.python.org/3/faq/programming.html#how-do-i-write-a-function-with-output-parameters-call-by-reference). The rationale behind this is twofold:\n",
    "\n",
    "- the parameter passed in is actually a reference to an object (but the reference is passed by value)\n",
    "- some data types are mutable, but others aren't\n",
    "\n",
    "So:\n",
    "\n",
    "- If you pass a mutable object into a method, the method gets a reference to that same object and you can mutate it to your heart's delight, but if you rebind the reference in the method, the outer scope will know nothing about it, and after you're done, the outer reference will still point at the original object.\n",
    "- If you pass an immutable object to a method, you still can't rebind the outer reference, and you can't even mutate the object."
   ]
  },
  {
   "cell_type": "code",
   "execution_count": 12,
   "metadata": {
    "slideshow": {
     "slide_type": "slide"
    }
   },
   "outputs": [
    {
     "name": "stdout",
     "output_type": "stream",
     "text": [
      "old-value 99\n",
      "new-value 100\n"
     ]
    }
   ],
   "source": [
    "def func2(a, b):\n",
    "    a = 'new-value'        # a and b are local names\n",
    "    b = b + 1              # assigned to new objects\n",
    "    return (a, b)          # return new values\n",
    "\n",
    "(x, y) = 'old-value', 99\n",
    "(a, b) = func2(x, y)\n",
    "\n",
    "print(x, y)  \n",
    "print(a,b)"
   ]
  },
  {
   "cell_type": "code",
   "execution_count": 13,
   "metadata": {
    "slideshow": {
     "slide_type": "slide"
    }
   },
   "outputs": [
    {
     "name": "stdout",
     "output_type": "stream",
     "text": [
      "new-value 100\n"
     ]
    }
   ],
   "source": [
    "def func1(a):\n",
    "    a[0] = 'new-value'     # 'a' references a mutable list\n",
    "    a[1] = a[1] + 1        # changes a shared object\n",
    "\n",
    "args = ['old-value', 99]\n",
    "func1(args)\n",
    "\n",
    "print(args[0], args[1])    "
   ]
  },
  {
   "cell_type": "code",
   "execution_count": 14,
   "metadata": {
    "slideshow": {
     "slide_type": "slide"
    }
   },
   "outputs": [
    {
     "name": "stdout",
     "output_type": "stream",
     "text": [
      "([2, 3, 5], [2, 3, 5])\n"
     ]
    }
   ],
   "source": [
    "def addtoall(t, x):\n",
    "    for l in t:\n",
    "        l.append(x)\n",
    "    t = ()\n",
    "    \n",
    "t = ([], [])\n",
    "addtoall(t, 2)\n",
    "addtoall(t, 3)\n",
    "addtoall(t, 5)\n",
    "\n",
    "print(t)"
   ]
  },
  {
   "cell_type": "markdown",
   "metadata": {
    "slideshow": {
     "slide_type": "slide"
    }
   },
   "source": [
    "# Exercise: Check whether or not an IMEI is valid\n",
    "\n",
    "- The International Mobile Equipment Identity or IMEI is a number, usually unique to identify mobile phones. It is usually found printed inside the battery compartment of the phone, but can also be displayed on-screen on most phones by entering *#06# on the dialpad, or alongside other system information in the settings menu on smartphone operating systems.\n",
    "\n",
    "- It has 15 digits: the right-most digiti is a check digit\n",
    "\n",
    "- The IMEI number is used by a GSM network to identify valid devices and therefore can be used for stopping a stolen phone from accessing that network.\n",
    "\n",
    "- The Luhn algorithm or Luhn formula, also known as the \"modulus 10\" or \"mod 10\" algorithm, is a simple checksum formula used to validate a variety of identification numbers, such as credit card numbers, IMEI numbers, etc."
   ]
  },
  {
   "cell_type": "markdown",
   "metadata": {
    "slideshow": {
     "slide_type": "slide"
    }
   },
   "source": [
    "\n",
    "The formula verifies a number against its included check digit, which is usually appended to a partial account number to generate the full account number. This number must pass the following test:\n",
    "\n",
    "- From the rightmost digit, which is the check digit, and moving left, double the value of every second digit. If the result of this doubling operation is greater than 9 (e.g., 8 × 2 = 16), then add the digits of the product (e.g., 16: 1 + 6 = 7, 18: 1 + 8 = 9) or, alternatively, the same result can be found by subtracting 9 from the product (e.g., 16: 16 - 9 = 7, 18: 18 - 9 = 9).\n",
    "\n",
    "- Take the sum of all the digits, including the check digit\n",
    "\n",
    "- If the total modulo 10 is equal to 0 then the number is **valid** according to the Luhn formula; else it is **not valid**.\n",
    "\n",
    "![luhn](imgs/luhn.png)\n"
   ]
  },
  {
   "cell_type": "code",
   "execution_count": 15,
   "metadata": {
    "slideshow": {
     "slide_type": "slide"
    }
   },
   "outputs": [
    {
     "name": "stdout",
     "output_type": "stream",
     "text": [
      "[3, 10, 3, 4, 7, 0, 0, 14, 9, 12, 8, 8, 2, 4, 3]\n",
      "[3, 1, 3, 4, 7, 0, 0, 5, 9, 3, 8, 8, 2, 4, 3]\n"
     ]
    },
    {
     "data": {
      "text/plain": [
       "True"
      ]
     },
     "execution_count": 15,
     "metadata": {},
     "output_type": "execute_result"
    }
   ],
   "source": [
    "def is_valid_imei(imei):\n",
    "    \"\"\"\n",
    "    checks if an imei is valid.\n",
    "    \"\"\"\n",
    "    \n",
    "    if (not isinstance(imei, list)) and len(imei) != 15:\n",
    "        raise ValueError(\"Doesn't look like a serial number!\")\n",
    "        \n",
    "    for i in range(len(imei)):\n",
    "        imei[i] = int(imei[i])\n",
    "        \n",
    "    for i in range(len(imei) - 2, -1, -2):\n",
    "        imei[i] = imei[i] * 2\n",
    "    \n",
    "    print(imei)\n",
    "    \n",
    "    for i in range(len(imei)):\n",
    "        if imei[i] >= 10:\n",
    "            imei[i] -= 9\n",
    "                        \n",
    "    print(imei)\n",
    "    \n",
    "    acc = 0\n",
    "    for i in range(len(imei)):\n",
    "        acc = acc + imei[i]  \n",
    "    \n",
    "    return acc % 10 == 0\n",
    "  \n",
    "is_valid_imei(list(\"353270079684223\"))"
   ]
  },
  {
   "cell_type": "code",
   "execution_count": 16,
   "metadata": {
    "slideshow": {
     "slide_type": "slide"
    }
   },
   "outputs": [
    {
     "data": {
      "text/plain": [
       "True"
      ]
     },
     "execution_count": 16,
     "metadata": {},
     "output_type": "execute_result"
    }
   ],
   "source": [
    "#Yet another solution.\n",
    "\n",
    "def is_valid_imei(imei):\n",
    "    \"\"\"\n",
    "    checks if an imei is valid.\n",
    "    \n",
    "    \"\"\"\n",
    "    \n",
    "    if (not isinstance(imei, list)) and len(imei) != 15:\n",
    "        raise ValueError(\"Doesn't look like a serial number!\")\n",
    "        \n",
    "    acc = 0\n",
    "    factor = 1\n",
    "    for i in range(len(imei) - 1, -1, -1):\n",
    "        double = int(imei[i]) * factor\n",
    "        if double > 9:\n",
    "            acc = acc + (double - 9)\n",
    "        else:\n",
    "            acc = acc + double                    \n",
    "\n",
    "        if factor == 2:\n",
    "            factor = 1\n",
    "        else:\n",
    "            factor = 2\n",
    "                            \n",
    "    return acc % 10 == 0\n",
    "  \n",
    "is_valid_imei(list(\"353270079684223\"))"
   ]
  },
  {
   "cell_type": "markdown",
   "metadata": {
    "slideshow": {
     "slide_type": "slide"
    }
   },
   "source": [
    "# Lists by comprehension\n",
    "\n",
    "Python supports a concept called _list comprehensions_. It can be used to construct lists in a very natural, easy way, like a mathematician is used to do.\n",
    "\n",
    "The following are common ways to describe lists (or sets, or tuples, or vectors) in mathematics:\n",
    "\n",
    "- S = {x² : x in {0 ... 9}}\n",
    "- V = (1, 2, 4, 8, ..., 2¹²)\n",
    "- M = {x | x in S and x even}"
   ]
  },
  {
   "cell_type": "markdown",
   "metadata": {
    "slideshow": {
     "slide_type": "slide"
    }
   },
   "source": [
    "# Lists by comprehension\n",
    "\n",
    "In Python, you can write these expression almost exactly like a mathematician would do, without having to remember any special cryptic syntax.\n",
    "\n",
    "This is how you do the above in Python:\n",
    "\n",
    "```\n",
    ">>> S = [x**2 for x in range(10)]\n",
    ">>> V = [2**i for i in range(13)]\n",
    ">>> M = [x for x in S if x % 2 == 0]\n",
    "```"
   ]
  },
  {
   "cell_type": "code",
   "execution_count": 38,
   "metadata": {
    "slideshow": {
     "slide_type": "slide"
    }
   },
   "outputs": [
    {
     "name": "stdout",
     "output_type": "stream",
     "text": [
      "[0, 1, 4, 9, 16, 25, 36, 49, 64, 81]\n"
     ]
    },
    {
     "data": {
      "text/plain": [
       "[0, 4, 16, 36, 64]"
      ]
     },
     "execution_count": 38,
     "metadata": {},
     "output_type": "execute_result"
    }
   ],
   "source": [
    "S = [x**2 for x in range(10)]\n",
    "\n",
    "V = [2**i for i in range(13)] \n",
    "\n",
    "print(S)\n",
    "\n",
    "[x for x in S if x % 2 == 0]"
   ]
  },
  {
   "cell_type": "markdown",
   "metadata": {
    "slideshow": {
     "slide_type": "slide"
    }
   },
   "source": [
    "# <center>Sieve of Eratosthenes</center>\n",
    "\n",
    "Given a number `n`, print all primes smaller than or equal to `n`. It is also given that `n` is a small number.\n",
    "For example, if `n` is 10, the output should be `2, 3, 5, 7`. If `n` is 20, the output should be `2, 3, 5, 7, 11, 13, 17, 19`.\n",
    "\n",
    "The sieve of Eratosthenes is one of the most efficient ways to find all primes smaller than `n` when `n` is smaller than 10 million or so."
   ]
  },
  {
   "cell_type": "markdown",
   "metadata": {
    "slideshow": {
     "slide_type": "slide"
    }
   },
   "source": [
    "# <center>Sieve of Eratosthenes</center>\n",
    "\n",
    "To find all the prime numbers less than or equal to a given integer n by Eratosthenes' method:\n",
    "\n",
    "- Create a list of consecutive integers from 2 through n: (2, 3, 4, ..., n).\n",
    "- Initially, let p equal 2, the smallest prime number.\n",
    "- Enumerate the multiples of p by counting to n from 2p in increments of p, and mark them in the list (these will be 2p, 3p, 4p, ...; the p itself should not be marked).\n",
    "- Find the first number greater than p in the list that is not marked. If there was no such number, stop. Otherwise, let p now equal this new number (which is the next prime), and repeat from step 3.\n",
    "- When the algorithm terminates, the numbers remaining not marked in the list are all the primes below n."
   ]
  },
  {
   "cell_type": "code",
   "execution_count": 39,
   "metadata": {
    "slideshow": {
     "slide_type": "slide"
    }
   },
   "outputs": [],
   "source": [
    "from math import sqrt\n",
    "\n",
    "def sieve(n):\n",
    "    \n",
    "    def delmults(i):\n",
    "        for k in range(len(lst) - 1, i, -1):\n",
    "            if lst[k] % lst[i] == 0:\n",
    "                del(lst[k])\n",
    "    \n",
    "    # 2 is a prime number\n",
    "    lst = [2]\n",
    "    \n",
    "    # all other primes are odd numbers\n",
    "    lst.extend(range(3, n+1, 2))\n",
    "    \n",
    "    # iterate and remove those that are multiple of known primes\n",
    "    i = 0\n",
    "    while lst[i] <= sqrt(n):\n",
    "        delmults(i)\n",
    "        i = i + 1\n",
    "    \n",
    "    return lst    "
   ]
  },
  {
   "cell_type": "code",
   "execution_count": 45,
   "metadata": {
    "slideshow": {
     "slide_type": "slide"
    }
   },
   "outputs": [
    {
     "data": {
      "text/plain": [
       "[2,\n",
       " 3,\n",
       " 5,\n",
       " 7,\n",
       " 11,\n",
       " 13,\n",
       " 17,\n",
       " 19,\n",
       " 23,\n",
       " 29,\n",
       " 31,\n",
       " 37,\n",
       " 41,\n",
       " 43,\n",
       " 47,\n",
       " 53,\n",
       " 59,\n",
       " 61,\n",
       " 67,\n",
       " 71,\n",
       " 73,\n",
       " 79,\n",
       " 83,\n",
       " 89,\n",
       " 97,\n",
       " 101,\n",
       " 103,\n",
       " 107,\n",
       " 109,\n",
       " 113,\n",
       " 127,\n",
       " 131,\n",
       " 137,\n",
       " 139,\n",
       " 149,\n",
       " 151,\n",
       " 157,\n",
       " 163,\n",
       " 167,\n",
       " 173,\n",
       " 179,\n",
       " 181,\n",
       " 191,\n",
       " 193,\n",
       " 197,\n",
       " 199,\n",
       " 211,\n",
       " 223,\n",
       " 227,\n",
       " 229,\n",
       " 233,\n",
       " 239,\n",
       " 241,\n",
       " 251,\n",
       " 257,\n",
       " 263,\n",
       " 269,\n",
       " 271,\n",
       " 277,\n",
       " 281,\n",
       " 283,\n",
       " 293,\n",
       " 307,\n",
       " 311,\n",
       " 313,\n",
       " 317,\n",
       " 331,\n",
       " 337,\n",
       " 347,\n",
       " 349,\n",
       " 353,\n",
       " 359,\n",
       " 367,\n",
       " 373,\n",
       " 379,\n",
       " 383,\n",
       " 389,\n",
       " 397,\n",
       " 401,\n",
       " 409,\n",
       " 419,\n",
       " 421,\n",
       " 431,\n",
       " 433,\n",
       " 439,\n",
       " 443,\n",
       " 449,\n",
       " 457,\n",
       " 461,\n",
       " 463,\n",
       " 467,\n",
       " 479,\n",
       " 487,\n",
       " 491,\n",
       " 499,\n",
       " 503,\n",
       " 509,\n",
       " 521,\n",
       " 523,\n",
       " 541,\n",
       " 547,\n",
       " 557,\n",
       " 563,\n",
       " 569,\n",
       " 571,\n",
       " 577,\n",
       " 587,\n",
       " 593,\n",
       " 599,\n",
       " 601,\n",
       " 607,\n",
       " 613,\n",
       " 617,\n",
       " 619,\n",
       " 631,\n",
       " 641,\n",
       " 643,\n",
       " 647,\n",
       " 653,\n",
       " 659,\n",
       " 661,\n",
       " 673,\n",
       " 677,\n",
       " 683,\n",
       " 691,\n",
       " 701,\n",
       " 709,\n",
       " 719,\n",
       " 727,\n",
       " 733,\n",
       " 739,\n",
       " 743,\n",
       " 751,\n",
       " 757,\n",
       " 761,\n",
       " 769,\n",
       " 773,\n",
       " 787,\n",
       " 797,\n",
       " 809,\n",
       " 811,\n",
       " 821,\n",
       " 823,\n",
       " 827,\n",
       " 829,\n",
       " 839,\n",
       " 853,\n",
       " 857,\n",
       " 859,\n",
       " 863,\n",
       " 877,\n",
       " 881,\n",
       " 883,\n",
       " 887,\n",
       " 907,\n",
       " 911,\n",
       " 919,\n",
       " 929,\n",
       " 937,\n",
       " 941,\n",
       " 947,\n",
       " 953,\n",
       " 967,\n",
       " 971,\n",
       " 977,\n",
       " 983,\n",
       " 991,\n",
       " 997,\n",
       " 1009,\n",
       " 1013,\n",
       " 1019,\n",
       " 1021,\n",
       " 1031,\n",
       " 1033,\n",
       " 1039,\n",
       " 1049,\n",
       " 1051,\n",
       " 1061,\n",
       " 1063,\n",
       " 1069,\n",
       " 1087,\n",
       " 1091,\n",
       " 1093,\n",
       " 1097,\n",
       " 1103,\n",
       " 1109,\n",
       " 1117,\n",
       " 1123,\n",
       " 1129,\n",
       " 1151,\n",
       " 1153,\n",
       " 1163,\n",
       " 1171,\n",
       " 1181,\n",
       " 1187,\n",
       " 1193,\n",
       " 1201,\n",
       " 1213,\n",
       " 1217,\n",
       " 1223,\n",
       " 1229,\n",
       " 1231,\n",
       " 1237,\n",
       " 1249,\n",
       " 1259,\n",
       " 1277,\n",
       " 1279,\n",
       " 1283,\n",
       " 1289,\n",
       " 1291,\n",
       " 1297,\n",
       " 1301,\n",
       " 1303,\n",
       " 1307,\n",
       " 1319,\n",
       " 1321,\n",
       " 1327,\n",
       " 1361,\n",
       " 1367,\n",
       " 1373,\n",
       " 1381,\n",
       " 1399,\n",
       " 1409,\n",
       " 1423,\n",
       " 1427,\n",
       " 1429,\n",
       " 1433,\n",
       " 1439,\n",
       " 1447,\n",
       " 1451,\n",
       " 1453,\n",
       " 1459,\n",
       " 1471,\n",
       " 1481,\n",
       " 1483,\n",
       " 1487,\n",
       " 1489,\n",
       " 1493,\n",
       " 1499,\n",
       " 1511,\n",
       " 1523,\n",
       " 1531,\n",
       " 1543,\n",
       " 1549,\n",
       " 1553,\n",
       " 1559,\n",
       " 1567,\n",
       " 1571,\n",
       " 1579,\n",
       " 1583,\n",
       " 1597,\n",
       " 1601,\n",
       " 1607,\n",
       " 1609,\n",
       " 1613,\n",
       " 1619,\n",
       " 1621,\n",
       " 1627,\n",
       " 1637,\n",
       " 1657,\n",
       " 1663,\n",
       " 1667,\n",
       " 1669,\n",
       " 1693,\n",
       " 1697,\n",
       " 1699,\n",
       " 1709,\n",
       " 1721,\n",
       " 1723,\n",
       " 1733,\n",
       " 1741,\n",
       " 1747,\n",
       " 1753,\n",
       " 1759,\n",
       " 1777,\n",
       " 1783,\n",
       " 1787,\n",
       " 1789,\n",
       " 1801,\n",
       " 1811,\n",
       " 1823,\n",
       " 1831,\n",
       " 1847,\n",
       " 1861,\n",
       " 1867,\n",
       " 1871,\n",
       " 1873,\n",
       " 1877,\n",
       " 1879,\n",
       " 1889,\n",
       " 1901,\n",
       " 1907,\n",
       " 1913,\n",
       " 1931,\n",
       " 1933,\n",
       " 1949,\n",
       " 1951,\n",
       " 1973,\n",
       " 1979,\n",
       " 1987,\n",
       " 1993,\n",
       " 1997,\n",
       " 1999,\n",
       " 2003,\n",
       " 2011,\n",
       " 2017,\n",
       " 2027,\n",
       " 2029,\n",
       " 2039,\n",
       " 2053,\n",
       " 2063,\n",
       " 2069,\n",
       " 2081,\n",
       " 2083,\n",
       " 2087,\n",
       " 2089,\n",
       " 2099,\n",
       " 2111,\n",
       " 2113,\n",
       " 2129,\n",
       " 2131,\n",
       " 2137,\n",
       " 2141,\n",
       " 2143,\n",
       " 2153,\n",
       " 2161,\n",
       " 2179,\n",
       " 2203,\n",
       " 2207,\n",
       " 2213,\n",
       " 2221,\n",
       " 2237,\n",
       " 2239,\n",
       " 2243,\n",
       " 2251,\n",
       " 2267,\n",
       " 2269,\n",
       " 2273,\n",
       " 2281,\n",
       " 2287,\n",
       " 2293,\n",
       " 2297,\n",
       " 2309,\n",
       " 2311,\n",
       " 2333,\n",
       " 2339,\n",
       " 2341,\n",
       " 2347,\n",
       " 2351,\n",
       " 2357,\n",
       " 2371,\n",
       " 2377,\n",
       " 2381,\n",
       " 2383,\n",
       " 2389,\n",
       " 2393,\n",
       " 2399,\n",
       " 2411,\n",
       " 2417,\n",
       " 2423,\n",
       " 2437,\n",
       " 2441,\n",
       " 2447,\n",
       " 2459,\n",
       " 2467,\n",
       " 2473,\n",
       " 2477,\n",
       " 2503,\n",
       " 2521,\n",
       " 2531,\n",
       " 2539,\n",
       " 2543,\n",
       " 2549,\n",
       " 2551,\n",
       " 2557,\n",
       " 2579,\n",
       " 2591,\n",
       " 2593,\n",
       " 2609,\n",
       " 2617,\n",
       " 2621,\n",
       " 2633,\n",
       " 2647,\n",
       " 2657,\n",
       " 2659,\n",
       " 2663,\n",
       " 2671,\n",
       " 2677,\n",
       " 2683,\n",
       " 2687,\n",
       " 2689,\n",
       " 2693,\n",
       " 2699,\n",
       " 2707,\n",
       " 2711,\n",
       " 2713,\n",
       " 2719,\n",
       " 2729,\n",
       " 2731,\n",
       " 2741,\n",
       " 2749,\n",
       " 2753,\n",
       " 2767,\n",
       " 2777,\n",
       " 2789,\n",
       " 2791,\n",
       " 2797,\n",
       " 2801,\n",
       " 2803,\n",
       " 2819,\n",
       " 2833,\n",
       " 2837,\n",
       " 2843,\n",
       " 2851,\n",
       " 2857,\n",
       " 2861,\n",
       " 2879,\n",
       " 2887,\n",
       " 2897,\n",
       " 2903,\n",
       " 2909,\n",
       " 2917,\n",
       " 2927,\n",
       " 2939,\n",
       " 2953,\n",
       " 2957,\n",
       " 2963,\n",
       " 2969,\n",
       " 2971,\n",
       " 2999,\n",
       " 3001,\n",
       " 3011,\n",
       " 3019,\n",
       " 3023,\n",
       " 3037,\n",
       " 3041,\n",
       " 3049,\n",
       " 3061,\n",
       " 3067,\n",
       " 3079,\n",
       " 3083,\n",
       " 3089,\n",
       " 3109,\n",
       " 3119,\n",
       " 3121,\n",
       " 3137,\n",
       " 3163,\n",
       " 3167,\n",
       " 3169,\n",
       " 3181,\n",
       " 3187,\n",
       " 3191,\n",
       " 3203,\n",
       " 3209,\n",
       " 3217,\n",
       " 3221,\n",
       " 3229,\n",
       " 3251,\n",
       " 3253,\n",
       " 3257,\n",
       " 3259,\n",
       " 3271,\n",
       " 3299,\n",
       " 3301,\n",
       " 3307,\n",
       " 3313,\n",
       " 3319,\n",
       " 3323,\n",
       " 3329,\n",
       " 3331,\n",
       " 3343,\n",
       " 3347,\n",
       " 3359,\n",
       " 3361,\n",
       " 3371,\n",
       " 3373,\n",
       " 3389,\n",
       " 3391,\n",
       " 3407,\n",
       " 3413,\n",
       " 3433,\n",
       " 3449,\n",
       " 3457,\n",
       " 3461,\n",
       " 3463,\n",
       " 3467,\n",
       " 3469,\n",
       " 3491,\n",
       " 3499,\n",
       " 3511,\n",
       " 3517,\n",
       " 3527,\n",
       " 3529,\n",
       " 3533,\n",
       " 3539,\n",
       " 3541,\n",
       " 3547,\n",
       " 3557,\n",
       " 3559,\n",
       " 3571,\n",
       " 3581,\n",
       " 3583,\n",
       " 3593,\n",
       " 3607,\n",
       " 3613,\n",
       " 3617,\n",
       " 3623,\n",
       " 3631,\n",
       " 3637,\n",
       " 3643,\n",
       " 3659,\n",
       " 3671,\n",
       " 3673,\n",
       " 3677,\n",
       " 3691,\n",
       " 3697,\n",
       " 3701,\n",
       " 3709,\n",
       " 3719,\n",
       " 3727,\n",
       " 3733,\n",
       " 3739,\n",
       " 3761,\n",
       " 3767,\n",
       " 3769,\n",
       " 3779,\n",
       " 3793,\n",
       " 3797,\n",
       " 3803,\n",
       " 3821,\n",
       " 3823,\n",
       " 3833,\n",
       " 3847,\n",
       " 3851,\n",
       " 3853,\n",
       " 3863,\n",
       " 3877,\n",
       " 3881,\n",
       " 3889,\n",
       " 3907,\n",
       " 3911,\n",
       " 3917,\n",
       " 3919,\n",
       " 3923,\n",
       " 3929,\n",
       " 3931,\n",
       " 3943,\n",
       " 3947,\n",
       " 3967,\n",
       " 3989,\n",
       " 4001,\n",
       " 4003,\n",
       " 4007,\n",
       " 4013,\n",
       " 4019,\n",
       " 4021,\n",
       " 4027,\n",
       " 4049,\n",
       " 4051,\n",
       " 4057,\n",
       " 4073,\n",
       " 4079,\n",
       " 4091,\n",
       " 4093,\n",
       " 4099,\n",
       " 4111,\n",
       " 4127,\n",
       " 4129,\n",
       " 4133,\n",
       " 4139,\n",
       " 4153,\n",
       " 4157,\n",
       " 4159,\n",
       " 4177,\n",
       " 4201,\n",
       " 4211,\n",
       " 4217,\n",
       " 4219,\n",
       " 4229,\n",
       " 4231,\n",
       " 4241,\n",
       " 4243,\n",
       " 4253,\n",
       " 4259,\n",
       " 4261,\n",
       " 4271,\n",
       " 4273,\n",
       " 4283,\n",
       " 4289,\n",
       " 4297,\n",
       " 4327,\n",
       " 4337,\n",
       " 4339,\n",
       " 4349,\n",
       " 4357,\n",
       " 4363,\n",
       " 4373,\n",
       " 4391,\n",
       " 4397,\n",
       " 4409,\n",
       " 4421,\n",
       " 4423,\n",
       " 4441,\n",
       " 4447,\n",
       " 4451,\n",
       " 4457,\n",
       " 4463,\n",
       " 4481,\n",
       " 4483,\n",
       " 4493,\n",
       " 4507,\n",
       " 4513,\n",
       " 4517,\n",
       " 4519,\n",
       " 4523,\n",
       " 4547,\n",
       " 4549,\n",
       " 4561,\n",
       " 4567,\n",
       " 4583,\n",
       " 4591,\n",
       " 4597,\n",
       " 4603,\n",
       " 4621,\n",
       " 4637,\n",
       " 4639,\n",
       " 4643,\n",
       " 4649,\n",
       " 4651,\n",
       " 4657,\n",
       " 4663,\n",
       " 4673,\n",
       " 4679,\n",
       " 4691,\n",
       " 4703,\n",
       " 4721,\n",
       " 4723,\n",
       " 4729,\n",
       " 4733,\n",
       " 4751,\n",
       " 4759,\n",
       " 4783,\n",
       " 4787,\n",
       " 4789,\n",
       " 4793,\n",
       " 4799,\n",
       " 4801,\n",
       " 4813,\n",
       " 4817,\n",
       " 4831,\n",
       " 4861,\n",
       " 4871,\n",
       " 4877,\n",
       " 4889,\n",
       " 4903,\n",
       " 4909,\n",
       " 4919,\n",
       " 4931,\n",
       " 4933,\n",
       " 4937,\n",
       " 4943,\n",
       " 4951,\n",
       " 4957,\n",
       " 4967,\n",
       " 4969,\n",
       " 4973,\n",
       " 4987,\n",
       " 4993,\n",
       " 4999,\n",
       " 5003,\n",
       " 5009,\n",
       " 5011,\n",
       " 5021,\n",
       " 5023,\n",
       " 5039,\n",
       " 5051,\n",
       " 5059,\n",
       " 5077,\n",
       " 5081,\n",
       " 5087,\n",
       " 5099,\n",
       " 5101,\n",
       " 5107,\n",
       " 5113,\n",
       " 5119,\n",
       " 5147,\n",
       " 5153,\n",
       " 5167,\n",
       " 5171,\n",
       " 5179,\n",
       " 5189,\n",
       " 5197,\n",
       " 5209,\n",
       " 5227,\n",
       " 5231,\n",
       " 5233,\n",
       " 5237,\n",
       " 5261,\n",
       " 5273,\n",
       " 5279,\n",
       " 5281,\n",
       " 5297,\n",
       " 5303,\n",
       " 5309,\n",
       " 5323,\n",
       " 5333,\n",
       " 5347,\n",
       " 5351,\n",
       " 5381,\n",
       " 5387,\n",
       " 5393,\n",
       " 5399,\n",
       " 5407,\n",
       " 5413,\n",
       " 5417,\n",
       " 5419,\n",
       " 5431,\n",
       " 5437,\n",
       " 5441,\n",
       " 5443,\n",
       " 5449,\n",
       " 5471,\n",
       " 5477,\n",
       " 5479,\n",
       " 5483,\n",
       " 5501,\n",
       " 5503,\n",
       " 5507,\n",
       " 5519,\n",
       " 5521,\n",
       " 5527,\n",
       " 5531,\n",
       " 5557,\n",
       " 5563,\n",
       " 5569,\n",
       " 5573,\n",
       " 5581,\n",
       " 5591,\n",
       " 5623,\n",
       " 5639,\n",
       " 5641,\n",
       " 5647,\n",
       " 5651,\n",
       " 5653,\n",
       " 5657,\n",
       " 5659,\n",
       " 5669,\n",
       " 5683,\n",
       " 5689,\n",
       " 5693,\n",
       " 5701,\n",
       " 5711,\n",
       " 5717,\n",
       " 5737,\n",
       " 5741,\n",
       " 5743,\n",
       " 5749,\n",
       " 5779,\n",
       " 5783,\n",
       " 5791,\n",
       " 5801,\n",
       " 5807,\n",
       " 5813,\n",
       " 5821,\n",
       " 5827,\n",
       " 5839,\n",
       " 5843,\n",
       " 5849,\n",
       " 5851,\n",
       " 5857,\n",
       " 5861,\n",
       " 5867,\n",
       " 5869,\n",
       " 5879,\n",
       " 5881,\n",
       " 5897,\n",
       " 5903,\n",
       " 5923,\n",
       " 5927,\n",
       " 5939,\n",
       " 5953,\n",
       " 5981,\n",
       " 5987,\n",
       " 6007,\n",
       " 6011,\n",
       " 6029,\n",
       " 6037,\n",
       " 6043,\n",
       " 6047,\n",
       " 6053,\n",
       " 6067,\n",
       " 6073,\n",
       " 6079,\n",
       " 6089,\n",
       " 6091,\n",
       " 6101,\n",
       " 6113,\n",
       " 6121,\n",
       " 6131,\n",
       " 6133,\n",
       " 6143,\n",
       " 6151,\n",
       " 6163,\n",
       " 6173,\n",
       " 6197,\n",
       " 6199,\n",
       " 6203,\n",
       " 6211,\n",
       " 6217,\n",
       " 6221,\n",
       " 6229,\n",
       " 6247,\n",
       " 6257,\n",
       " 6263,\n",
       " 6269,\n",
       " 6271,\n",
       " 6277,\n",
       " 6287,\n",
       " 6299,\n",
       " 6301,\n",
       " 6311,\n",
       " 6317,\n",
       " 6323,\n",
       " 6329,\n",
       " 6337,\n",
       " 6343,\n",
       " 6353,\n",
       " 6359,\n",
       " 6361,\n",
       " 6367,\n",
       " 6373,\n",
       " 6379,\n",
       " 6389,\n",
       " 6397,\n",
       " 6421,\n",
       " 6427,\n",
       " 6449,\n",
       " 6451,\n",
       " 6469,\n",
       " 6473,\n",
       " 6481,\n",
       " 6491,\n",
       " 6521,\n",
       " 6529,\n",
       " 6547,\n",
       " 6551,\n",
       " 6553,\n",
       " 6563,\n",
       " 6569,\n",
       " 6571,\n",
       " 6577,\n",
       " 6581,\n",
       " 6599,\n",
       " 6607,\n",
       " 6619,\n",
       " 6637,\n",
       " 6653,\n",
       " 6659,\n",
       " 6661,\n",
       " 6673,\n",
       " 6679,\n",
       " 6689,\n",
       " 6691,\n",
       " 6701,\n",
       " 6703,\n",
       " 6709,\n",
       " 6719,\n",
       " 6733,\n",
       " 6737,\n",
       " 6761,\n",
       " 6763,\n",
       " 6779,\n",
       " 6781,\n",
       " 6791,\n",
       " 6793,\n",
       " 6803,\n",
       " 6823,\n",
       " 6827,\n",
       " 6829,\n",
       " 6833,\n",
       " 6841,\n",
       " 6857,\n",
       " 6863,\n",
       " 6869,\n",
       " 6871,\n",
       " 6883,\n",
       " 6899,\n",
       " 6907,\n",
       " 6911,\n",
       " 6917,\n",
       " 6947,\n",
       " 6949,\n",
       " 6959,\n",
       " 6961,\n",
       " 6967,\n",
       " 6971,\n",
       " 6977,\n",
       " 6983,\n",
       " 6991,\n",
       " 6997,\n",
       " 7001,\n",
       " 7013,\n",
       " 7019,\n",
       " 7027,\n",
       " 7039,\n",
       " 7043,\n",
       " 7057,\n",
       " 7069,\n",
       " 7079,\n",
       " 7103,\n",
       " 7109,\n",
       " 7121,\n",
       " 7127,\n",
       " 7129,\n",
       " 7151,\n",
       " 7159,\n",
       " 7177,\n",
       " 7187,\n",
       " 7193,\n",
       " 7207,\n",
       " 7211,\n",
       " 7213,\n",
       " 7219,\n",
       " 7229,\n",
       " 7237,\n",
       " 7243,\n",
       " 7247,\n",
       " 7253,\n",
       " 7283,\n",
       " 7297,\n",
       " 7307,\n",
       " 7309,\n",
       " 7321,\n",
       " 7331,\n",
       " 7333,\n",
       " 7349,\n",
       " 7351,\n",
       " 7369,\n",
       " 7393,\n",
       " 7411,\n",
       " 7417,\n",
       " 7433,\n",
       " 7451,\n",
       " 7457,\n",
       " 7459,\n",
       " 7477,\n",
       " 7481,\n",
       " 7487,\n",
       " 7489,\n",
       " 7499,\n",
       " 7507,\n",
       " 7517,\n",
       " 7523,\n",
       " 7529,\n",
       " 7537,\n",
       " 7541,\n",
       " 7547,\n",
       " 7549,\n",
       " 7559,\n",
       " 7561,\n",
       " 7573,\n",
       " 7577,\n",
       " 7583,\n",
       " 7589,\n",
       " 7591,\n",
       " 7603,\n",
       " 7607,\n",
       " 7621,\n",
       " 7639,\n",
       " 7643,\n",
       " 7649,\n",
       " 7669,\n",
       " 7673,\n",
       " 7681,\n",
       " 7687,\n",
       " 7691,\n",
       " 7699,\n",
       " 7703,\n",
       " 7717,\n",
       " 7723,\n",
       " 7727,\n",
       " 7741,\n",
       " 7753,\n",
       " 7757,\n",
       " 7759,\n",
       " 7789,\n",
       " 7793,\n",
       " 7817,\n",
       " 7823,\n",
       " 7829,\n",
       " 7841,\n",
       " 7853,\n",
       " 7867,\n",
       " 7873,\n",
       " 7877,\n",
       " 7879,\n",
       " 7883,\n",
       " 7901,\n",
       " 7907,\n",
       " 7919,\n",
       " ...]"
      ]
     },
     "execution_count": 45,
     "metadata": {},
     "output_type": "execute_result"
    }
   ],
   "source": [
    "sieve(1000000)"
   ]
  },
  {
   "cell_type": "markdown",
   "metadata": {
    "slideshow": {
     "slide_type": "slide"
    }
   },
   "source": [
    "# Question\n",
    "\n",
    "- Why can't we use `for` in `sieve`? But.. why can we use for in `delmults`? \n",
    "\n",
    "- Is there any other more efficient solution?"
   ]
  },
  {
   "cell_type": "code",
   "execution_count": 46,
   "metadata": {
    "slideshow": {
     "slide_type": "slide"
    }
   },
   "outputs": [
    {
     "data": {
      "text/plain": [
       "[2, 3, 5, 7]"
      ]
     },
     "execution_count": 46,
     "metadata": {},
     "output_type": "execute_result"
    }
   ],
   "source": [
    "from math import sqrt\n",
    "\n",
    "def sieve2(n):\n",
    "    \n",
    "    sievelst = [ True ] * (n+1)\n",
    "    sievelst[0:2] = [ False, False ]\n",
    "    \n",
    "    for i in range(2, int(sqrt(n)) + 1):\n",
    "        for k in range(i * i, n+1, i):\n",
    "            sievelst[k] = False\n",
    "    \n",
    "    return [ i for i in range(2, n+1) if sievelst[i] ]\n",
    "\n",
    "sieve2(10)"
   ]
  },
  {
   "cell_type": "markdown",
   "metadata": {
    "slideshow": {
     "slide_type": "slide"
    }
   },
   "source": [
    "# Question\n",
    "\n",
    "Which of these two solutions is the most efficient one?"
   ]
  },
  {
   "cell_type": "code",
   "execution_count": 47,
   "metadata": {
    "slideshow": {
     "slide_type": "slide"
    }
   },
   "outputs": [
    {
     "name": "stdout",
     "output_type": "stream",
     "text": [
      "CPU times: user 642 µs, sys: 0 ns, total: 642 µs\n",
      "Wall time: 658 µs\n",
      "\n",
      "CPU times: user 278 µs, sys: 14 µs, total: 292 µs\n",
      "Wall time: 297 µs\n",
      "\n"
     ]
    }
   ],
   "source": [
    "%time sieve(1000)\n",
    "\n",
    "print()\n",
    "\n",
    "%time sieve2(1000)\n",
    "\n",
    "print()"
   ]
  },
  {
   "cell_type": "code",
   "execution_count": 48,
   "metadata": {},
   "outputs": [
    {
     "name": "stdout",
     "output_type": "stream",
     "text": [
      "peak memory: 49.59 MiB, increment: 0.28 MiB\n",
      "\n",
      "peak memory: 49.61 MiB, increment: 0.03 MiB\n",
      "\n"
     ]
    }
   ],
   "source": [
    "%memit sieve(1000)\n",
    "\n",
    "print()\n",
    "\n",
    "%memit sieve2(1000)\n",
    "\n",
    "print()"
   ]
  },
  {
   "cell_type": "markdown",
   "metadata": {
    "slideshow": {
     "slide_type": "slide"
    }
   },
   "source": [
    "# Search Algorithms\n",
    "\n",
    "Searching for an element in a **list** is one of the most common operations over lists (actually, over any iterable). Essentially, give a list `l` we may want to know whether value `x` is in the list. \n",
    "\n",
    "Obviously, we can use `in`, but let's understand what is going on under the hood. "
   ]
  },
  {
   "cell_type": "code",
   "execution_count": 49,
   "metadata": {
    "slideshow": {
     "slide_type": "slide"
    }
   },
   "outputs": [
    {
     "data": {
      "text/plain": [
       "True"
      ]
     },
     "execution_count": 49,
     "metadata": {},
     "output_type": "execute_result"
    }
   ],
   "source": [
    "def linearsearch(l, x):\n",
    "    for i in l:\n",
    "        if i == x:\n",
    "            return True\n",
    "    return False\n",
    "\n",
    "linearsearch([1,2,3], 3)"
   ]
  },
  {
   "cell_type": "code",
   "execution_count": 30,
   "metadata": {
    "slideshow": {
     "slide_type": "slide"
    }
   },
   "outputs": [
    {
     "data": {
      "text/plain": [
       "1"
      ]
     },
     "execution_count": 30,
     "metadata": {},
     "output_type": "execute_result"
    }
   ],
   "source": [
    "def linearsearch(l, x):\n",
    "    for i in range(len(l)):\n",
    "        if l[i] == x:\n",
    "            return i\n",
    "    return None\n",
    "\n",
    "linearsearch([1,2,3], 2)"
   ]
  },
  {
   "cell_type": "markdown",
   "metadata": {
    "slideshow": {
     "slide_type": "slide"
    }
   },
   "source": [
    "# Can we do better?\n",
    "\n",
    "Yes, we can! \n",
    "\n",
    "In an ordered list, we can do something that is called binary search. \n",
    "\n",
    "![binary](imgs/binary_search.png)"
   ]
  },
  {
   "cell_type": "code",
   "execution_count": 31,
   "metadata": {
    "slideshow": {
     "slide_type": "slide"
    }
   },
   "outputs": [
    {
     "data": {
      "text/plain": [
       "2"
      ]
     },
     "execution_count": 31,
     "metadata": {},
     "output_type": "execute_result"
    }
   ],
   "source": [
    "def binsearch(l, x):\n",
    "    left = 0\n",
    "    right = len(l) - 1\n",
    "    \n",
    "    while left <= right:\n",
    "        mid = left + (right - left)//2\n",
    "        if x == l[mid]:\n",
    "            return mid\n",
    "        elif x > l[mid]:\n",
    "            left = mid + 1\n",
    "        else:\n",
    "            right = mid - 1\n",
    "    return None\n",
    "\n",
    "binsearch([1,2,3], 3)"
   ]
  },
  {
   "cell_type": "markdown",
   "metadata": {
    "slideshow": {
     "slide_type": "slide"
    }
   },
   "source": [
    "# Ehmm.... \n",
    "\n",
    "- Does this mean that we should always sort a list before searching for an element ?\n",
    "\n",
    "- Well, not quite! Sorting is an expensive operation. In general, sorting is more _expensive_ than the linear search, and keeping a list sorted is also expensive. \n",
    "\n",
    "- However, if the number of searches is much higher than the number of changes, then it pays off to first sort and then to the binary search. "
   ]
  },
  {
   "cell_type": "markdown",
   "metadata": {
    "slideshow": {
     "slide_type": "slide"
    }
   },
   "source": [
    "# Sorting Algorithms\n",
    "\n",
    "There are several sorting algorithms. Python offers a couple of functions to sort lists (or tuples). \n",
    "\n",
    "```\n",
    ">>> l = [1,8,21,4,1,8,9]\n",
    ">>> sorted(l)\n",
    "[1, 1, 4, 8, 8, 9, 21]\n",
    ">>> l\n",
    "[1, 8, 21, 4, 1, 8, 9]\n",
    ">>> l.sort()\n",
    ">>> l\n",
    "[1, 1, 4, 8, 8, 9, 21]\n",
    ">>>\n",
    "```"
   ]
  },
  {
   "cell_type": "code",
   "execution_count": 54,
   "metadata": {
    "slideshow": {
     "slide_type": "slide"
    }
   },
   "outputs": [
    {
     "name": "stdout",
     "output_type": "stream",
     "text": [
      "[1, 1, 4, 8, 8, 9, 21]\n"
     ]
    }
   ],
   "source": [
    "l = [1,8,21,4,1,8,9]\n",
    "l = sorted(l)\n",
    "print(l)"
   ]
  },
  {
   "cell_type": "code",
   "execution_count": 55,
   "metadata": {
    "slideshow": {
     "slide_type": "slide"
    }
   },
   "outputs": [
    {
     "name": "stdout",
     "output_type": "stream",
     "text": [
      "[1, 1, 4, 8, 8, 9, 21]\n"
     ]
    }
   ],
   "source": [
    "[1, 8, 21, 4, 1, 8, 9]\n",
    "l.sort()\n",
    "print(l)"
   ]
  },
  {
   "cell_type": "code",
   "execution_count": 28,
   "metadata": {
    "slideshow": {
     "slide_type": "slide"
    }
   },
   "outputs": [
    {
     "data": {
      "text/plain": [
       "[21, 9, 8, 8, 4, 1, 1]"
      ]
     },
     "execution_count": 28,
     "metadata": {},
     "output_type": "execute_result"
    }
   ],
   "source": [
    "[1, 8, 21, 4, 1, 8, 9]\n",
    "l.sort(reverse=True)\n",
    "l"
   ]
  },
  {
   "cell_type": "code",
   "execution_count": 29,
   "metadata": {
    "slideshow": {
     "slide_type": "slide"
    }
   },
   "outputs": [],
   "source": [
    "def bubblesort(l):\n",
    "    changed = True\n",
    "    k = 0\n",
    "    while changed:\n",
    "        changed = False\n",
    "        for i in range(len(l) - 1, k, -1):\n",
    "            if l[i-1] > l[i]:\n",
    "                l[i], l[i-1] = l[i-1], l[i]\n",
    "                changed = True\n",
    "        k = k + 1"
   ]
  },
  {
   "cell_type": "code",
   "execution_count": 30,
   "metadata": {
    "slideshow": {
     "slide_type": "slide"
    }
   },
   "outputs": [],
   "source": [
    "def insertionsort(l):\n",
    "    for i in range(1, len(l)):\n",
    "        x = l[i]\n",
    "        j = i - 1\n",
    "        while j >= 0 and x < l[j]:\n",
    "            l[j+1] = l[j]\n",
    "            j = j - 1\n",
    "        l[j+1] = x"
   ]
  },
  {
   "cell_type": "code",
   "execution_count": 31,
   "metadata": {
    "slideshow": {
     "slide_type": "slide"
    }
   },
   "outputs": [],
   "source": [
    "import operator\n",
    "\n",
    "\n",
    "def merge(left, right, compare):\n",
    "    result = []\n",
    "    i, j = 0, 0\n",
    "    while i < len(left) and j < len(right):\n",
    "        if compare(left[i], right[j]):\n",
    "            result.append(left[i])\n",
    "            i += 1\n",
    "        else:\n",
    "            result.append(right[j])\n",
    "            j += 1\n",
    "    while i < len(left):\n",
    "        result.append(left[i])\n",
    "        i += 1\n",
    "    while j < len(right):\n",
    "        result.append(right[j])\n",
    "        j += 1\n",
    "    return result\n",
    "\n",
    "\n",
    "def mergeSort(L, compare=operator.lt):\n",
    "    if len(L) < 2:\n",
    "        return L[:]\n",
    "    else:\n",
    "        middle = int(len(L) / 2)\n",
    "        left = mergeSort(L[:middle], compare)\n",
    "        right = mergeSort(L[middle:], compare)\n",
    "        return merge(left, right, compare)"
   ]
  },
  {
   "cell_type": "markdown",
   "metadata": {
    "slideshow": {
     "slide_type": "slide"
    }
   },
   "source": [
    "# Python uses an algorithm called Timsort\n",
    "\n",
    "**Timsort** is a hybrid sorting algorithm, derived from **merge sort** and **insertion sort**, designed to perform well on many kinds of real-world data. \n",
    "\n",
    "It was invented by Tim Peters in 2002 for use in the Python programming language. The algorithm finds subsets of the data that are already ordered, and uses the subsets to sort the data more efficiently. This is done by merging an identified subset, called a run, with existing runs until certain criteria are fulfilled. Timsort has been Python's standard sorting algorithm since version 2.3. It is now also used to sort arrays in Java SE 7, and on the Android platform.\n",
    "\n",
    "- Python and complexity of operations over lists: https://wiki.python.org/moin/TimeComplexity"
   ]
  },
  {
   "cell_type": "code",
   "execution_count": null,
   "metadata": {
    "collapsed": true
   },
   "outputs": [],
   "source": []
  }
 ],
 "metadata": {
  "celltoolbar": "Slideshow",
  "kernelspec": {
   "display_name": "Python 3",
   "language": "python",
   "name": "python3"
  },
  "language_info": {
   "codemirror_mode": {
    "name": "ipython",
    "version": 3
   },
   "file_extension": ".py",
   "mimetype": "text/x-python",
   "name": "python",
   "nbconvert_exporter": "python",
   "pygments_lexer": "ipython3",
   "version": "3.6.1"
  }
 },
 "nbformat": 4,
 "nbformat_minor": 2
}
